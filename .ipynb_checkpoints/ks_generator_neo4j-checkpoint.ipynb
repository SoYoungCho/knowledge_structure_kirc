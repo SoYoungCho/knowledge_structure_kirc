{
 "cells": [
  {
   "cell_type": "markdown",
   "metadata": {},
   "source": [
    "# Knowledge Structure Graph Generator (Neo4J Implementation)"
   ]
  },
  {
   "cell_type": "markdown",
   "metadata": {},
   "source": [
    "## 1. DB연결"
   ]
  },
  {
   "cell_type": "code",
   "execution_count": 8,
   "metadata": {},
   "outputs": [],
   "source": [
    "import pymysql"
   ]
  },
  {
   "cell_type": "code",
   "execution_count": 9,
   "metadata": {},
   "outputs": [],
   "source": [
    "juso_db = pymysql.connect(\n",
    "    user='root', \n",
    "    passwd='1234', \n",
    "    host='127.0.0.1', \n",
    "    db='test', \n",
    "    charset='utf8'\n",
    ")"
   ]
  },
  {
   "cell_type": "code",
   "execution_count": 10,
   "metadata": {},
   "outputs": [],
   "source": [
    "cursor = juso_db.cursor(pymysql.cursors.DictCursor)"
   ]
  },
  {
   "cell_type": "code",
   "execution_count": 11,
   "metadata": {},
   "outputs": [],
   "source": [
    "sql = \"SELECT * FROM knowledge_structure;\"\n",
    "cursor.execute(sql)\n",
    "result = cursor.fetchall()"
   ]
  },
  {
   "cell_type": "code",
   "execution_count": 12,
   "metadata": {},
   "outputs": [
    {
     "name": "stdout",
     "output_type": "stream",
     "text": [
      "------------------------------지식구조 목록 리스트------------------------------\n",
      "   DOC_ID COT_MODE                                KNOWLEDGE_STRUCTURE\n",
      "0    hemp      scs  sourc,origin,1.0\\nsourc,millennium,1.0\\nsourc,...\n",
      "1      감초      scs  기간,한정,2.76\\n함량,가격,3.3\\n과도,부작용,3.54\\n상황,단맛,3.9\\...\n",
      "2     고양이      scs  수컷,암컷,2.05\\n동물,고양잇과,4.88\\n소리,야옹,5.25\\n고양이,암컷,5...\n",
      "3     광운대      scs  마찰전기,상대,1.31\\n에너지,수확,1.49\\n배터리,수명,1.63\\n수확,마찰전...\n",
      "4      대마      scs  표현,중독,2.18\\n마약,법률,3.06\\n약물,중독,3.26\\n마약,용어,3.4\\...\n",
      "5      선박      scs  어선,기능,1.38\\n동력,기능,2.25\\n선미,위치,3.41\\n우주선,운송,3.9...\n",
      "6    선박깨끗      scs  항공기,노력,1.0\\n해군,일종,1.0\\n해군,필요,1.0\\n군함,수명,1.0\\n군...\n",
      "7     아이유      scs  사랑,마음,2.02\\n사랑,의미,2.66\\n이야기,마음,2.71\\n작곡,작사,4.1...\n",
      "8     이명박      scs  회장,대표이사,2.39\\n대표이사,사장,3.08\\n재임,시절,3.5\\n대선,후보,3...\n",
      "9       차      scs  생활,손님,4.0\\n정치,권력,4.55\\n식당,생활,4.55\\n식당,손님,4.55\\...\n",
      "10      콩      scs  고기,짜파게티,2.53\\n품종,비린내,2.76\\n유발,남성,4.0\\n여성호르몬,에스...\n",
      "11     홍차      scs  홍차,영국,4.24\\n정산소종,기문,4.78\\n홍차,시작,4.87\\n베이스,브랜드,...\n",
      "12     황기      scs  치료,확장,1.0\\n독성,약재,1.0\\n회사,이상,1.0\\n인삼,가격,2.76\\n인...\n",
      "13     회의      scs    발표,생각,1.0\\n발표,대리,1.0\\n생각,대리,1.0\\n준비,클라이언트,1.0\\n\n"
     ]
    }
   ],
   "source": [
    "import pandas as pd\n",
    "\n",
    "result = pd.DataFrame(result)\n",
    "print(\"------------------------------지식구조 목록 리스트------------------------------\")\n",
    "print(result) #지식구조 목록 리스트화"
   ]
  },
  {
   "cell_type": "code",
   "execution_count": 13,
   "metadata": {},
   "outputs": [],
   "source": [
    "knowledge_structure = result['KNOWLEDGE_STRUCTURE']"
   ]
  },
  {
   "cell_type": "markdown",
   "metadata": {},
   "source": [
    "## 2. 데이터 선택"
   ]
  },
  {
   "cell_type": "markdown",
   "metadata": {},
   "source": [
    "#### 작성할 파일 제목 정하기\n",
    "* file_name = \"파일명\""
   ]
  },
  {
   "cell_type": "code",
   "execution_count": 14,
   "metadata": {},
   "outputs": [],
   "source": [
    "file_name = \"선박\""
   ]
  },
  {
   "cell_type": "markdown",
   "metadata": {},
   "source": [
    "#### 추출하기 원하는 인덱스 선정"
   ]
  },
  {
   "cell_type": "code",
   "execution_count": 15,
   "metadata": {},
   "outputs": [
    {
     "name": "stdout",
     "output_type": "stream",
     "text": [
      "어선,기능,1.38\n",
      "동력,기능,2.25\n",
      "선미,위치,3.41\n",
      "우주선,운송,3.96\n",
      "어선,군함,4.23\n",
      "선체,목선,4.95\n",
      "선체,위치,4.95\n",
      "군함,잠수함,4.99\n",
      "선박,건조,5.37\n",
      "선체,강선,5.38\n",
      "선박,선미,5.41\n",
      "선박,위치,5.41\n",
      "우주선,항공기,5.66\n",
      "선박,유닛,5.79\n",
      "선박,군함,5.81\n",
      "선박,범선,5.87\n",
      "비행기,항공기,6.0\n",
      "선박,운송,6.05\n",
      "선박,바다,6.16\n",
      "\n"
     ]
    }
   ],
   "source": [
    "data = knowledge_structure[5] #인덱스만 변경하기\n",
    "print(data)"
   ]
  },
  {
   "cell_type": "code",
   "execution_count": 16,
   "metadata": {},
   "outputs": [],
   "source": [
    "import re\n",
    "\n",
    "contents = re.split('\\n', data)\n",
    "contents = contents[:-1] #맨 끝 데이터는 공백"
   ]
  },
  {
   "cell_type": "code",
   "execution_count": 59,
   "metadata": {},
   "outputs": [
    {
     "data": {
      "text/plain": [
       "{'강선',\n",
       " '건조',\n",
       " '군함',\n",
       " '기능',\n",
       " '동력',\n",
       " '목선',\n",
       " '바다',\n",
       " '범선',\n",
       " '비행기',\n",
       " '선미',\n",
       " '선박',\n",
       " '선체',\n",
       " '어선',\n",
       " '우주선',\n",
       " '운송',\n",
       " '위치',\n",
       " '유닛',\n",
       " '잠수함',\n",
       " '항공기'}"
      ]
     },
     "execution_count": 59,
     "metadata": {},
     "output_type": "execute_result"
    }
   ],
   "source": [
    "#노드 추가\n",
    "node_list = list()\n",
    "node_set = set()\n",
    "for content in contents:\n",
    "    value = re.split(',', content) # ,단위로 구분하여 리스트화\n",
    "    node_set.add(value[0]) # 노드들을 셋에 추가하여 유니크 값만 저장\n",
    "    node_set.add(value[1]) \n",
    "node_list # 이중 리스트로 저장\n",
    "node_set # 노드 유니크 값 모음 "
   ]
  },
  {
   "cell_type": "markdown",
   "metadata": {},
   "source": [
    "## 3. Neo4J 연결"
   ]
  },
  {
   "cell_type": "code",
   "execution_count": 19,
   "metadata": {},
   "outputs": [],
   "source": [
    "from py2neo import Graph, Node, Relationship"
   ]
  },
  {
   "cell_type": "code",
   "execution_count": 20,
   "metadata": {},
   "outputs": [],
   "source": [
    "graph = Graph()\n",
    "graph"
   ]
  },
  {
   "cell_type": "code",
   "execution_count": 60,
   "metadata": {},
   "outputs": [],
   "source": [
    "n = len(node_set)"
   ]
  },
  {
   "cell_type": "code",
   "execution_count": 187,
   "metadata": {},
   "outputs": [
    {
     "data": {
      "text/plain": [
       "Node('Keyword', name='선미')"
      ]
     },
     "execution_count": 187,
     "metadata": {},
     "output_type": "execute_result"
    }
   ],
   "source": [
    "node_set = list(node_set) # 리스트로 변경\n",
    "nodes = [Node(\"Keyword\", name = str(i)) for i in node_set] \n",
    "nodes[0]"
   ]
  },
  {
   "cell_type": "code",
   "execution_count": 189,
   "metadata": {},
   "outputs": [
    {
     "data": {
      "text/plain": [
       "'선미'"
      ]
     },
     "execution_count": 189,
     "metadata": {},
     "output_type": "execute_result"
    }
   ],
   "source": [
    "node_set[1]"
   ]
  },
  {
   "cell_type": "code",
   "execution_count": 167,
   "metadata": {},
   "outputs": [
    {
     "data": {
      "text/plain": [
       "[Node('Keyword', name='동력'),\n",
       " Node('Keyword', name='선미'),\n",
       " Node('Keyword', name='유닛'),\n",
       " Node('Keyword', name='비행기'),\n",
       " Node('Keyword', name='범선'),\n",
       " Node('Keyword', name='어선'),\n",
       " Node('Keyword', name='군함'),\n",
       " Node('Keyword', name='강선'),\n",
       " Node('Keyword', name='건조'),\n",
       " Node('Keyword', name='바다'),\n",
       " Node('Keyword', name='위치'),\n",
       " Node('Keyword', name='우주선'),\n",
       " Node('Keyword', name='잠수함'),\n",
       " Node('Keyword', name='운송'),\n",
       " Node('Keyword', name='선체'),\n",
       " Node('Keyword', name='기능'),\n",
       " Node('Keyword', name='항공기'),\n",
       " Node('Keyword', name='선박'),\n",
       " Node('Keyword', name='목선')]"
      ]
     },
     "execution_count": 167,
     "metadata": {},
     "output_type": "execute_result"
    }
   ],
   "source": [
    "nodes # 각각의 이름을 가진 노드 생성"
   ]
  },
  {
   "cell_type": "code",
   "execution_count": 168,
   "metadata": {},
   "outputs": [
    {
     "data": {
      "text/plain": [
       "[['어선', '기능', '1.38'],\n",
       " ['동력', '기능', '2.25'],\n",
       " ['선미', '위치', '3.41'],\n",
       " ['우주선', '운송', '3.96'],\n",
       " ['어선', '군함', '4.23'],\n",
       " ['선체', '목선', '4.95'],\n",
       " ['선체', '위치', '4.95'],\n",
       " ['군함', '잠수함', '4.99'],\n",
       " ['선박', '건조', '5.37'],\n",
       " ['선체', '강선', '5.38'],\n",
       " ['선박', '선미', '5.41'],\n",
       " ['선박', '위치', '5.41'],\n",
       " ['우주선', '항공기', '5.66'],\n",
       " ['선박', '유닛', '5.79'],\n",
       " ['선박', '군함', '5.81'],\n",
       " ['선박', '범선', '5.87'],\n",
       " ['비행기', '항공기', '6.0'],\n",
       " ['선박', '운송', '6.05'],\n",
       " ['선박', '바다', '6.16']]"
      ]
     },
     "execution_count": 168,
     "metadata": {},
     "output_type": "execute_result"
    }
   ],
   "source": [
    "node_list"
   ]
  },
  {
   "cell_type": "code",
   "execution_count": 182,
   "metadata": {},
   "outputs": [
    {
     "data": {
      "text/plain": [
       "Node('Node', name='1')"
      ]
     },
     "execution_count": 182,
     "metadata": {},
     "output_type": "execute_result"
    }
   ],
   "source": [
    "nodes = [Node(\"Node\", name = str(i)) for i in range(n)]\n",
    "nodes[1]"
   ]
  },
  {
   "cell_type": "code",
   "execution_count": 190,
   "metadata": {},
   "outputs": [
    {
     "data": {
      "text/plain": [
       "[['어선', '기능', '1.38'],\n",
       " ['동력', '기능', '2.25'],\n",
       " ['선미', '위치', '3.41'],\n",
       " ['우주선', '운송', '3.96'],\n",
       " ['어선', '군함', '4.23'],\n",
       " ['선체', '목선', '4.95'],\n",
       " ['선체', '위치', '4.95'],\n",
       " ['군함', '잠수함', '4.99'],\n",
       " ['선박', '건조', '5.37'],\n",
       " ['선체', '강선', '5.38'],\n",
       " ['선박', '선미', '5.41'],\n",
       " ['선박', '위치', '5.41'],\n",
       " ['우주선', '항공기', '5.66'],\n",
       " ['선박', '유닛', '5.79'],\n",
       " ['선박', '군함', '5.81'],\n",
       " ['선박', '범선', '5.87'],\n",
       " ['비행기', '항공기', '6.0'],\n",
       " ['선박', '운송', '6.05'],\n",
       " ['선박', '바다', '6.16']]"
      ]
     },
     "execution_count": 190,
     "metadata": {},
     "output_type": "execute_result"
    }
   ],
   "source": [
    "node_list"
   ]
  },
  {
   "cell_type": "code",
   "execution_count": 195,
   "metadata": {},
   "outputs": [
    {
     "data": {
      "text/plain": [
       "['동력',\n",
       " '선미',\n",
       " '유닛',\n",
       " '비행기',\n",
       " '범선',\n",
       " '어선',\n",
       " '군함',\n",
       " '강선',\n",
       " '건조',\n",
       " '바다',\n",
       " '위치',\n",
       " '우주선',\n",
       " '잠수함',\n",
       " '운송',\n",
       " '선체',\n",
       " '기능',\n",
       " '항공기',\n",
       " '선박',\n",
       " '목선']"
      ]
     },
     "execution_count": 195,
     "metadata": {},
     "output_type": "execute_result"
    }
   ],
   "source": [
    "node_set"
   ]
  },
  {
   "cell_type": "code",
   "execution_count": 200,
   "metadata": {},
   "outputs": [
    {
     "name": "stdout",
     "output_type": "stream",
     "text": [
      "Transaction has been completed\n"
     ]
    }
   ],
   "source": [
    "tx = graph.begin()\n",
    "for i in node_list:\n",
    "    node1 = node_set.index(i[0])\n",
    "    node2 = node_set.index(i[1])\n",
    "    re = Relationship(nodes[node1], \"SIMILARITY\", nodes[node2], dist = i[2])\n",
    "    tx.create(re)\n",
    "tx.commit()\n",
    "\n",
    "if tx.finished() == False:\n",
    "    print(\"Transaction is still open\")\n",
    "else:\n",
    "    print(\"Transaction has been completed\")"
   ]
  },
  {
   "cell_type": "code",
   "execution_count": 201,
   "metadata": {},
   "outputs": [
    {
     "data": {
      "text/plain": [
       " n                                   \n",
       "-------------------------------------\n",
       " (_0:Keyword {name: '\\uc5b4\\uc120'}) \n",
       " (_1:Keyword {name: '\\uae30\\ub2a5'}) \n",
       " (_2:Keyword {name: '\\ub3d9\\ub825'}) "
      ]
     },
     "execution_count": 201,
     "metadata": {},
     "output_type": "execute_result"
    }
   ],
   "source": [
    "graph.run(\"MATCH(n) RETURN n\")"
   ]
  },
  {
   "cell_type": "code",
   "execution_count": null,
   "metadata": {},
   "outputs": [],
   "source": []
  }
 ],
 "metadata": {
  "kernelspec": {
   "display_name": "Python 3",
   "language": "python",
   "name": "python3"
  },
  "language_info": {
   "codemirror_mode": {
    "name": "ipython",
    "version": 3
   },
   "file_extension": ".py",
   "mimetype": "text/x-python",
   "name": "python",
   "nbconvert_exporter": "python",
   "pygments_lexer": "ipython3",
   "version": "3.8.5"
  }
 },
 "nbformat": 4,
 "nbformat_minor": 4
}
