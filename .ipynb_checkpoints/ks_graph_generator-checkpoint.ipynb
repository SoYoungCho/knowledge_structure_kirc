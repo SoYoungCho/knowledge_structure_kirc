{
 "cells": [
  {
   "cell_type": "markdown",
   "metadata": {},
   "source": [
    "# Knowledge Structure Graph Generator"
   ]
  },
  {
   "cell_type": "markdown",
   "metadata": {},
   "source": [
    "## 1. DB연결"
   ]
  },
  {
   "cell_type": "code",
   "execution_count": 1,
   "metadata": {},
   "outputs": [],
   "source": [
    "import pymysql"
   ]
  },
  {
   "cell_type": "code",
   "execution_count": 2,
   "metadata": {},
   "outputs": [],
   "source": [
    "juso_db = pymysql.connect(\n",
    "    user='root', \n",
    "    passwd='1234', \n",
    "    host='127.0.0.1', \n",
    "    db='test', \n",
    "    charset='utf8'\n",
    ")"
   ]
  },
  {
   "cell_type": "code",
   "execution_count": 3,
   "metadata": {},
   "outputs": [],
   "source": [
    "cursor = juso_db.cursor(pymysql.cursors.DictCursor)"
   ]
  },
  {
   "cell_type": "code",
   "execution_count": 4,
   "metadata": {},
   "outputs": [],
   "source": [
    "sql = \"SELECT * FROM knowledge_structure;\"\n",
    "cursor.execute(sql)\n",
    "result = cursor.fetchall()"
   ]
  },
  {
   "cell_type": "code",
   "execution_count": 5,
   "metadata": {},
   "outputs": [
    {
     "name": "stdout",
     "output_type": "stream",
     "text": [
      "------------------------------지식구조 목록 리스트------------------------------\n",
      "  DOC_ID COT_MODE                                KNOWLEDGE_STRUCTURE\n",
      "0   Hemp      scs  hemp,paper,5.7\\nus,varieti,5.76\\nhemp,us,5.78\\...\n",
      "1      차      scs  포함,식별자,1.01\\n문서,식별자,1.1\\n위키백과,식별자,1.18\\n녹차,청차,...\n",
      "2     차2      scs  홍차,청차,3.21\\n지역,해당,3.79\\n녹차,청차,3.86\\n시기,분류,4.44...\n",
      "3     햄프      scs  필요,확장,1.0\\n외부,링크,1.0\\n식별자,국가,1.0\\n식별자,과거,1.0\\n...\n"
     ]
    }
   ],
   "source": [
    "import pandas as pd\n",
    "\n",
    "result = pd.DataFrame(result)\n",
    "print(\"------------------------------지식구조 목록 리스트------------------------------\")\n",
    "print(result) #지식구조 목록 리스트화"
   ]
  },
  {
   "cell_type": "code",
   "execution_count": 6,
   "metadata": {},
   "outputs": [],
   "source": [
    "knowledge_structure = result['KNOWLEDGE_STRUCTURE']"
   ]
  },
  {
   "cell_type": "markdown",
   "metadata": {},
   "source": [
    "## 2. 데이터 선택"
   ]
  },
  {
   "cell_type": "code",
   "execution_count": 7,
   "metadata": {},
   "outputs": [
    {
     "name": "stdout",
     "output_type": "stream",
     "text": [
      "홍차,청차,3.21\n",
      "지역,해당,3.79\n",
      "녹차,청차,3.86\n",
      "시기,분류,4.44\n",
      "사용,경우,4.68\n",
      "방법,원래,4.85\n",
      "가공,분류,5.08\n",
      "경우,원래,5.3\n",
      "과정,위조,5.45\n",
      "녹차,일본,5.56\n",
      "청차,다음,5.59\n",
      "경우,가공,5.66\n",
      "방법,일본,5.69\n",
      "발효,위조,5.75\n",
      "발효,방법,5.77\n",
      "해당,원래,5.99\n",
      "중국,사용,6.0\n",
      "중국,차나무,6.23\n",
      "사용,차나무,6.23\n",
      "시대,분류,6.26\n",
      "\n"
     ]
    }
   ],
   "source": [
    "data = knowledge_structure[2] #인덱스만 변경하기\n",
    "print(data)"
   ]
  },
  {
   "cell_type": "code",
   "execution_count": 8,
   "metadata": {},
   "outputs": [],
   "source": [
    "import re\n",
    "\n",
    "contents = re.split('\\n', data)\n",
    "contents = contents[:-1] #맨 끝 데이터는 공백"
   ]
  },
  {
   "cell_type": "code",
   "execution_count": 9,
   "metadata": {},
   "outputs": [
    {
     "name": "stdout",
     "output_type": "stream",
     "text": [
      "['홍차', '청차', '3.21']\n",
      "['지역', '해당', '3.79']\n",
      "['녹차', '청차', '3.86']\n",
      "['시기', '분류', '4.44']\n",
      "['사용', '경우', '4.68']\n",
      "['방법', '원래', '4.85']\n",
      "['가공', '분류', '5.08']\n",
      "['경우', '원래', '5.3']\n",
      "['과정', '위조', '5.45']\n",
      "['녹차', '일본', '5.56']\n",
      "['청차', '다음', '5.59']\n",
      "['경우', '가공', '5.66']\n",
      "['방법', '일본', '5.69']\n",
      "['발효', '위조', '5.75']\n",
      "['발효', '방법', '5.77']\n",
      "['해당', '원래', '5.99']\n",
      "['중국', '사용', '6.0']\n",
      "['중국', '차나무', '6.23']\n",
      "['사용', '차나무', '6.23']\n",
      "['시대', '분류', '6.26']\n"
     ]
    }
   ],
   "source": [
    "#노드 추가\n",
    "for content in contents:\n",
    "    value = re.split(',', content) # ,단위로 구분하여 리스트화\n",
    "    print(value)"
   ]
  },
  {
   "cell_type": "markdown",
   "metadata": {},
   "source": [
    "## 3. Data JavaScript File 생성"
   ]
  },
  {
   "cell_type": "markdown",
   "metadata": {},
   "source": [
    "### 파일 2개 생성\n",
    "* keyword.js : data(nodes, edges)\n",
    "* keyword.html : graph"
   ]
  },
  {
   "cell_type": "markdown",
   "metadata": {},
   "source": [
    "### 01. keyword.js"
   ]
  },
  {
   "cell_type": "code",
   "execution_count": 51,
   "metadata": {},
   "outputs": [],
   "source": [
    "import networkx as nx"
   ]
  },
  {
   "cell_type": "code",
   "execution_count": 52,
   "metadata": {},
   "outputs": [],
   "source": [
    "G = nx.Graph()"
   ]
  },
  {
   "cell_type": "code",
   "execution_count": 53,
   "metadata": {},
   "outputs": [],
   "source": [
    "# 에지리스트를 그래프에 넣기 : 그래프에 입력된 노드 확인용\n",
    "for content in contents:\n",
    "    tmp = re.split(',', content)\n",
    "    G.add_edge(tmp[0], tmp[1], weight = tmp[2])"
   ]
  },
  {
   "cell_type": "code",
   "execution_count": 54,
   "metadata": {},
   "outputs": [],
   "source": [
    "# 파일 저장용 nodes, edges\n",
    "graph_nodes = \"var nodes = \"\n",
    "graph_edges = \"var edges = \"\n",
    "\n",
    "# 리스트 생성용\n",
    "num = 0\n",
    "nodes_list = []\n",
    "reverse_graph = dict()\n",
    "\n",
    "for name in G.nodes():\n",
    "    # 딕셔너리 1개씩 생성하여 넣기\n",
    "    tmp = dict()\n",
    "    tmp['id'] = num\n",
    "    tmp['label'] = name\n",
    "    nodes_list.append(tmp)   # {id: 0, label: 'hemp'}형태\n",
    "    \n",
    "    reverse_graph[name] = num   # {'hemp':0, 'cannabi':1}형태, 목적: 'hemp'검색시 바로 노드 번호 확인(편의성 목적)\n",
    "    num += 1"
   ]
  },
  {
   "cell_type": "code",
   "execution_count": 55,
   "metadata": {},
   "outputs": [
    {
     "name": "stdout",
     "output_type": "stream",
     "text": [
      "var nodes = [{'id': 0, 'label': '홍차'}, {'id': 1, 'label': '청차'}, {'id': 2, 'label': '지역'}, {'id': 3, 'label': '해당'}, {'id': 4, 'label': '녹차'}, {'id': 5, 'label': '시기'}, {'id': 6, 'label': '분류'}, {'id': 7, 'label': '사용'}, {'id': 8, 'label': '경우'}, {'id': 9, 'label': '방법'}, {'id': 10, 'label': '원래'}, {'id': 11, 'label': '가공'}, {'id': 12, 'label': '과정'}, {'id': 13, 'label': '위조'}, {'id': 14, 'label': '일본'}, {'id': 15, 'label': '다음'}, {'id': 16, 'label': '발효'}, {'id': 17, 'label': '중국'}, {'id': 18, 'label': '차나무'}, {'id': 19, 'label': '시대'}];\n"
     ]
    }
   ],
   "source": [
    "graph_nodes += str(nodes_list) + \";\"\n",
    "print(graph_nodes)"
   ]
  },
  {
   "cell_type": "code",
   "execution_count": 56,
   "metadata": {},
   "outputs": [
    {
     "name": "stdout",
     "output_type": "stream",
     "text": [
      "{'홍차': 0, '청차': 1, '지역': 2, '해당': 3, '녹차': 4, '시기': 5, '분류': 6, '사용': 7, '경우': 8, '방법': 9, '원래': 10, '가공': 11, '과정': 12, '위조': 13, '일본': 14, '다음': 15, '발효': 16, '중국': 17, '차나무': 18, '시대': 19}\n"
     ]
    }
   ],
   "source": [
    "print(reverse_graph) # graph_nodes를 뒤집어서 저장, 예를 들어  label명 : id명"
   ]
  },
  {
   "cell_type": "code",
   "execution_count": 57,
   "metadata": {},
   "outputs": [],
   "source": [
    "edges_list = []\n",
    "\n",
    "# edges는 {'hemp', 'cannabi', '3.21'}형태\n",
    "for edge in G.edges(data='weight'):\n",
    "    tmp = dict()\n",
    "    tmp['from']  = reverse_graph.get(edge[0])     # 'hemp'검색시 인덱스값\n",
    "    tmp['to']    = reverse_graph.get(edge[1])     # 'cannabi'검색시 인덱스값\n",
    "    tmp['label'] = edge[2]                        # 가중치 저장\n",
    "    tmp['value'] = round(7.0 - float(edge[2]), 2) # Edge의 크기를 가중치의 크기에 따라 변경(숫자가 클수록 두꺼움, 소수 둘째 자리까지)\n",
    "\n",
    "    edges_list.append(tmp)"
   ]
  },
  {
   "cell_type": "code",
   "execution_count": 58,
   "metadata": {},
   "outputs": [
    {
     "name": "stdout",
     "output_type": "stream",
     "text": [
      "var edges = [{'from': 0, 'to': 1, 'label': '3.21', 'value': 3.79}, {'from': 1, 'to': 4, 'label': '3.86', 'value': 3.14}, {'from': 1, 'to': 15, 'label': '5.59', 'value': 1.41}, {'from': 2, 'to': 3, 'label': '3.79', 'value': 3.21}, {'from': 3, 'to': 10, 'label': '5.99', 'value': 1.01}, {'from': 4, 'to': 14, 'label': '5.56', 'value': 1.44}, {'from': 5, 'to': 6, 'label': '4.44', 'value': 2.56}, {'from': 6, 'to': 11, 'label': '5.08', 'value': 1.92}, {'from': 6, 'to': 19, 'label': '6.26', 'value': 0.74}, {'from': 7, 'to': 8, 'label': '4.68', 'value': 2.32}, {'from': 7, 'to': 17, 'label': '6.0', 'value': 1.0}, {'from': 7, 'to': 18, 'label': '6.23', 'value': 0.77}, {'from': 8, 'to': 10, 'label': '5.3', 'value': 1.7}, {'from': 8, 'to': 11, 'label': '5.66', 'value': 1.34}, {'from': 9, 'to': 10, 'label': '4.85', 'value': 2.15}, {'from': 9, 'to': 14, 'label': '5.69', 'value': 1.31}, {'from': 9, 'to': 16, 'label': '5.77', 'value': 1.23}, {'from': 12, 'to': 13, 'label': '5.45', 'value': 1.55}, {'from': 13, 'to': 16, 'label': '5.75', 'value': 1.25}, {'from': 17, 'to': 18, 'label': '6.23', 'value': 0.77}];\n"
     ]
    }
   ],
   "source": [
    "graph_edges += str(edges_list) + \";\"\n",
    "print(graph_edges)"
   ]
  },
  {
   "cell_type": "code",
   "execution_count": 59,
   "metadata": {},
   "outputs": [],
   "source": [
    "graph_data = graph_nodes + \"\\n\\n\" + graph_edges"
   ]
  },
  {
   "cell_type": "code",
   "execution_count": 60,
   "metadata": {},
   "outputs": [
    {
     "name": "stdout",
     "output_type": "stream",
     "text": [
      "var nodes = [{'id': 0, 'label': '홍차'}, {'id': 1, 'label': '청차'}, {'id': 2, 'label': '지역'}, {'id': 3, 'label': '해당'}, {'id': 4, 'label': '녹차'}, {'id': 5, 'label': '시기'}, {'id': 6, 'label': '분류'}, {'id': 7, 'label': '사용'}, {'id': 8, 'label': '경우'}, {'id': 9, 'label': '방법'}, {'id': 10, 'label': '원래'}, {'id': 11, 'label': '가공'}, {'id': 12, 'label': '과정'}, {'id': 13, 'label': '위조'}, {'id': 14, 'label': '일본'}, {'id': 15, 'label': '다음'}, {'id': 16, 'label': '발효'}, {'id': 17, 'label': '중국'}, {'id': 18, 'label': '차나무'}, {'id': 19, 'label': '시대'}];\n",
      "\n",
      "var edges = [{'from': 0, 'to': 1, 'label': '3.21', 'value': 3.79}, {'from': 1, 'to': 4, 'label': '3.86', 'value': 3.14}, {'from': 1, 'to': 15, 'label': '5.59', 'value': 1.41}, {'from': 2, 'to': 3, 'label': '3.79', 'value': 3.21}, {'from': 3, 'to': 10, 'label': '5.99', 'value': 1.01}, {'from': 4, 'to': 14, 'label': '5.56', 'value': 1.44}, {'from': 5, 'to': 6, 'label': '4.44', 'value': 2.56}, {'from': 6, 'to': 11, 'label': '5.08', 'value': 1.92}, {'from': 6, 'to': 19, 'label': '6.26', 'value': 0.74}, {'from': 7, 'to': 8, 'label': '4.68', 'value': 2.32}, {'from': 7, 'to': 17, 'label': '6.0', 'value': 1.0}, {'from': 7, 'to': 18, 'label': '6.23', 'value': 0.77}, {'from': 8, 'to': 10, 'label': '5.3', 'value': 1.7}, {'from': 8, 'to': 11, 'label': '5.66', 'value': 1.34}, {'from': 9, 'to': 10, 'label': '4.85', 'value': 2.15}, {'from': 9, 'to': 14, 'label': '5.69', 'value': 1.31}, {'from': 9, 'to': 16, 'label': '5.77', 'value': 1.23}, {'from': 12, 'to': 13, 'label': '5.45', 'value': 1.55}, {'from': 13, 'to': 16, 'label': '5.75', 'value': 1.25}, {'from': 17, 'to': 18, 'label': '6.23', 'value': 0.77}];\n"
     ]
    }
   ],
   "source": [
    "print(graph_data)"
   ]
  },
  {
   "cell_type": "markdown",
   "metadata": {},
   "source": [
    "#### 작성할 파일 제목 정하기\n",
    "* file_name = \"파일명\""
   ]
  },
  {
   "cell_type": "code",
   "execution_count": 61,
   "metadata": {},
   "outputs": [],
   "source": [
    "file_name = \"차2\""
   ]
  },
  {
   "cell_type": "code",
   "execution_count": 62,
   "metadata": {},
   "outputs": [
    {
     "name": "stdout",
     "output_type": "stream",
     "text": [
      "차2.js 파일 생성 완료\n"
     ]
    }
   ],
   "source": [
    "f = open(\"./results/result_webgraph/data/\" + file_name + \".js\", 'w', encoding = 'utf8')\n",
    "f.write(graph_data)\n",
    "f.close()\n",
    "print(file_name + \".js 파일 생성 완료\")"
   ]
  },
  {
   "cell_type": "markdown",
   "metadata": {},
   "source": [
    "### 2. keyword.html"
   ]
  },
  {
   "cell_type": "code",
   "execution_count": 63,
   "metadata": {},
   "outputs": [],
   "source": [
    "html_top = \"\"\"\n",
    "<!doctype html>\n",
    "<html>\n",
    "<head>\n",
    "\t<title>Knowledge Structure</title>\n",
    "    \"\"\""
   ]
  },
  {
   "cell_type": "code",
   "execution_count": 64,
   "metadata": {},
   "outputs": [],
   "source": [
    "vis_location = \"\"\"<script type=\"text/javascript\" src=\"../../lib/drawing/vis.js\"></script>\"\"\""
   ]
  },
  {
   "cell_type": "code",
   "execution_count": 65,
   "metadata": {},
   "outputs": [],
   "source": [
    "js_location = \"\"\"<script src=\"../../results/result_webgraph/data/\"\"\" + file_name + \"\"\".js\" charset=\"utf-8\">\n",
    "    </script>\n",
    "    <style type=\"text/css\">#mynetwork \n",
    "    {width: 100%;height: 1000px;border: 1px solid lightgray;}</style>\n",
    "</head>\n",
    "<body>\n",
    "\"\"\""
   ]
  },
  {
   "cell_type": "code",
   "execution_count": 66,
   "metadata": {},
   "outputs": [],
   "source": [
    "title = \"\"\"<p> Cheonsol of Knowledge Structure.</p>\"\"\""
   ]
  },
  {
   "cell_type": "code",
   "execution_count": 67,
   "metadata": {},
   "outputs": [],
   "source": [
    "body = \"\"\"\n",
    "    <div id=\"mynetwork\"></div>\n",
    "\t<script type=\"text/javascript\">\n",
    "\t\tvar container = document.getElementById('mynetwork');\n",
    "\t\tvar data = { nodes: nodes, edges: edges }; \"\"\""
   ]
  },
  {
   "cell_type": "code",
   "execution_count": 68,
   "metadata": {},
   "outputs": [],
   "source": [
    "option = \"\"\"\n",
    "        var options = \n",
    "        { \"edges\": {\"smooth\": {\"forceDirection\": \"none\"}},\n",
    "        \"physics\": {\"barnesHut\": {\"centralGravity\": 0.5,\"springLength\": 305},\n",
    "        \"minVelocity\": 0.75}}; \"\"\""
   ]
  },
  {
   "cell_type": "code",
   "execution_count": 69,
   "metadata": {},
   "outputs": [],
   "source": [
    "bottom = \"\"\"var network = new vis.Network(container, data, options);\n",
    "\t</script>\n",
    "</body>\n",
    "</html>\n",
    "\"\"\""
   ]
  },
  {
   "cell_type": "code",
   "execution_count": 70,
   "metadata": {},
   "outputs": [],
   "source": [
    "html_text = html_top + vis_location + js_location + title + body + option + bottom"
   ]
  },
  {
   "cell_type": "code",
   "execution_count": 71,
   "metadata": {},
   "outputs": [
    {
     "data": {
      "text/plain": [
       "'\\n<!doctype html>\\n<html>\\n<head>\\n\\t<title>Knowledge Structure</title>\\n    <script type=\"text/javascript\" src=\"../../lib/drawing/vis.js\"></script><script src=\"../../results/result_webgraph/data/차2.js\" charset=\"utf-8\">\\n    </script>\\n    <style type=\"text/css\">#mynetwork \\n    {width: 100%;height: 1000px;border: 1px solid lightgray;}</style>\\n</head>\\n<body>\\n<p> Cheonsol of Knowledge Structure.</p>\\n    <div id=\"mynetwork\"></div>\\n\\t<script type=\"text/javascript\">\\n\\t\\tvar container = document.getElementById(\\'mynetwork\\');\\n\\t\\tvar data = { nodes: nodes, edges: edges }; \\n        var options = \\n        { \"edges\": {\"smooth\": {\"forceDirection\": \"none\"}},\\n        \"physics\": {\"barnesHut\": {\"centralGravity\": 0.5,\"springLength\": 305},\\n        \"minVelocity\": 0.75}}; var network = new vis.Network(container, data, options);\\n\\t</script>\\n</body>\\n</html>\\n'"
      ]
     },
     "execution_count": 71,
     "metadata": {},
     "output_type": "execute_result"
    }
   ],
   "source": [
    "html_text"
   ]
  },
  {
   "cell_type": "code",
   "execution_count": 72,
   "metadata": {},
   "outputs": [
    {
     "name": "stdout",
     "output_type": "stream",
     "text": [
      "차2.html 파일 생성 완료\n"
     ]
    }
   ],
   "source": [
    "html_file = open('./results/result_webgraph/' + file_name + '.html', 'w')\n",
    "html_file.write(html_text)\n",
    "html_file.close()\n",
    "print(file_name + \".html 파일 생성 완료\")"
   ]
  },
  {
   "cell_type": "code",
   "execution_count": null,
   "metadata": {},
   "outputs": [],
   "source": []
  }
 ],
 "metadata": {
  "kernelspec": {
   "display_name": "Python 3",
   "language": "python",
   "name": "python3"
  },
  "language_info": {
   "codemirror_mode": {
    "name": "ipython",
    "version": 3
   },
   "file_extension": ".py",
   "mimetype": "text/x-python",
   "name": "python",
   "nbconvert_exporter": "python",
   "pygments_lexer": "ipython3",
   "version": "3.6.10"
  }
 },
 "nbformat": 4,
 "nbformat_minor": 4
}
