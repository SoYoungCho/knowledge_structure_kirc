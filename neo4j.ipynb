{
 "cells": [
  {
   "cell_type": "code",
   "execution_count": 1,
   "metadata": {},
   "outputs": [
    {
     "name": "stdout",
     "output_type": "stream",
     "text": [
      "Collecting py2neo\n",
      "  Downloading py2neo-2020.1.1-py2.py3-none-any.whl (185 kB)\n",
      "Requirement already satisfied: urllib3 in c:\\users\\user\\anaconda3\\envs\\kse_env\\lib\\site-packages (from py2neo) (1.25.11)\n",
      "Requirement already satisfied: pygments>=2.0.0 in c:\\users\\user\\anaconda3\\envs\\kse_env\\lib\\site-packages (from py2neo) (2.7.2)\n",
      "Requirement already satisfied: cryptography in c:\\users\\user\\anaconda3\\envs\\kse_env\\lib\\site-packages (from py2neo) (3.2.1)\n",
      "Requirement already satisfied: pytz in c:\\users\\user\\anaconda3\\envs\\kse_env\\lib\\site-packages (from py2neo) (2020.4)\n",
      "Requirement already satisfied: packaging in c:\\users\\user\\anaconda3\\envs\\kse_env\\lib\\site-packages (from py2neo) (20.4)\n",
      "Requirement already satisfied: six>=1.15.0 in c:\\users\\user\\anaconda3\\envs\\kse_env\\lib\\site-packages (from py2neo) (1.15.0)\n",
      "Requirement already satisfied: certifi in c:\\users\\user\\anaconda3\\envs\\kse_env\\lib\\site-packages (from py2neo) (2020.12.5)\n",
      "Requirement already satisfied: cffi!=1.11.3,>=1.8 in c:\\users\\user\\anaconda3\\envs\\kse_env\\lib\\site-packages (from cryptography->py2neo) (1.14.4)\n",
      "Requirement already satisfied: six>=1.15.0 in c:\\users\\user\\anaconda3\\envs\\kse_env\\lib\\site-packages (from py2neo) (1.15.0)\n",
      "Requirement already satisfied: pycparser in c:\\users\\user\\anaconda3\\envs\\kse_env\\lib\\site-packages (from cffi!=1.11.3,>=1.8->cryptography->py2neo) (2.20)\n",
      "Collecting docker\n",
      "  Downloading docker-4.4.1-py2.py3-none-any.whl (146 kB)\n",
      "Requirement already satisfied: six>=1.15.0 in c:\\users\\user\\anaconda3\\envs\\kse_env\\lib\\site-packages (from py2neo) (1.15.0)\n",
      "Requirement already satisfied: pywin32==227 in c:\\users\\user\\anaconda3\\envs\\kse_env\\lib\\site-packages (from docker->py2neo) (227)\n",
      "Requirement already satisfied: requests!=2.18.0,>=2.14.2 in c:\\users\\user\\anaconda3\\envs\\kse_env\\lib\\site-packages (from docker->py2neo) (2.25.0)\n",
      "Collecting english\n",
      "  Downloading english-2020.7.0-py2.py3-none-any.whl (8.1 kB)\n",
      "Requirement already satisfied: six>=1.15.0 in c:\\users\\user\\anaconda3\\envs\\kse_env\\lib\\site-packages (from py2neo) (1.15.0)\n",
      "Collecting monotonic\n",
      "  Downloading monotonic-1.5-py2.py3-none-any.whl (5.3 kB)\n",
      "Collecting neotime~=1.7.4\n",
      "  Downloading neotime-1.7.4.tar.gz (17 kB)\n",
      "Requirement already satisfied: pytz in c:\\users\\user\\anaconda3\\envs\\kse_env\\lib\\site-packages (from py2neo) (2020.4)\n",
      "Requirement already satisfied: six>=1.15.0 in c:\\users\\user\\anaconda3\\envs\\kse_env\\lib\\site-packages (from py2neo) (1.15.0)\n",
      "Requirement already satisfied: six>=1.15.0 in c:\\users\\user\\anaconda3\\envs\\kse_env\\lib\\site-packages (from py2neo) (1.15.0)\n",
      "Requirement already satisfied: pyparsing>=2.0.2 in c:\\users\\user\\anaconda3\\envs\\kse_env\\lib\\site-packages (from packaging->py2neo) (2.4.7)\n",
      "Collecting pansi>=2020.7.3\n",
      "  Downloading pansi-2020.7.3-py2.py3-none-any.whl (10 kB)\n",
      "Requirement already satisfied: six>=1.15.0 in c:\\users\\user\\anaconda3\\envs\\kse_env\\lib\\site-packages (from py2neo) (1.15.0)\n",
      "Collecting prompt-toolkit~=2.0.7\n",
      "  Downloading prompt_toolkit-2.0.10-py3-none-any.whl (340 kB)\n",
      "Requirement already satisfied: six>=1.15.0 in c:\\users\\user\\anaconda3\\envs\\kse_env\\lib\\site-packages (from py2neo) (1.15.0)\n",
      "Requirement already satisfied: wcwidth in c:\\users\\user\\anaconda3\\envs\\kse_env\\lib\\site-packages (from prompt-toolkit~=2.0.7->py2neo) (0.2.5)\n",
      "Requirement already satisfied: idna<3,>=2.5 in c:\\users\\user\\anaconda3\\envs\\kse_env\\lib\\site-packages (from requests!=2.18.0,>=2.14.2->docker->py2neo) (2.10)\n",
      "Requirement already satisfied: chardet<4,>=3.0.2 in c:\\users\\user\\anaconda3\\envs\\kse_env\\lib\\site-packages (from requests!=2.18.0,>=2.14.2->docker->py2neo) (3.0.4)\n",
      "Requirement already satisfied: certifi in c:\\users\\user\\anaconda3\\envs\\kse_env\\lib\\site-packages (from py2neo) (2020.12.5)\n",
      "Requirement already satisfied: urllib3 in c:\\users\\user\\anaconda3\\envs\\kse_env\\lib\\site-packages (from py2neo) (1.25.11)\n",
      "Collecting websocket-client>=0.32.0\n",
      "  Downloading websocket_client-0.57.0-py2.py3-none-any.whl (200 kB)\n",
      "Requirement already satisfied: six>=1.15.0 in c:\\users\\user\\anaconda3\\envs\\kse_env\\lib\\site-packages (from py2neo) (1.15.0)\n",
      "Building wheels for collected packages: neotime\n",
      "  Building wheel for neotime (setup.py): started\n",
      "  Building wheel for neotime (setup.py): finished with status 'done'\n",
      "  Created wheel for neotime: filename=neotime-1.7.4-py3-none-any.whl size=20545 sha256=2103ade51ff9520103b84b7941c0d1b3528cb55046dd38efabc8f98fd72b79fc\n",
      "  Stored in directory: c:\\users\\user\\appdata\\local\\pip\\cache\\wheels\\84\\2d\\01\\a397b73c9e48f6c44342c06c436b20b44d53a71f6ba972a992\n",
      "Successfully built neotime\n",
      "Installing collected packages: websocket-client, prompt-toolkit, pansi, neotime, monotonic, english, docker, py2neo\n",
      "  Attempting uninstall: prompt-toolkit\n",
      "    Found existing installation: prompt-toolkit 3.0.8\n",
      "    Uninstalling prompt-toolkit-3.0.8:\n",
      "      Successfully uninstalled prompt-toolkit-3.0.8\n",
      "Successfully installed docker-4.4.1 english-2020.7.0 monotonic-1.5 neotime-1.7.4 pansi-2020.7.3 prompt-toolkit-2.0.10 py2neo-2020.1.1 websocket-client-0.57.0\n"
     ]
    }
   ],
   "source": [
    "!pip install py2neo"
   ]
  },
  {
   "cell_type": "code",
   "execution_count": null,
   "metadata": {},
   "outputs": [],
   "source": []
  }
 ],
 "metadata": {
  "kernelspec": {
   "display_name": "Python 3",
   "language": "python",
   "name": "python3"
  },
  "language_info": {
   "codemirror_mode": {
    "name": "ipython",
    "version": 3
   },
   "file_extension": ".py",
   "mimetype": "text/x-python",
   "name": "python",
   "nbconvert_exporter": "python",
   "pygments_lexer": "ipython3",
   "version": "3.8.5"
  }
 },
 "nbformat": 4,
 "nbformat_minor": 4
}
