{
 "cells": [
  {
   "cell_type": "markdown",
   "metadata": {},
   "source": [
    "# Knowledge Structure Graph Generator (Neo4J Implementation)"
   ]
  },
  {
   "cell_type": "markdown",
   "metadata": {},
   "source": [
    "## 1. DB연결"
   ]
  },
  {
   "cell_type": "code",
   "execution_count": 1,
   "metadata": {},
   "outputs": [],
   "source": [
    "import pymysql\n",
    "import pandas as pd\n",
    "import re"
   ]
  },
  {
   "cell_type": "code",
   "execution_count": 2,
   "metadata": {},
   "outputs": [],
   "source": [
    "juso_db = pymysql.connect(\n",
    "    user='root', \n",
    "    passwd='1234', \n",
    "    host='127.0.0.1', \n",
    "    db='test', \n",
    "    charset='utf8'\n",
    ")"
   ]
  },
  {
   "cell_type": "code",
   "execution_count": 3,
   "metadata": {},
   "outputs": [],
   "source": [
    "cursor = juso_db.cursor(pymysql.cursors.DictCursor)"
   ]
  },
  {
   "cell_type": "code",
   "execution_count": 4,
   "metadata": {},
   "outputs": [],
   "source": [
    "sql = \"SELECT * FROM knowledge_structure;\"\n",
    "cursor.execute(sql)\n",
    "result = cursor.fetchall()"
   ]
  },
  {
   "cell_type": "code",
   "execution_count": 5,
   "metadata": {},
   "outputs": [
    {
     "name": "stdout",
     "output_type": "stream",
     "text": [
      "------------------------------지식구조 목록 리스트------------------------------\n",
      "       DOC_ID COT_MODE                                KNOWLEDGE_STRUCTURE\n",
      "0        hemp      scs  sourc,origin,1.0\\nsourc,millennium,1.0\\nsourc,...\n",
      "1          감초      scs  함량,재배,2.9\\n효능,역할,3.21\\n하루,이상,3.9\\n이상,단맛,3.9\\n한...\n",
      "2          녹차      scs  순수,티백,1.52\\n제품,제조,2.15\\n효과,흥분,2.95\\n제품,순수,2.95...\n",
      "3          대마      scs  마약,법률,3.06\\n약물,중독,3.26\\n한국,미국,3.87\\n필로폰,헤로인,4....\n",
      "4         바이오      scs  소재,개발,3.07\\n분야,성과,3.6\\n기술,식품,3.71\\n분야,식품,3.79\\...\n",
      "5    인공지능_이루다      scs  제공,특정,2.76\\n대화,연인들,3.54\\n개발사,여성,3.54\\n말투,학습,4....\n",
      "6   인공지능_이루다2      scs  특정,자사,1.63\\n수집,변호사,2.1\\n개인정보,유출,2.76\\n개인정보,수집,...\n",
      "7     인공지능_제조      scs  제조,역할,1.0\\n제조,육성,1.0\\n역할,육성,1.0\\n산업,제조,1.34\\n산...\n",
      "8     인공지능_호텔      scs  호텔,서비스,1.99\\n코로나,업계,2.76\\n제공,정보,2.98\\n제공,차량,2....\n",
      "9           차      scs  남부,지방,2.71\\n재배,지역,4.03\\n식물,우려,4.81\\n남부,지역,4.85...\n",
      "10          콩      scs  두부,된장,1.8\\n고기,짜파게티,2.53\\n여성,에스트로겐,3.0\\n성분,여성호르...\n",
      "11         홍차      scs  여성,커피,2.96\\n시간,우려,3.25\\n생산,소비,3.41\\n홍차,영국,4.24...\n",
      "12         황기      scs  독성,약재,1.0\\n이상,한약재,1.0\\n이상,의약품,1.0\\n한약재,의약품,1.0...\n"
     ]
    }
   ],
   "source": [
    "result = pd.DataFrame(result)\n",
    "print(\"------------------------------지식구조 목록 리스트------------------------------\")\n",
    "print(result) #지식구조 목록 리스트화"
   ]
  },
  {
   "cell_type": "code",
   "execution_count": 6,
   "metadata": {},
   "outputs": [],
   "source": [
    "knowledge_structure = result['KNOWLEDGE_STRUCTURE']"
   ]
  },
  {
   "cell_type": "markdown",
   "metadata": {},
   "source": [
    "## 2. 데이터 선택"
   ]
  },
  {
   "cell_type": "markdown",
   "metadata": {},
   "source": [
    "#### 작성할 파일 제목 정하기\n",
    "* file_name = \"파일명\""
   ]
  },
  {
   "cell_type": "code",
   "execution_count": 7,
   "metadata": {},
   "outputs": [],
   "source": [
    "file_name = \"바이오\""
   ]
  },
  {
   "cell_type": "markdown",
   "metadata": {},
   "source": [
    "#### 추출하기 원하는 인덱스 선정"
   ]
  },
  {
   "cell_type": "code",
   "execution_count": 8,
   "metadata": {},
   "outputs": [],
   "source": [
    "data = knowledge_structure[4] #인덱스만 변경하기"
   ]
  },
  {
   "cell_type": "code",
   "execution_count": 9,
   "metadata": {},
   "outputs": [],
   "source": [
    "contents = re.split('\\n', data)\n",
    "contents = contents[:-1] #맨 끝 데이터는 공백"
   ]
  },
  {
   "cell_type": "code",
   "execution_count": 10,
   "metadata": {},
   "outputs": [],
   "source": [
    "#노드 추가\n",
    "edge_list = list()\n",
    "node_set = set()\n",
    "\n",
    "for content in contents:\n",
    "    value = re.split(',', content) # ,단위로 구분하여 리스트화\n",
    "    edge_list.append(value) # 이중 리스트\n",
    "    node_set.add(value[0]) # 노드들을 셋에 추가하여 유니크 값만 저장\n",
    "    node_set.add(value[1]) "
   ]
  },
  {
   "cell_type": "markdown",
   "metadata": {},
   "source": [
    "## 3. Neo4J 연결"
   ]
  },
  {
   "cell_type": "code",
   "execution_count": 11,
   "metadata": {},
   "outputs": [],
   "source": [
    "from py2neo import Graph, Node, Relationship"
   ]
  },
  {
   "cell_type": "code",
   "execution_count": 13,
   "metadata": {},
   "outputs": [
    {
     "data": {
      "text/plain": [
       "Graph('bolt://neo4j@localhost:7687')"
      ]
     },
     "execution_count": 13,
     "metadata": {},
     "output_type": "execute_result"
    }
   ],
   "source": [
    "graph = Graph('bolt://neo4j@localhost:7687', auth = (\"neo4j\", \"1234\"))\n",
    "\n",
    "# Authentification Error가 날 경우, 데이터베이스 생성시 설정한 name과 password를 써줍니다.\n",
    "# graph = Graph('bolt://neo4j@localhost:7687', auth = (\"neo4j\", \"password\"))\n",
    "\n",
    "graph"
   ]
  },
  {
   "cell_type": "code",
   "execution_count": 14,
   "metadata": {},
   "outputs": [
    {
     "data": {
      "text/plain": [
       "{'식품': 0,\n",
       " '성과': 1,\n",
       " '생산': 2,\n",
       " '우수': 3,\n",
       " '분야': 4,\n",
       " '소재': 5,\n",
       " '특성': 6,\n",
       " '산업': 7,\n",
       " '기술': 8,\n",
       " '해수부': 9,\n",
       " '개발': 10,\n",
       " '연구': 11,\n",
       " '바이오': 12,\n",
       " '기업': 13,\n",
       " '지원': 14,\n",
       " '정보': 15,\n",
       " '연구개발': 16,\n",
       " '인프라': 17,\n",
       " '제품': 18,\n",
       " '시장': 19}"
      ]
     },
     "execution_count": 14,
     "metadata": {},
     "output_type": "execute_result"
    }
   ],
   "source": [
    "node2idx = dict() # 각 노드에 인덱스 부여\n",
    "for idx, node in enumerate(node_set):\n",
    "    node2idx[node] = idx # 노드가 key, 인덱스가 value\n",
    "node2idx"
   ]
  },
  {
   "cell_type": "code",
   "execution_count": 15,
   "metadata": {},
   "outputs": [
    {
     "data": {
      "text/plain": [
       "[Node('Keyword', name='식품'),\n",
       " Node('Keyword', name='성과'),\n",
       " Node('Keyword', name='생산'),\n",
       " Node('Keyword', name='우수'),\n",
       " Node('Keyword', name='분야'),\n",
       " Node('Keyword', name='소재'),\n",
       " Node('Keyword', name='특성'),\n",
       " Node('Keyword', name='산업'),\n",
       " Node('Keyword', name='기술'),\n",
       " Node('Keyword', name='해수부'),\n",
       " Node('Keyword', name='개발'),\n",
       " Node('Keyword', name='연구'),\n",
       " Node('Keyword', name='바이오'),\n",
       " Node('Keyword', name='기업'),\n",
       " Node('Keyword', name='지원'),\n",
       " Node('Keyword', name='정보'),\n",
       " Node('Keyword', name='연구개발'),\n",
       " Node('Keyword', name='인프라'),\n",
       " Node('Keyword', name='제품'),\n",
       " Node('Keyword', name='시장')]"
      ]
     },
     "execution_count": 15,
     "metadata": {},
     "output_type": "execute_result"
    }
   ],
   "source": [
    "nodes_neo = [Node(\"Keyword\", name = node) for node in node2idx.keys()] # Py2neo를 이용해 Node를 선언. Label은 Keyword, Property는 name이다.\n",
    "nodes_neo"
   ]
  },
  {
   "cell_type": "markdown",
   "metadata": {},
   "source": [
    "- 참고!\n",
    "    - edge_list는 각 edge를 리스트로 한 이중리스트입니다.\n",
    "    - 각 edge는 [**노드1, 노드2, 점수**]의 형태로 되어 있습니다.\n",
    "    - Py2neo 문법 : Relationship(node1, relationship, node2, *relationship_property(옵션)*)\n",
    "    "
   ]
  },
  {
   "cell_type": "code",
   "execution_count": 17,
   "metadata": {},
   "outputs": [
    {
     "name": "stdout",
     "output_type": "stream",
     "text": [
      "(소재)-[:3.07 {name: 'score'}]->(개발)\n",
      "(분야)-[:3.6 {name: 'score'}]->(성과)\n",
      "(기술)-[:3.71 {name: 'score'}]->(식품)\n",
      "(분야)-[:3.79 {name: 'score'}]->(식품)\n",
      "(개발)-[:3.8 {name: 'score'}]->(기술)\n",
      "(기술)-[:3.9 {name: 'score'}]->(우수)\n",
      "(인프라)-[:3.9 {name: 'score'}]->(특성)\n",
      "(지원)-[:3.98 {name: 'score'}]->(제품)\n",
      "(소재)-[:4.0 {name: 'score'}]->(생산)\n",
      "(소재)-[:4.14 {name: 'score'}]->(연구)\n",
      "(바이오)-[:4.25 {name: 'score'}]->(산업)\n",
      "(성과)-[:4.32 {name: 'score'}]->(특성)\n",
      "(바이오)-[:4.42 {name: 'score'}]->(시장)\n",
      "(연구개발)-[:4.43 {name: 'score'}]->(분야)\n",
      "(소재)-[:4.55 {name: 'score'}]->(제품)\n",
      "(제품)-[:4.55 {name: 'score'}]->(생산)\n",
      "(지원)-[:4.66 {name: 'score'}]->(기업)\n",
      "(기업)-[:4.66 {name: 'score'}]->(분야)\n",
      "(바이오)-[:4.78 {name: 'score'}]->(인프라)\n",
      "(지원)-[:4.78 {name: 'score'}]->(산업)\n",
      "(소재)-[:4.81 {name: 'score'}]->(정보)\n",
      "(산업)-[:4.81 {name: 'score'}]->(해수부)\n",
      "(정보)-[:4.81 {name: 'score'}]->(생산)\n",
      "Transaction has been completed\n"
     ]
    }
   ],
   "source": [
    "tx = graph.begin() # 트랜잭션 객체를 선언하여 시작합\n",
    "\n",
    "for edge in edge_list: # 각 edge에 대해 관계를 선언\n",
    "    node1 = nodes_neo[node2idx[edge[0]]]\n",
    "    node2 = nodes_neo[node2idx[edge[1]]]\n",
    "    re = Relationship(node1, edge[2], node2, name = \"score\")\n",
    "    # 생성한 노드 nodes_neo는 위와 같이 node2id를 이용해 인덱스로 접근할 수 있습니다. \n",
    "    print(re)\n",
    "    tx.create(re) # 선언해둔 노드나 관계 객체를 생성\n",
    "tx.commit() # 트랜잭션을 commit하여 DB에 반영하며 종료됩니다. 선언했던 노드와 관계가 실제로 DB에 반영되는 시기입니다.\n",
    "\n",
    "if tx.finished() == False:\n",
    "    print(\"Transaction is still open\")\n",
    "else:\n",
    "    print(\"Transaction has been completed\")"
   ]
  },
  {
   "cell_type": "code",
   "execution_count": 18,
   "metadata": {},
   "outputs": [
    {
     "data": {
      "text/plain": [
       " n                                         \n",
       "-------------------------------------------\n",
       " (_0:Keyword {name: '\\ub300\\ud654'})       \n",
       " (_1:Keyword {name: '\\uc5f0\\uc778\\ub4e4'}) \n",
       " (_2:Keyword {name: '\\uac1c\\ubc1c\\uc0ac'}) "
      ]
     },
     "execution_count": 18,
     "metadata": {},
     "output_type": "execute_result"
    }
   ],
   "source": [
    "graph.run(\"MATCH(n) RETURN n\")"
   ]
  },
  {
   "cell_type": "markdown",
   "metadata": {},
   "source": [
    "* 참고\n",
    "    - run의 경우, 수행과 동시에 자동으로 commit되어 따로 트랜잭션 객체를 생성하거나 commit할 필요가 없습니다."
   ]
  },
  {
   "cell_type": "markdown",
   "metadata": {},
   "source": [
    "---"
   ]
  },
  {
   "cell_type": "markdown",
   "metadata": {},
   "source": [
    "### Neo4J로 생성된 지식구조 확인\n",
    "이제 다시 Neo4J Browser로 가서 `MATCH(n) RETURN n` 쿼리를 입력하면 그래프 형태로 확인할 수 있습니다.\n",
    "\n",
    "- Q. Neo4J Browser를 못 찾겠어요!\n",
    "    - A. Neo4J 데스크탑에서 localhost 클릭하면 창이 새로 뜹니다."
   ]
  },
  {
   "cell_type": "code",
   "execution_count": null,
   "metadata": {},
   "outputs": [],
   "source": []
  }
 ],
 "metadata": {
  "kernelspec": {
   "display_name": "Python 3",
   "language": "python",
   "name": "python3"
  },
  "language_info": {
   "codemirror_mode": {
    "name": "ipython",
    "version": 3
   },
   "file_extension": ".py",
   "mimetype": "text/x-python",
   "name": "python",
   "nbconvert_exporter": "python",
   "pygments_lexer": "ipython3",
   "version": "3.8.5"
  }
 },
 "nbformat": 4,
 "nbformat_minor": 4
}
