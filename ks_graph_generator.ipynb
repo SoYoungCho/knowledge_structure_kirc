{
 "cells": [
  {
   "cell_type": "markdown",
   "metadata": {},
   "source": [
    "# Knowledge Structure Graph Generator"
   ]
  },
  {
   "cell_type": "markdown",
   "metadata": {},
   "source": [
    "## 1. DB연결"
   ]
  },
  {
   "cell_type": "code",
   "execution_count": 1,
   "metadata": {},
   "outputs": [],
   "source": [
    "import pymysql"
   ]
  },
  {
   "cell_type": "code",
   "execution_count": 2,
   "metadata": {},
   "outputs": [],
   "source": [
    "juso_db = pymysql.connect(\n",
    "    user='root', \n",
    "    passwd='1234', \n",
    "    host='127.0.0.1', \n",
    "    db='test', \n",
    "    charset='utf8'\n",
    ")"
   ]
  },
  {
   "cell_type": "code",
   "execution_count": 3,
   "metadata": {},
   "outputs": [],
   "source": [
    "cursor = juso_db.cursor(pymysql.cursors.DictCursor)"
   ]
  },
  {
   "cell_type": "code",
   "execution_count": 4,
   "metadata": {},
   "outputs": [],
   "source": [
    "sql = \"SELECT * FROM knowledge_structure;\"\n",
    "cursor.execute(sql)\n",
    "result = cursor.fetchall()"
   ]
  },
  {
   "cell_type": "code",
   "execution_count": 5,
   "metadata": {},
   "outputs": [
    {
     "name": "stdout",
     "output_type": "stream",
     "text": [
      "------------------------------지식구조 목록 리스트------------------------------\n",
      "  DOC_ID COT_MODE                                KNOWLEDGE_STRUCTURE\n",
      "0   Hemp      scs  hemp,paper,5.7\\nus,varieti,5.76\\nhemp,us,5.78\\...\n",
      "1      차      scs  포함,식별자,1.01\\n문서,식별자,1.1\\n위키백과,식별자,1.18\\n녹차,청차,...\n",
      "2     차2      scs  홍차,청차,3.21\\n지역,해당,3.79\\n녹차,청차,3.86\\n시기,분류,4.44...\n",
      "3     햄프      scs  필요,확장,1.0\\n외부,링크,1.0\\n식별자,국가,1.0\\n식별자,과거,1.0\\n...\n"
     ]
    }
   ],
   "source": [
    "import pandas as pd\n",
    "\n",
    "result = pd.DataFrame(result)\n",
    "print(\"------------------------------지식구조 목록 리스트------------------------------\")\n",
    "print(result) #지식구조 목록 리스트화"
   ]
  },
  {
   "cell_type": "code",
   "execution_count": 6,
   "metadata": {},
   "outputs": [],
   "source": [
    "knowledge_structure = result['KNOWLEDGE_STRUCTURE']"
   ]
  },
  {
   "cell_type": "markdown",
   "metadata": {},
   "source": [
    "## 2. 데이터 선택"
   ]
  },
  {
   "cell_type": "code",
   "execution_count": 7,
   "metadata": {},
   "outputs": [
    {
     "name": "stdout",
     "output_type": "stream",
     "text": [
      "홍차,청차,3.21\n",
      "지역,해당,3.79\n",
      "녹차,청차,3.86\n",
      "시기,분류,4.44\n",
      "사용,경우,4.68\n",
      "방법,원래,4.85\n",
      "가공,분류,5.08\n",
      "경우,원래,5.3\n",
      "과정,위조,5.45\n",
      "녹차,일본,5.56\n",
      "청차,다음,5.59\n",
      "경우,가공,5.66\n",
      "방법,일본,5.69\n",
      "발효,위조,5.75\n",
      "발효,방법,5.77\n",
      "해당,원래,5.99\n",
      "중국,사용,6.0\n",
      "중국,차나무,6.23\n",
      "사용,차나무,6.23\n",
      "시대,분류,6.26\n",
      "\n"
     ]
    }
   ],
   "source": [
    "data = knowledge_structure[2] #인덱스만 변경하기\n",
    "print(data)"
   ]
  },
  {
   "cell_type": "code",
   "execution_count": 8,
   "metadata": {},
   "outputs": [],
   "source": [
    "import re\n",
    "\n",
    "contents = re.split('\\n', data)\n",
    "contents = contents[:-1] #맨 끝 데이터는 공백"
   ]
  },
  {
   "cell_type": "code",
   "execution_count": 9,
   "metadata": {},
   "outputs": [
    {
     "name": "stdout",
     "output_type": "stream",
     "text": [
      "['홍차', '청차', '3.21']\n",
      "['지역', '해당', '3.79']\n",
      "['녹차', '청차', '3.86']\n",
      "['시기', '분류', '4.44']\n",
      "['사용', '경우', '4.68']\n",
      "['방법', '원래', '4.85']\n",
      "['가공', '분류', '5.08']\n",
      "['경우', '원래', '5.3']\n",
      "['과정', '위조', '5.45']\n",
      "['녹차', '일본', '5.56']\n",
      "['청차', '다음', '5.59']\n",
      "['경우', '가공', '5.66']\n",
      "['방법', '일본', '5.69']\n",
      "['발효', '위조', '5.75']\n",
      "['발효', '방법', '5.77']\n",
      "['해당', '원래', '5.99']\n",
      "['중국', '사용', '6.0']\n",
      "['중국', '차나무', '6.23']\n",
      "['사용', '차나무', '6.23']\n",
      "['시대', '분류', '6.26']\n"
     ]
    }
   ],
   "source": [
    "#노드 추가\n",
    "for content in contents:\n",
    "    value = re.split(',', content) # ,단위로 구분하여 리스트화\n",
    "    print(value)"
   ]
  },
  {
   "cell_type": "markdown",
   "metadata": {},
   "source": [
    "## 3. Data JavaScript File 생성"
   ]
  },
  {
   "cell_type": "markdown",
   "metadata": {},
   "source": [
    "### 파일 2개 생성\n",
    "* keyword.js : data(nodes, edges)\n",
    "* keyword.html : graph"
   ]
  },
  {
   "cell_type": "markdown",
   "metadata": {},
   "source": [
    "### 01. keyword.js"
   ]
  },
  {
   "cell_type": "code",
   "execution_count": 482,
   "metadata": {},
   "outputs": [],
   "source": [
    "import networkx as nx"
   ]
  },
  {
   "cell_type": "code",
   "execution_count": 556,
   "metadata": {},
   "outputs": [],
   "source": [
    "G = nx.Graph()"
   ]
  },
  {
   "cell_type": "code",
   "execution_count": 557,
   "metadata": {},
   "outputs": [],
   "source": [
    "# 에지리스트를 그래프에 넣기 : 그래프에 입력된 노드 확인용\n",
    "for content in contents:\n",
    "    tmp = re.split(',', content)\n",
    "    G.add_edge(tmp[0], tmp[1], weight = tmp[2])"
   ]
  },
  {
   "cell_type": "code",
   "execution_count": 558,
   "metadata": {},
   "outputs": [],
   "source": [
    "degree_list = [degree for degree in G.degree()] # 각 노드별 차수 저장"
   ]
  },
  {
   "cell_type": "code",
   "execution_count": 559,
   "metadata": {},
   "outputs": [],
   "source": [
    "# 파일 저장용 nodes, edges\n",
    "graph_nodes = \"var nodes = \"\n",
    "graph_edges = \"var edges = \"\n",
    "\n",
    "# 리스트 생성용\n",
    "num = 0\n",
    "nodes_list = []\n",
    "reverse_graph = dict()\n",
    "\n",
    "for name in G.nodes():\n",
    "    # 딕셔너리 1개씩 생성하여 넣기\n",
    "    tmp = dict()\n",
    "    tmp['id'] = num\n",
    "    tmp['label'] = name\n",
    "    tmp['degree'] = degree_list[num][1]\n",
    "    \n",
    "    # 차수가 3이상이면 빨간색 지정\n",
    "    if(degree_list[num][1] >= 3):\n",
    "        tmp['color'] = \"#FB7E81\"\n",
    "        \n",
    "    nodes_list.append(tmp)   # {id: 0, label: 'hemp'}형태\n",
    "    \n",
    "    reverse_graph[name] = num   # {'hemp':0, 'cannabi':1}형태, 목적: 'hemp'검색시 바로 노드 번호 확인(편의성 목적)\n",
    "    num += 1"
   ]
  },
  {
   "cell_type": "code",
   "execution_count": 560,
   "metadata": {},
   "outputs": [
    {
     "data": {
      "text/plain": [
       "[{'id': 0, 'label': '홍차', 'degree': 1},\n",
       " {'id': 1, 'label': '청차', 'degree': 3, 'color': '#FB7E81'},\n",
       " {'id': 2, 'label': '지역', 'degree': 1},\n",
       " {'id': 3, 'label': '해당', 'degree': 2},\n",
       " {'id': 4, 'label': '녹차', 'degree': 2},\n",
       " {'id': 5, 'label': '시기', 'degree': 1},\n",
       " {'id': 6, 'label': '분류', 'degree': 3, 'color': '#FB7E81'},\n",
       " {'id': 7, 'label': '사용', 'degree': 3, 'color': '#FB7E81'},\n",
       " {'id': 8, 'label': '경우', 'degree': 3, 'color': '#FB7E81'},\n",
       " {'id': 9, 'label': '방법', 'degree': 3, 'color': '#FB7E81'},\n",
       " {'id': 10, 'label': '원래', 'degree': 3, 'color': '#FB7E81'},\n",
       " {'id': 11, 'label': '가공', 'degree': 2},\n",
       " {'id': 12, 'label': '과정', 'degree': 1},\n",
       " {'id': 13, 'label': '위조', 'degree': 2},\n",
       " {'id': 14, 'label': '일본', 'degree': 2},\n",
       " {'id': 15, 'label': '다음', 'degree': 1},\n",
       " {'id': 16, 'label': '발효', 'degree': 2},\n",
       " {'id': 17, 'label': '중국', 'degree': 2},\n",
       " {'id': 18, 'label': '차나무', 'degree': 2},\n",
       " {'id': 19, 'label': '시대', 'degree': 1}]"
      ]
     },
     "execution_count": 560,
     "metadata": {},
     "output_type": "execute_result"
    }
   ],
   "source": [
    "nodes_list"
   ]
  },
  {
   "cell_type": "code",
   "execution_count": 561,
   "metadata": {},
   "outputs": [
    {
     "name": "stdout",
     "output_type": "stream",
     "text": [
      "var nodes = [{'id': 0, 'label': '홍차', 'degree': 1}, {'id': 1, 'label': '청차', 'degree': 3, 'color': '#FB7E81'}, {'id': 2, 'label': '지역', 'degree': 1}, {'id': 3, 'label': '해당', 'degree': 2}, {'id': 4, 'label': '녹차', 'degree': 2}, {'id': 5, 'label': '시기', 'degree': 1}, {'id': 6, 'label': '분류', 'degree': 3, 'color': '#FB7E81'}, {'id': 7, 'label': '사용', 'degree': 3, 'color': '#FB7E81'}, {'id': 8, 'label': '경우', 'degree': 3, 'color': '#FB7E81'}, {'id': 9, 'label': '방법', 'degree': 3, 'color': '#FB7E81'}, {'id': 10, 'label': '원래', 'degree': 3, 'color': '#FB7E81'}, {'id': 11, 'label': '가공', 'degree': 2}, {'id': 12, 'label': '과정', 'degree': 1}, {'id': 13, 'label': '위조', 'degree': 2}, {'id': 14, 'label': '일본', 'degree': 2}, {'id': 15, 'label': '다음', 'degree': 1}, {'id': 16, 'label': '발효', 'degree': 2}, {'id': 17, 'label': '중국', 'degree': 2}, {'id': 18, 'label': '차나무', 'degree': 2}, {'id': 19, 'label': '시대', 'degree': 1}];\n"
     ]
    }
   ],
   "source": [
    "graph_nodes += str(nodes_list) + \";\"\n",
    "print(graph_nodes)"
   ]
  },
  {
   "cell_type": "code",
   "execution_count": 562,
   "metadata": {},
   "outputs": [
    {
     "name": "stdout",
     "output_type": "stream",
     "text": [
      "{'홍차': 0, '청차': 1, '지역': 2, '해당': 3, '녹차': 4, '시기': 5, '분류': 6, '사용': 7, '경우': 8, '방법': 9, '원래': 10, '가공': 11, '과정': 12, '위조': 13, '일본': 14, '다음': 15, '발효': 16, '중국': 17, '차나무': 18, '시대': 19}\n"
     ]
    }
   ],
   "source": [
    "print(reverse_graph) # graph_nodes를 뒤집어서 저장, 예를 들어  label명 : id명"
   ]
  },
  {
   "cell_type": "code",
   "execution_count": 563,
   "metadata": {},
   "outputs": [],
   "source": [
    "edges_list = []\n",
    "\n",
    "# edges는 {'hemp', 'cannabi', '3.21'}형태\n",
    "for edge in G.edges(data='weight'):\n",
    "    tmp = dict()\n",
    "    tmp['from']   = reverse_graph.get(edge[0])     # 'hemp'검색시 인덱스값\n",
    "    tmp['to']     = reverse_graph.get(edge[1])     # 'cannabi'검색시 인덱스값\n",
    "    tmp['label']  = edge[2]                        # 가중치 저장\n",
    "    \n",
    "    \n",
    "    length = float(edge[2])\n",
    "    minmax_scale = ((7.0 - length)/4.0) * 20       # 길이를 min max 스케일링\n",
    "    tmp['value']  = round(minmax_scale, 2)         # Edge 두께를 가중치의 크기에 따라 변경(숫자가 클수록 두껍게)\n",
    "    \n",
    "    length = float(edge[2])\n",
    "    minmax_scale = ((length - 2.0)/4.0) * 300\n",
    "    tmp['length'] = round(minmax_scale + 50, 2)    # Edge 길이를 min max 스케일링\n",
    "    \n",
    "    tmp['color'] = \"#97C2FC\"                       # 기본은 파란색상\n",
    "\n",
    "    edges_list.append(tmp)"
   ]
  },
  {
   "cell_type": "code",
   "execution_count": 564,
   "metadata": {},
   "outputs": [
    {
     "name": "stdout",
     "output_type": "stream",
     "text": [
      "var edges = [{'from': 0, 'to': 1, 'label': '3.21', 'value': 18.95, 'length': 140.75, 'color': '#97C2FC'}, {'from': 1, 'to': 4, 'label': '3.86', 'value': 15.7, 'length': 189.5, 'color': '#97C2FC'}, {'from': 1, 'to': 15, 'label': '5.59', 'value': 7.05, 'length': 319.25, 'color': '#97C2FC'}, {'from': 2, 'to': 3, 'label': '3.79', 'value': 16.05, 'length': 184.25, 'color': '#97C2FC'}, {'from': 3, 'to': 10, 'label': '5.99', 'value': 5.05, 'length': 349.25, 'color': '#97C2FC'}, {'from': 4, 'to': 14, 'label': '5.56', 'value': 7.2, 'length': 317.0, 'color': '#97C2FC'}, {'from': 5, 'to': 6, 'label': '4.44', 'value': 12.8, 'length': 233.0, 'color': '#97C2FC'}, {'from': 6, 'to': 11, 'label': '5.08', 'value': 9.6, 'length': 281.0, 'color': '#97C2FC'}, {'from': 6, 'to': 19, 'label': '6.26', 'value': 3.7, 'length': 369.5, 'color': '#97C2FC'}, {'from': 7, 'to': 8, 'label': '4.68', 'value': 11.6, 'length': 251.0, 'color': '#97C2FC'}, {'from': 7, 'to': 17, 'label': '6.0', 'value': 5.0, 'length': 350.0, 'color': '#97C2FC'}, {'from': 7, 'to': 18, 'label': '6.23', 'value': 3.85, 'length': 367.25, 'color': '#97C2FC'}, {'from': 8, 'to': 10, 'label': '5.3', 'value': 8.5, 'length': 297.5, 'color': '#97C2FC'}, {'from': 8, 'to': 11, 'label': '5.66', 'value': 6.7, 'length': 324.5, 'color': '#97C2FC'}, {'from': 9, 'to': 10, 'label': '4.85', 'value': 10.75, 'length': 263.75, 'color': '#97C2FC'}, {'from': 9, 'to': 14, 'label': '5.69', 'value': 6.55, 'length': 326.75, 'color': '#97C2FC'}, {'from': 9, 'to': 16, 'label': '5.77', 'value': 6.15, 'length': 332.75, 'color': '#97C2FC'}, {'from': 12, 'to': 13, 'label': '5.45', 'value': 7.75, 'length': 308.75, 'color': '#97C2FC'}, {'from': 13, 'to': 16, 'label': '5.75', 'value': 6.25, 'length': 331.25, 'color': '#97C2FC'}, {'from': 17, 'to': 18, 'label': '6.23', 'value': 3.85, 'length': 367.25, 'color': '#97C2FC'}];\n"
     ]
    }
   ],
   "source": [
    "graph_edges += str(edges_list) + \";\"\n",
    "print(graph_edges)"
   ]
  },
  {
   "cell_type": "code",
   "execution_count": 565,
   "metadata": {},
   "outputs": [],
   "source": [
    "graph_data = graph_nodes + \"\\n\\n\" + graph_edges"
   ]
  },
  {
   "cell_type": "code",
   "execution_count": 566,
   "metadata": {},
   "outputs": [
    {
     "name": "stdout",
     "output_type": "stream",
     "text": [
      "var nodes = [{'id': 0, 'label': '홍차', 'degree': 1}, {'id': 1, 'label': '청차', 'degree': 3, 'color': '#FB7E81'}, {'id': 2, 'label': '지역', 'degree': 1}, {'id': 3, 'label': '해당', 'degree': 2}, {'id': 4, 'label': '녹차', 'degree': 2}, {'id': 5, 'label': '시기', 'degree': 1}, {'id': 6, 'label': '분류', 'degree': 3, 'color': '#FB7E81'}, {'id': 7, 'label': '사용', 'degree': 3, 'color': '#FB7E81'}, {'id': 8, 'label': '경우', 'degree': 3, 'color': '#FB7E81'}, {'id': 9, 'label': '방법', 'degree': 3, 'color': '#FB7E81'}, {'id': 10, 'label': '원래', 'degree': 3, 'color': '#FB7E81'}, {'id': 11, 'label': '가공', 'degree': 2}, {'id': 12, 'label': '과정', 'degree': 1}, {'id': 13, 'label': '위조', 'degree': 2}, {'id': 14, 'label': '일본', 'degree': 2}, {'id': 15, 'label': '다음', 'degree': 1}, {'id': 16, 'label': '발효', 'degree': 2}, {'id': 17, 'label': '중국', 'degree': 2}, {'id': 18, 'label': '차나무', 'degree': 2}, {'id': 19, 'label': '시대', 'degree': 1}];\n",
      "\n",
      "var edges = [{'from': 0, 'to': 1, 'label': '3.21', 'value': 18.95, 'length': 140.75, 'color': '#97C2FC'}, {'from': 1, 'to': 4, 'label': '3.86', 'value': 15.7, 'length': 189.5, 'color': '#97C2FC'}, {'from': 1, 'to': 15, 'label': '5.59', 'value': 7.05, 'length': 319.25, 'color': '#97C2FC'}, {'from': 2, 'to': 3, 'label': '3.79', 'value': 16.05, 'length': 184.25, 'color': '#97C2FC'}, {'from': 3, 'to': 10, 'label': '5.99', 'value': 5.05, 'length': 349.25, 'color': '#97C2FC'}, {'from': 4, 'to': 14, 'label': '5.56', 'value': 7.2, 'length': 317.0, 'color': '#97C2FC'}, {'from': 5, 'to': 6, 'label': '4.44', 'value': 12.8, 'length': 233.0, 'color': '#97C2FC'}, {'from': 6, 'to': 11, 'label': '5.08', 'value': 9.6, 'length': 281.0, 'color': '#97C2FC'}, {'from': 6, 'to': 19, 'label': '6.26', 'value': 3.7, 'length': 369.5, 'color': '#97C2FC'}, {'from': 7, 'to': 8, 'label': '4.68', 'value': 11.6, 'length': 251.0, 'color': '#97C2FC'}, {'from': 7, 'to': 17, 'label': '6.0', 'value': 5.0, 'length': 350.0, 'color': '#97C2FC'}, {'from': 7, 'to': 18, 'label': '6.23', 'value': 3.85, 'length': 367.25, 'color': '#97C2FC'}, {'from': 8, 'to': 10, 'label': '5.3', 'value': 8.5, 'length': 297.5, 'color': '#97C2FC'}, {'from': 8, 'to': 11, 'label': '5.66', 'value': 6.7, 'length': 324.5, 'color': '#97C2FC'}, {'from': 9, 'to': 10, 'label': '4.85', 'value': 10.75, 'length': 263.75, 'color': '#97C2FC'}, {'from': 9, 'to': 14, 'label': '5.69', 'value': 6.55, 'length': 326.75, 'color': '#97C2FC'}, {'from': 9, 'to': 16, 'label': '5.77', 'value': 6.15, 'length': 332.75, 'color': '#97C2FC'}, {'from': 12, 'to': 13, 'label': '5.45', 'value': 7.75, 'length': 308.75, 'color': '#97C2FC'}, {'from': 13, 'to': 16, 'label': '5.75', 'value': 6.25, 'length': 331.25, 'color': '#97C2FC'}, {'from': 17, 'to': 18, 'label': '6.23', 'value': 3.85, 'length': 367.25, 'color': '#97C2FC'}];\n"
     ]
    }
   ],
   "source": [
    "print(graph_data)"
   ]
  },
  {
   "cell_type": "markdown",
   "metadata": {},
   "source": [
    "#### 작성할 파일 제목 정하기\n",
    "* file_name = \"파일명\""
   ]
  },
  {
   "cell_type": "code",
   "execution_count": 567,
   "metadata": {},
   "outputs": [],
   "source": [
    "file_name = \"차2\""
   ]
  },
  {
   "cell_type": "code",
   "execution_count": 568,
   "metadata": {},
   "outputs": [
    {
     "name": "stdout",
     "output_type": "stream",
     "text": [
      "차2.js 파일 생성 완료\n"
     ]
    }
   ],
   "source": [
    "f = open(\"./results/result_webgraph/data/\" + file_name + \".js\", 'w', encoding = 'utf8')\n",
    "f.write(graph_data)\n",
    "f.close()\n",
    "print(file_name + \".js 파일 생성 완료\")"
   ]
  },
  {
   "cell_type": "markdown",
   "metadata": {},
   "source": [
    "### 2. keyword.html"
   ]
  },
  {
   "cell_type": "code",
   "execution_count": 579,
   "metadata": {},
   "outputs": [],
   "source": [
    "html_top = \"\"\"\n",
    "<!doctype html>\n",
    "<html>\n",
    "<head>\n",
    "\t<title>Knowledge Structure</title>\n",
    "    \"\"\""
   ]
  },
  {
   "cell_type": "code",
   "execution_count": 580,
   "metadata": {},
   "outputs": [],
   "source": [
    "vis_location = \"\"\"<script type=\"text/javascript\" src=\"../../lib/drawing/vis.js\"></script>\n",
    "    \"\"\""
   ]
  },
  {
   "cell_type": "code",
   "execution_count": 581,
   "metadata": {},
   "outputs": [],
   "source": [
    "js_location = \"\"\"<script src=\"../../results/result_webgraph/data/\"\"\" + file_name + \"\"\".js\" charset=\"utf-8\">\n",
    "    </script>\n",
    "    <style type=\"text/css\">#mynetwork \n",
    "        {width: 100%;height: 1000px;border: 1px solid lightgray;}\n",
    "    </style>\n",
    "</head>\n",
    "<body>\n",
    "    \"\"\""
   ]
  },
  {
   "cell_type": "code",
   "execution_count": 582,
   "metadata": {},
   "outputs": [],
   "source": [
    "title = \"\"\"<p> Cheonsol of Knowledge Structure.</p>\"\"\""
   ]
  },
  {
   "cell_type": "code",
   "execution_count": 583,
   "metadata": {},
   "outputs": [],
   "source": [
    "body = \"\"\"\n",
    "    <div id=\"mynetwork\"></div>\n",
    "\t<script type=\"text/javascript\">\n",
    "\t\tvar container = document.getElementById('mynetwork');\n",
    "\t\tvar data = { nodes: nodes, edges: edges }; \"\"\""
   ]
  },
  {
   "cell_type": "code",
   "execution_count": 584,
   "metadata": {},
   "outputs": [],
   "source": [
    "option = \"\"\"\n",
    "        var options = \n",
    "        { \"nodes\": {\"shape\" : \"circle\",\n",
    "                    \"font\":{\"size\": 30}},\n",
    "        \"edges\": {\"font\": {\"size\" : 25}, \n",
    "            \"smooth\": {\"type\":\"continuous\",\"roundness\": 0.6}},\n",
    "            \"physics\": {\"barnesHut\": {\"centralGravity\": 0.1},\n",
    "            \"minVelocity\": 0.75}};\n",
    "        \"\"\""
   ]
  },
  {
   "cell_type": "code",
   "execution_count": 585,
   "metadata": {},
   "outputs": [],
   "source": [
    "bottom = \"\"\"var network = new vis.Network(container, data, options);\n",
    "\t</script>\n",
    "</body>\n",
    "</html>\n",
    "\"\"\""
   ]
  },
  {
   "cell_type": "code",
   "execution_count": 586,
   "metadata": {},
   "outputs": [],
   "source": [
    "html_text = html_top + vis_location + js_location + title + body + option + bottom"
   ]
  },
  {
   "cell_type": "code",
   "execution_count": 587,
   "metadata": {},
   "outputs": [
    {
     "data": {
      "text/plain": [
       "'\\n<!doctype html>\\n<html>\\n<head>\\n\\t<title>Knowledge Structure</title>\\n    <script type=\"text/javascript\" src=\"../../lib/drawing/vis.js\"></script>\\n    <script src=\"../../results/result_webgraph/data/차2.js\" charset=\"utf-8\">\\n    </script>\\n    <style type=\"text/css\">#mynetwork \\n        {width: 100%;height: 1000px;border: 1px solid lightgray;}\\n    </style>\\n</head>\\n<body>\\n    <p> Cheonsol of Knowledge Structure.</p>\\n    <div id=\"mynetwork\"></div>\\n\\t<script type=\"text/javascript\">\\n\\t\\tvar container = document.getElementById(\\'mynetwork\\');\\n\\t\\tvar data = { nodes: nodes, edges: edges }; \\n        var options = \\n        { \"nodes\": {\"shape\" : \"circle\",\\n                    \"font\":{\"size\": 30}},\\n        \"edges\": {\"font\": {\"size\" : 25}, \\n            \"smooth\": {\"type\":\"continuous\",\"roundness\": 0.6}},\\n            \"physics\": {\"barnesHut\": {\"centralGravity\": 0.1},\\n            \"minVelocity\": 0.75}};\\n        var network = new vis.Network(container, data, options);\\n\\t</script>\\n</body>\\n</html>\\n'"
      ]
     },
     "execution_count": 587,
     "metadata": {},
     "output_type": "execute_result"
    }
   ],
   "source": [
    "html_text"
   ]
  },
  {
   "cell_type": "code",
   "execution_count": 588,
   "metadata": {},
   "outputs": [
    {
     "name": "stdout",
     "output_type": "stream",
     "text": [
      "차2.html 파일 생성 완료\n"
     ]
    }
   ],
   "source": [
    "html_file = open('./results/result_webgraph/' + file_name + '.html', 'w')\n",
    "html_file.write(html_text)\n",
    "html_file.close()\n",
    "print(file_name + \".html 파일 생성 완료\")"
   ]
  }
 ],
 "metadata": {
  "kernelspec": {
   "display_name": "Python 3",
   "language": "python",
   "name": "python3"
  },
  "language_info": {
   "codemirror_mode": {
    "name": "ipython",
    "version": 3
   },
   "file_extension": ".py",
   "mimetype": "text/x-python",
   "name": "python",
   "nbconvert_exporter": "python",
   "pygments_lexer": "ipython3",
   "version": "3.6.10"
  }
 },
 "nbformat": 4,
 "nbformat_minor": 4
}
