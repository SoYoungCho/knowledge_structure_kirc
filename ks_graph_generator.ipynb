{
 "cells": [
  {
   "cell_type": "markdown",
   "metadata": {},
   "source": [
    "# Knowledge Structure Graph Generator"
   ]
  },
  {
   "cell_type": "markdown",
   "metadata": {},
   "source": [
    "## 1. DB연결"
   ]
  },
  {
   "cell_type": "code",
   "execution_count": 1,
   "metadata": {},
   "outputs": [],
   "source": [
    "import pymysql"
   ]
  },
  {
   "cell_type": "code",
   "execution_count": 2,
   "metadata": {},
   "outputs": [],
   "source": [
    "juso_db = pymysql.connect(\n",
    "    user='root', \n",
    "    passwd='1234', \n",
    "    host='127.0.0.1', \n",
    "    db='test', \n",
    "    charset='utf8'\n",
    ")"
   ]
  },
  {
   "cell_type": "code",
   "execution_count": 3,
   "metadata": {},
   "outputs": [],
   "source": [
    "cursor = juso_db.cursor(pymysql.cursors.DictCursor)"
   ]
  },
  {
   "cell_type": "code",
   "execution_count": 4,
   "metadata": {},
   "outputs": [],
   "source": [
    "sql = \"SELECT * FROM knowledge_structure;\"\n",
    "cursor.execute(sql)\n",
    "result = cursor.fetchall()"
   ]
  },
  {
   "cell_type": "code",
   "execution_count": 5,
   "metadata": {},
   "outputs": [
    {
     "name": "stdout",
     "output_type": "stream",
     "text": [
      "------------------------------지식구조 목록 리스트------------------------------\n",
      "       DOC_ID COT_MODE                                KNOWLEDGE_STRUCTURE\n",
      "0        hemp      scs  sourc,origin,1.0\\nsourc,millennium,1.0\\nsourc,...\n",
      "1       kaist      scs  박사,과정,1.0\\n공동,카이스트,1.0\\n면역,세포,2.19\\n기술,개발,2.26...\n",
      "2          감초      scs  함량,재배,2.9\\n효능,역할,3.21\\n하루,이상,3.9\\n이상,단맛,3.9\\n한...\n",
      "3          녹차      scs  순수,티백,1.52\\n제품,제조,2.15\\n효과,흥분,2.95\\n제품,순수,2.95...\n",
      "4          대마      scs  마약,법률,3.06\\n약물,중독,3.26\\n한국,미국,3.87\\n필로폰,헤로인,4....\n",
      "5         바이오      scs  소재,개발,3.07\\n분야,성과,3.6\\n기술,식품,3.71\\n분야,식품,3.79\\...\n",
      "6    인공지능_이루다      scs  제공,특정,2.76\\n대화,연인들,3.54\\n개발사,여성,3.54\\n말투,학습,4....\n",
      "7   인공지능_이루다2      scs  특정,자사,1.63\\n수집,변호사,2.1\\n개인정보,유출,2.76\\n개인정보,수집,...\n",
      "8     인공지능_제조      scs  제조,역할,1.0\\n산업,제조,1.34\\n산업,역할,1.34\\n혁신,인공지능,2.3...\n",
      "9     인공지능_호텔      scs  호텔,서비스,1.99\\n코로나,업계,2.76\\n제공,정보,2.98\\n제공,차량,2....\n",
      "10          차      scs  남부,지방,2.71\\n재배,지역,4.03\\n식물,우려,4.81\\n남부,지역,4.85...\n",
      "11          콩      scs  두부,된장,1.8\\n고기,짜파게티,2.53\\n여성,에스트로겐,3.0\\n성분,여성호르...\n",
      "12         홍차      scs  여성,커피,2.96\\n시간,우려,3.25\\n생산,소비,3.41\\n홍차,영국,4.24...\n",
      "13         황기      scs  독성,약재,1.0\\n이상,한약재,1.0\\n이상,의약품,1.0\\n한약재,의약품,1.0...\n"
     ]
    }
   ],
   "source": [
    "import pandas as pd\n",
    "\n",
    "result = pd.DataFrame(result)\n",
    "print(\"------------------------------지식구조 목록 리스트------------------------------\")\n",
    "print(result) #지식구조 목록 리스트화"
   ]
  },
  {
   "cell_type": "code",
   "execution_count": 6,
   "metadata": {},
   "outputs": [],
   "source": [
    "knowledge_structure = result['KNOWLEDGE_STRUCTURE']"
   ]
  },
  {
   "cell_type": "markdown",
   "metadata": {},
   "source": [
    "## 2. 데이터 선택"
   ]
  },
  {
   "cell_type": "markdown",
   "metadata": {},
   "source": [
    "#### 작성할 파일 제목 정하기\n",
    "* file_name = \"파일명\""
   ]
  },
  {
   "cell_type": "code",
   "execution_count": 7,
   "metadata": {},
   "outputs": [],
   "source": [
    "file_name = \"바이오\" "
   ]
  },
  {
   "cell_type": "markdown",
   "metadata": {},
   "source": [
    "#### 추출하기 원하는 인덱스 선정"
   ]
  },
  {
   "cell_type": "code",
   "execution_count": 8,
   "metadata": {},
   "outputs": [],
   "source": [
    "condition = result['DOC_ID'] == file_name\n",
    "result_content = result[condition]['KNOWLEDGE_STRUCTURE'].reset_index()"
   ]
  },
  {
   "cell_type": "code",
   "execution_count": 9,
   "metadata": {},
   "outputs": [
    {
     "data": {
      "text/plain": [
       "'소재,개발,3.07\\n분야,성과,3.6\\n기술,식품,3.71\\n분야,식품,3.79\\n기술,개발,3.8\\n기술,우수,3.9\\n인프라,특성,3.9\\n지원,제품,3.98\\n소재,생산,4.0\\n소재,연구,4.14\\n바이오,산업,4.25\\n성과,특성,4.32\\n바이오,시장,4.42\\n연구개발,분야,4.43\\n소재,제품,4.55\\n제품,생산,4.55\\n지원,기업,4.66\\n기업,분야,4.66\\n바이오,인프라,4.78\\n지원,산업,4.78\\n소재,정보,4.81\\n산업,해수부,4.81\\n정보,생산,4.81\\n'"
      ]
     },
     "execution_count": 9,
     "metadata": {},
     "output_type": "execute_result"
    }
   ],
   "source": [
    "result_content['KNOWLEDGE_STRUCTURE'][0]"
   ]
  },
  {
   "cell_type": "code",
   "execution_count": 10,
   "metadata": {},
   "outputs": [
    {
     "name": "stdout",
     "output_type": "stream",
     "text": [
      "소재,개발,3.07\n",
      "분야,성과,3.6\n",
      "기술,식품,3.71\n",
      "분야,식품,3.79\n",
      "기술,개발,3.8\n",
      "기술,우수,3.9\n",
      "인프라,특성,3.9\n",
      "지원,제품,3.98\n",
      "소재,생산,4.0\n",
      "소재,연구,4.14\n",
      "바이오,산업,4.25\n",
      "성과,특성,4.32\n",
      "바이오,시장,4.42\n",
      "연구개발,분야,4.43\n",
      "소재,제품,4.55\n",
      "제품,생산,4.55\n",
      "지원,기업,4.66\n",
      "기업,분야,4.66\n",
      "바이오,인프라,4.78\n",
      "지원,산업,4.78\n",
      "소재,정보,4.81\n",
      "산업,해수부,4.81\n",
      "정보,생산,4.81\n",
      "\n"
     ]
    }
   ],
   "source": [
    "# data = knowledge_structure[1] #인덱스만 변경하기\n",
    "data = result_content['KNOWLEDGE_STRUCTURE'][0]\n",
    "print(data)"
   ]
  },
  {
   "cell_type": "code",
   "execution_count": 11,
   "metadata": {},
   "outputs": [],
   "source": [
    "import re\n",
    "\n",
    "contents = re.split('\\n', data)\n",
    "contents = contents[:-1] #맨 끝 데이터는 공백"
   ]
  },
  {
   "cell_type": "code",
   "execution_count": 12,
   "metadata": {},
   "outputs": [
    {
     "name": "stdout",
     "output_type": "stream",
     "text": [
      "['소재', '개발', '3.07']\n",
      "['분야', '성과', '3.6']\n",
      "['기술', '식품', '3.71']\n",
      "['분야', '식품', '3.79']\n",
      "['기술', '개발', '3.8']\n",
      "['기술', '우수', '3.9']\n",
      "['인프라', '특성', '3.9']\n",
      "['지원', '제품', '3.98']\n",
      "['소재', '생산', '4.0']\n",
      "['소재', '연구', '4.14']\n",
      "['바이오', '산업', '4.25']\n",
      "['성과', '특성', '4.32']\n",
      "['바이오', '시장', '4.42']\n",
      "['연구개발', '분야', '4.43']\n",
      "['소재', '제품', '4.55']\n",
      "['제품', '생산', '4.55']\n",
      "['지원', '기업', '4.66']\n",
      "['기업', '분야', '4.66']\n",
      "['바이오', '인프라', '4.78']\n",
      "['지원', '산업', '4.78']\n",
      "['소재', '정보', '4.81']\n",
      "['산업', '해수부', '4.81']\n",
      "['정보', '생산', '4.81']\n"
     ]
    }
   ],
   "source": [
    "#노드 추가\n",
    "for content in contents:\n",
    "    value = re.split(',', content) # ,단위로 구분하여 리스트화\n",
    "    print(value)"
   ]
  },
  {
   "cell_type": "markdown",
   "metadata": {},
   "source": [
    "## 3. Data JavaScript File 생성"
   ]
  },
  {
   "cell_type": "markdown",
   "metadata": {},
   "source": [
    "### 파일 2개 생성\n",
    "* keyword.js : data(nodes, edges)\n",
    "* keyword.html : graph"
   ]
  },
  {
   "cell_type": "markdown",
   "metadata": {},
   "source": [
    "### 01. keyword.js"
   ]
  },
  {
   "cell_type": "code",
   "execution_count": 13,
   "metadata": {},
   "outputs": [],
   "source": [
    "import networkx as nx"
   ]
  },
  {
   "cell_type": "code",
   "execution_count": 14,
   "metadata": {},
   "outputs": [],
   "source": [
    "G = nx.Graph()"
   ]
  },
  {
   "cell_type": "code",
   "execution_count": 15,
   "metadata": {},
   "outputs": [],
   "source": [
    "# 에지리스트를 그래프에 넣기 : 그래프에 입력된 노드 확인용\n",
    "for content in contents:\n",
    "    tmp = re.split(',', content)\n",
    "    G.add_edge(tmp[0], tmp[1], weight = tmp[2])"
   ]
  },
  {
   "cell_type": "code",
   "execution_count": 16,
   "metadata": {},
   "outputs": [],
   "source": [
    "degree_list = [degree for degree in G.degree()] # 각 노드별 차수 저장"
   ]
  },
  {
   "cell_type": "code",
   "execution_count": 17,
   "metadata": {},
   "outputs": [],
   "source": [
    "# 파일 저장용 nodes, edges\n",
    "graph_nodes = \"var nodes = \"\n",
    "graph_edges = \"var edges = \"\n",
    "\n",
    "# 리스트 생성용\n",
    "num = 0\n",
    "nodes_list = []\n",
    "reverse_graph = dict()\n",
    "\n",
    "for name in G.nodes():\n",
    "    # 딕셔너리 1개씩 생성하여 넣기\n",
    "    tmp = dict()\n",
    "    tmp['id'] = num\n",
    "    tmp['label'] = name\n",
    "    tmp['degree'] = degree_list[num][1]\n",
    "\n",
    "    \n",
    "    # 색상은 파랑색으로 지정\n",
    "    tmp['color'] = \"#97C2FC\"\n",
    "    \n",
    "#     # 차수가 3이상이면 빨간색 지정\n",
    "#     if(degree_list[num][1] >= 3):\n",
    "#         tmp['color'] = \"#FB7E81\"\n",
    "#     else:\n",
    "#         tmp['color'] = \"#97C2FC\"\n",
    "        \n",
    "    nodes_list.append(tmp)   # {id: 0, label: 'hemp'}형태\n",
    "    \n",
    "    reverse_graph[name] = num   # {'hemp':0, 'cannabi':1}형태, 목적: 'hemp'검색시 바로 노드 번호 확인(편의성 목적)\n",
    "    num += 1"
   ]
  },
  {
   "cell_type": "code",
   "execution_count": 18,
   "metadata": {},
   "outputs": [
    {
     "data": {
      "text/plain": [
       "[{'id': 0, 'label': '소재', 'degree': 5, 'color': '#97C2FC'},\n",
       " {'id': 1, 'label': '개발', 'degree': 2, 'color': '#97C2FC'},\n",
       " {'id': 2, 'label': '분야', 'degree': 4, 'color': '#97C2FC'},\n",
       " {'id': 3, 'label': '성과', 'degree': 2, 'color': '#97C2FC'},\n",
       " {'id': 4, 'label': '기술', 'degree': 3, 'color': '#97C2FC'},\n",
       " {'id': 5, 'label': '식품', 'degree': 2, 'color': '#97C2FC'},\n",
       " {'id': 6, 'label': '우수', 'degree': 1, 'color': '#97C2FC'},\n",
       " {'id': 7, 'label': '인프라', 'degree': 2, 'color': '#97C2FC'},\n",
       " {'id': 8, 'label': '특성', 'degree': 2, 'color': '#97C2FC'},\n",
       " {'id': 9, 'label': '지원', 'degree': 3, 'color': '#97C2FC'},\n",
       " {'id': 10, 'label': '제품', 'degree': 3, 'color': '#97C2FC'},\n",
       " {'id': 11, 'label': '생산', 'degree': 3, 'color': '#97C2FC'},\n",
       " {'id': 12, 'label': '연구', 'degree': 1, 'color': '#97C2FC'},\n",
       " {'id': 13, 'label': '바이오', 'degree': 3, 'color': '#97C2FC'},\n",
       " {'id': 14, 'label': '산업', 'degree': 3, 'color': '#97C2FC'},\n",
       " {'id': 15, 'label': '시장', 'degree': 1, 'color': '#97C2FC'},\n",
       " {'id': 16, 'label': '연구개발', 'degree': 1, 'color': '#97C2FC'},\n",
       " {'id': 17, 'label': '기업', 'degree': 2, 'color': '#97C2FC'},\n",
       " {'id': 18, 'label': '정보', 'degree': 2, 'color': '#97C2FC'},\n",
       " {'id': 19, 'label': '해수부', 'degree': 1, 'color': '#97C2FC'}]"
      ]
     },
     "execution_count": 18,
     "metadata": {},
     "output_type": "execute_result"
    }
   ],
   "source": [
    "nodes_list"
   ]
  },
  {
   "cell_type": "code",
   "execution_count": 19,
   "metadata": {},
   "outputs": [
    {
     "name": "stdout",
     "output_type": "stream",
     "text": [
      "var nodes = [{'id': 0, 'label': '소재', 'degree': 5, 'color': '#97C2FC'}, {'id': 1, 'label': '개발', 'degree': 2, 'color': '#97C2FC'}, {'id': 2, 'label': '분야', 'degree': 4, 'color': '#97C2FC'}, {'id': 3, 'label': '성과', 'degree': 2, 'color': '#97C2FC'}, {'id': 4, 'label': '기술', 'degree': 3, 'color': '#97C2FC'}, {'id': 5, 'label': '식품', 'degree': 2, 'color': '#97C2FC'}, {'id': 6, 'label': '우수', 'degree': 1, 'color': '#97C2FC'}, {'id': 7, 'label': '인프라', 'degree': 2, 'color': '#97C2FC'}, {'id': 8, 'label': '특성', 'degree': 2, 'color': '#97C2FC'}, {'id': 9, 'label': '지원', 'degree': 3, 'color': '#97C2FC'}, {'id': 10, 'label': '제품', 'degree': 3, 'color': '#97C2FC'}, {'id': 11, 'label': '생산', 'degree': 3, 'color': '#97C2FC'}, {'id': 12, 'label': '연구', 'degree': 1, 'color': '#97C2FC'}, {'id': 13, 'label': '바이오', 'degree': 3, 'color': '#97C2FC'}, {'id': 14, 'label': '산업', 'degree': 3, 'color': '#97C2FC'}, {'id': 15, 'label': '시장', 'degree': 1, 'color': '#97C2FC'}, {'id': 16, 'label': '연구개발', 'degree': 1, 'color': '#97C2FC'}, {'id': 17, 'label': '기업', 'degree': 2, 'color': '#97C2FC'}, {'id': 18, 'label': '정보', 'degree': 2, 'color': '#97C2FC'}, {'id': 19, 'label': '해수부', 'degree': 1, 'color': '#97C2FC'}];\n"
     ]
    }
   ],
   "source": [
    "graph_nodes += str(nodes_list) + \";\"\n",
    "print(graph_nodes)"
   ]
  },
  {
   "cell_type": "code",
   "execution_count": 20,
   "metadata": {},
   "outputs": [
    {
     "name": "stdout",
     "output_type": "stream",
     "text": [
      "{'소재': 0, '개발': 1, '분야': 2, '성과': 3, '기술': 4, '식품': 5, '우수': 6, '인프라': 7, '특성': 8, '지원': 9, '제품': 10, '생산': 11, '연구': 12, '바이오': 13, '산업': 14, '시장': 15, '연구개발': 16, '기업': 17, '정보': 18, '해수부': 19}\n"
     ]
    }
   ],
   "source": [
    "print(reverse_graph) # graph_nodes를 뒤집어서 저장, 예를 들어  label명 : id명"
   ]
  },
  {
   "cell_type": "code",
   "execution_count": 21,
   "metadata": {},
   "outputs": [],
   "source": [
    "edges_list = []\n",
    "\n",
    "edge_max = 0.0\n",
    "edge_min = 7.0\n",
    "\n",
    "for edge in G.edges(data='weight'):\n",
    "#     print(\"step: \" + edge[2])\n",
    "    tmp = float(edge[2])\n",
    "\n",
    "    #최댓값 저장\n",
    "    if(edge_max <= tmp):\n",
    "        edge_max = tmp\n",
    "    \n",
    "    #최솟값 저장\n",
    "    if(edge_min >= tmp):\n",
    "        edge_min = tmp\n",
    "        \n",
    "#     print(\"edge_max: \" + str(edge_max))\n",
    "#     print(\"edge_min: \" + str(edge_min))\n",
    "#     print()"
   ]
  },
  {
   "cell_type": "code",
   "execution_count": 22,
   "metadata": {},
   "outputs": [],
   "source": [
    "# edges는 {'hemp', 'cannabi', '3.21'}형태\n",
    "for edge in G.edges(data='weight'):\n",
    "    tmp = dict()\n",
    "    tmp['from']   = reverse_graph.get(edge[0])     # 'hemp'검색시 인덱스값\n",
    "    tmp['to']     = reverse_graph.get(edge[1])     # 'cannabi'검색시 인덱스값\n",
    "    tmp['label']  = edge[2]                        # 가중치 저장\n",
    "    \n",
    "    length = 7.0 - float(edge[2])\n",
    "    convert_edge_min = 7.0 - edge_max\n",
    "    minmax_scale = ((length - convert_edge_min) / (edge_max - edge_min)) * 500        # 길이를 min max 스케일링\n",
    "    tmp['value']  = round(minmax_scale, 2)         # Edge 두께를 가중치의 크기에 따라 변경(숫자가 클수록 두껍게)\n",
    "    \n",
    "    length = float(edge[2])\n",
    "    minmax_scale = ((length - edge_min)/(edge_max - edge_min)) * 500\n",
    "    tmp['length'] = round(minmax_scale +220, 2)    # Edge 길이를 min max 스케일링\n",
    "    \n",
    "    tmp['color'] = \"#d3d3d3\"                      \n",
    "\n",
    "    edges_list.append(tmp)"
   ]
  },
  {
   "cell_type": "code",
   "execution_count": 23,
   "metadata": {},
   "outputs": [
    {
     "name": "stdout",
     "output_type": "stream",
     "text": [
      "var edges = [{'from': 0, 'to': 1, 'label': '3.07', 'value': 500.0, 'length': 220.0, 'color': '#d3d3d3'}, {'from': 0, 'to': 11, 'label': '4.0', 'value': 232.76, 'length': 487.24, 'color': '#d3d3d3'}, {'from': 0, 'to': 12, 'label': '4.14', 'value': 192.53, 'length': 527.47, 'color': '#d3d3d3'}, {'from': 0, 'to': 10, 'label': '4.55', 'value': 74.71, 'length': 645.29, 'color': '#d3d3d3'}, {'from': 0, 'to': 18, 'label': '4.81', 'value': 0.0, 'length': 720.0, 'color': '#d3d3d3'}, {'from': 1, 'to': 4, 'label': '3.8', 'value': 290.23, 'length': 429.77, 'color': '#d3d3d3'}, {'from': 2, 'to': 3, 'label': '3.6', 'value': 347.7, 'length': 372.3, 'color': '#d3d3d3'}, {'from': 2, 'to': 5, 'label': '3.79', 'value': 293.1, 'length': 426.9, 'color': '#d3d3d3'}, {'from': 2, 'to': 16, 'label': '4.43', 'value': 109.2, 'length': 610.8, 'color': '#d3d3d3'}, {'from': 2, 'to': 17, 'label': '4.66', 'value': 43.1, 'length': 676.9, 'color': '#d3d3d3'}, {'from': 3, 'to': 8, 'label': '4.32', 'value': 140.8, 'length': 579.2, 'color': '#d3d3d3'}, {'from': 4, 'to': 5, 'label': '3.71', 'value': 316.09, 'length': 403.91, 'color': '#d3d3d3'}, {'from': 4, 'to': 6, 'label': '3.9', 'value': 261.49, 'length': 458.51, 'color': '#d3d3d3'}, {'from': 7, 'to': 8, 'label': '3.9', 'value': 261.49, 'length': 458.51, 'color': '#d3d3d3'}, {'from': 7, 'to': 13, 'label': '4.78', 'value': 8.62, 'length': 711.38, 'color': '#d3d3d3'}, {'from': 9, 'to': 10, 'label': '3.98', 'value': 238.51, 'length': 481.49, 'color': '#d3d3d3'}, {'from': 9, 'to': 17, 'label': '4.66', 'value': 43.1, 'length': 676.9, 'color': '#d3d3d3'}, {'from': 9, 'to': 14, 'label': '4.78', 'value': 8.62, 'length': 711.38, 'color': '#d3d3d3'}, {'from': 10, 'to': 11, 'label': '4.55', 'value': 74.71, 'length': 645.29, 'color': '#d3d3d3'}, {'from': 11, 'to': 18, 'label': '4.81', 'value': 0.0, 'length': 720.0, 'color': '#d3d3d3'}, {'from': 13, 'to': 14, 'label': '4.25', 'value': 160.92, 'length': 559.08, 'color': '#d3d3d3'}, {'from': 13, 'to': 15, 'label': '4.42', 'value': 112.07, 'length': 607.93, 'color': '#d3d3d3'}, {'from': 14, 'to': 19, 'label': '4.81', 'value': 0.0, 'length': 720.0, 'color': '#d3d3d3'}];\n"
     ]
    }
   ],
   "source": [
    "graph_edges += str(edges_list) + \";\"\n",
    "print(graph_edges)"
   ]
  },
  {
   "cell_type": "code",
   "execution_count": 24,
   "metadata": {},
   "outputs": [],
   "source": [
    "graph_data = graph_nodes + \"\\n\\n\" + graph_edges"
   ]
  },
  {
   "cell_type": "code",
   "execution_count": 25,
   "metadata": {},
   "outputs": [
    {
     "name": "stdout",
     "output_type": "stream",
     "text": [
      "var nodes = [{'id': 0, 'label': '소재', 'degree': 5, 'color': '#97C2FC'}, {'id': 1, 'label': '개발', 'degree': 2, 'color': '#97C2FC'}, {'id': 2, 'label': '분야', 'degree': 4, 'color': '#97C2FC'}, {'id': 3, 'label': '성과', 'degree': 2, 'color': '#97C2FC'}, {'id': 4, 'label': '기술', 'degree': 3, 'color': '#97C2FC'}, {'id': 5, 'label': '식품', 'degree': 2, 'color': '#97C2FC'}, {'id': 6, 'label': '우수', 'degree': 1, 'color': '#97C2FC'}, {'id': 7, 'label': '인프라', 'degree': 2, 'color': '#97C2FC'}, {'id': 8, 'label': '특성', 'degree': 2, 'color': '#97C2FC'}, {'id': 9, 'label': '지원', 'degree': 3, 'color': '#97C2FC'}, {'id': 10, 'label': '제품', 'degree': 3, 'color': '#97C2FC'}, {'id': 11, 'label': '생산', 'degree': 3, 'color': '#97C2FC'}, {'id': 12, 'label': '연구', 'degree': 1, 'color': '#97C2FC'}, {'id': 13, 'label': '바이오', 'degree': 3, 'color': '#97C2FC'}, {'id': 14, 'label': '산업', 'degree': 3, 'color': '#97C2FC'}, {'id': 15, 'label': '시장', 'degree': 1, 'color': '#97C2FC'}, {'id': 16, 'label': '연구개발', 'degree': 1, 'color': '#97C2FC'}, {'id': 17, 'label': '기업', 'degree': 2, 'color': '#97C2FC'}, {'id': 18, 'label': '정보', 'degree': 2, 'color': '#97C2FC'}, {'id': 19, 'label': '해수부', 'degree': 1, 'color': '#97C2FC'}];\n",
      "\n",
      "var edges = [{'from': 0, 'to': 1, 'label': '3.07', 'value': 500.0, 'length': 220.0, 'color': '#d3d3d3'}, {'from': 0, 'to': 11, 'label': '4.0', 'value': 232.76, 'length': 487.24, 'color': '#d3d3d3'}, {'from': 0, 'to': 12, 'label': '4.14', 'value': 192.53, 'length': 527.47, 'color': '#d3d3d3'}, {'from': 0, 'to': 10, 'label': '4.55', 'value': 74.71, 'length': 645.29, 'color': '#d3d3d3'}, {'from': 0, 'to': 18, 'label': '4.81', 'value': 0.0, 'length': 720.0, 'color': '#d3d3d3'}, {'from': 1, 'to': 4, 'label': '3.8', 'value': 290.23, 'length': 429.77, 'color': '#d3d3d3'}, {'from': 2, 'to': 3, 'label': '3.6', 'value': 347.7, 'length': 372.3, 'color': '#d3d3d3'}, {'from': 2, 'to': 5, 'label': '3.79', 'value': 293.1, 'length': 426.9, 'color': '#d3d3d3'}, {'from': 2, 'to': 16, 'label': '4.43', 'value': 109.2, 'length': 610.8, 'color': '#d3d3d3'}, {'from': 2, 'to': 17, 'label': '4.66', 'value': 43.1, 'length': 676.9, 'color': '#d3d3d3'}, {'from': 3, 'to': 8, 'label': '4.32', 'value': 140.8, 'length': 579.2, 'color': '#d3d3d3'}, {'from': 4, 'to': 5, 'label': '3.71', 'value': 316.09, 'length': 403.91, 'color': '#d3d3d3'}, {'from': 4, 'to': 6, 'label': '3.9', 'value': 261.49, 'length': 458.51, 'color': '#d3d3d3'}, {'from': 7, 'to': 8, 'label': '3.9', 'value': 261.49, 'length': 458.51, 'color': '#d3d3d3'}, {'from': 7, 'to': 13, 'label': '4.78', 'value': 8.62, 'length': 711.38, 'color': '#d3d3d3'}, {'from': 9, 'to': 10, 'label': '3.98', 'value': 238.51, 'length': 481.49, 'color': '#d3d3d3'}, {'from': 9, 'to': 17, 'label': '4.66', 'value': 43.1, 'length': 676.9, 'color': '#d3d3d3'}, {'from': 9, 'to': 14, 'label': '4.78', 'value': 8.62, 'length': 711.38, 'color': '#d3d3d3'}, {'from': 10, 'to': 11, 'label': '4.55', 'value': 74.71, 'length': 645.29, 'color': '#d3d3d3'}, {'from': 11, 'to': 18, 'label': '4.81', 'value': 0.0, 'length': 720.0, 'color': '#d3d3d3'}, {'from': 13, 'to': 14, 'label': '4.25', 'value': 160.92, 'length': 559.08, 'color': '#d3d3d3'}, {'from': 13, 'to': 15, 'label': '4.42', 'value': 112.07, 'length': 607.93, 'color': '#d3d3d3'}, {'from': 14, 'to': 19, 'label': '4.81', 'value': 0.0, 'length': 720.0, 'color': '#d3d3d3'}];\n"
     ]
    }
   ],
   "source": [
    "print(graph_data)"
   ]
  },
  {
   "cell_type": "code",
   "execution_count": 26,
   "metadata": {},
   "outputs": [
    {
     "name": "stdout",
     "output_type": "stream",
     "text": [
      "바이오.js 파일 생성 완료\n"
     ]
    }
   ],
   "source": [
    "f = open(\"./results/result_webgraph/data/\" + file_name + \".js\", 'w', encoding = 'utf8')\n",
    "f.write(graph_data)\n",
    "f.close()\n",
    "print(file_name + \".js 파일 생성 완료\")"
   ]
  },
  {
   "cell_type": "markdown",
   "metadata": {},
   "source": [
    "### 2. keyword.html"
   ]
  },
  {
   "cell_type": "code",
   "execution_count": 27,
   "metadata": {},
   "outputs": [],
   "source": [
    "html_top = \"\"\"\n",
    "<!doctype html>\n",
    "<html>\n",
    "<head>\n",
    "\t<title>Knowledge Structure</title>\n",
    "    \"\"\""
   ]
  },
  {
   "cell_type": "code",
   "execution_count": 28,
   "metadata": {},
   "outputs": [],
   "source": [
    "vis_location = \"\"\"<script type=\"text/javascript\" src=\"../../lib/drawing/vis.js\"></script>\n",
    "    \"\"\""
   ]
  },
  {
   "cell_type": "code",
   "execution_count": 29,
   "metadata": {},
   "outputs": [],
   "source": [
    "js_location = \"\"\"<script src=\"../../results/result_webgraph/data/\"\"\" + file_name + \"\"\".js\" charset=\"utf-8\">\n",
    "    </script>\n",
    "    <style type=\"text/css\">#mynetwork \n",
    "        {width: 100%;height: 1000px;border: 1px solid lightgray;}\n",
    "    </style>\n",
    "</head>\n",
    "<body>\n",
    "    \"\"\""
   ]
  },
  {
   "cell_type": "code",
   "execution_count": 30,
   "metadata": {},
   "outputs": [],
   "source": [
    "title = \"\"\"<p> Cheonsol of Knowledge Structure.</p>\"\"\""
   ]
  },
  {
   "cell_type": "code",
   "execution_count": 31,
   "metadata": {},
   "outputs": [],
   "source": [
    "body = \"\"\"\n",
    "    <div id=\"mynetwork\"></div>\n",
    "\t<script type=\"text/javascript\">\n",
    "\t\tvar container = document.getElementById('mynetwork');\n",
    "\t\tvar data = { nodes: nodes, edges: edges }; \"\"\""
   ]
  },
  {
   "cell_type": "code",
   "execution_count": 32,
   "metadata": {},
   "outputs": [],
   "source": [
    "option = \"\"\"\n",
    "        var options = \n",
    "        { \"nodes\": {\"shape\" : \"circle\",\n",
    "                    \"font\":{\"size\": 35}},\n",
    "        \"edges\": {\"scaling\":{\"max\":70}, \"font\": {\"size\" : 40}, \n",
    "            \"smooth\": {\"type\":\"continuous\",\"roundness\": 0.5}},\n",
    "            \"physics\": {\"barnesHut\": {\"centralGravity\": 0.001},\n",
    "            \"minVelocity\": 0.75}};\n",
    "        \"\"\""
   ]
  },
  {
   "cell_type": "code",
   "execution_count": 33,
   "metadata": {},
   "outputs": [],
   "source": [
    "bottom = \"\"\"var network = new vis.Network(container, data, options);\n",
    "\t</script>\n",
    "</body>\n",
    "</html>\n",
    "\"\"\""
   ]
  },
  {
   "cell_type": "code",
   "execution_count": 34,
   "metadata": {},
   "outputs": [],
   "source": [
    "html_text = html_top + vis_location + js_location + title + body + option + bottom"
   ]
  },
  {
   "cell_type": "code",
   "execution_count": 35,
   "metadata": {},
   "outputs": [
    {
     "data": {
      "text/plain": [
       "'\\n<!doctype html>\\n<html>\\n<head>\\n\\t<title>Knowledge Structure</title>\\n    <script type=\"text/javascript\" src=\"../../lib/drawing/vis.js\"></script>\\n    <script src=\"../../results/result_webgraph/data/바이오.js\" charset=\"utf-8\">\\n    </script>\\n    <style type=\"text/css\">#mynetwork \\n        {width: 100%;height: 1000px;border: 1px solid lightgray;}\\n    </style>\\n</head>\\n<body>\\n    <p> Cheonsol of Knowledge Structure.</p>\\n    <div id=\"mynetwork\"></div>\\n\\t<script type=\"text/javascript\">\\n\\t\\tvar container = document.getElementById(\\'mynetwork\\');\\n\\t\\tvar data = { nodes: nodes, edges: edges }; \\n        var options = \\n        { \"nodes\": {\"shape\" : \"circle\",\\n                    \"font\":{\"size\": 35}},\\n        \"edges\": {\"scaling\":{\"max\":70}, \"font\": {\"size\" : 40}, \\n            \"smooth\": {\"type\":\"continuous\",\"roundness\": 0.5}},\\n            \"physics\": {\"barnesHut\": {\"centralGravity\": 0.001},\\n            \"minVelocity\": 0.75}};\\n        var network = new vis.Network(container, data, options);\\n\\t</script>\\n</body>\\n</html>\\n'"
      ]
     },
     "execution_count": 35,
     "metadata": {},
     "output_type": "execute_result"
    }
   ],
   "source": [
    "html_text"
   ]
  },
  {
   "cell_type": "code",
   "execution_count": 36,
   "metadata": {},
   "outputs": [
    {
     "name": "stdout",
     "output_type": "stream",
     "text": [
      "바이오.html 파일 생성 완료\n"
     ]
    }
   ],
   "source": [
    "html_file = open('./results/result_webgraph/' + file_name + '.html', 'w')\n",
    "html_file.write(html_text)\n",
    "html_file.close()\n",
    "print(file_name + \".html 파일 생성 완료\")"
   ]
  },
  {
   "cell_type": "code",
   "execution_count": null,
   "metadata": {},
   "outputs": [],
   "source": []
  },
  {
   "cell_type": "code",
   "execution_count": null,
   "metadata": {},
   "outputs": [],
   "source": []
  },
  {
   "cell_type": "code",
   "execution_count": null,
   "metadata": {},
   "outputs": [],
   "source": []
  }
 ],
 "metadata": {
  "kernelspec": {
   "display_name": "Python 3",
   "language": "python",
   "name": "python3"
  },
  "language_info": {
   "codemirror_mode": {
    "name": "ipython",
    "version": 3
   },
   "file_extension": ".py",
   "mimetype": "text/x-python",
   "name": "python",
   "nbconvert_exporter": "python",
   "pygments_lexer": "ipython3",
   "version": "3.8.5"
  }
 },
 "nbformat": 4,
 "nbformat_minor": 4
}
