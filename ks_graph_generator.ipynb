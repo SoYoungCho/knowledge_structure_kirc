{
 "cells": [
  {
   "cell_type": "markdown",
   "metadata": {},
   "source": [
    "# Knowledge Structure Graph Generator"
   ]
  },
  {
   "cell_type": "markdown",
   "metadata": {},
   "source": [
    "## 1. DB연결"
   ]
  },
  {
   "cell_type": "code",
   "execution_count": 16,
   "metadata": {},
   "outputs": [],
   "source": [
    "import pymysql"
   ]
  },
  {
   "cell_type": "code",
   "execution_count": 17,
   "metadata": {},
   "outputs": [],
   "source": [
    "juso_db = pymysql.connect(\n",
    "    user='root', \n",
    "    passwd='1234', \n",
    "    host='127.0.0.1', \n",
    "    db='test', \n",
    "    charset='utf8'\n",
    ")"
   ]
  },
  {
   "cell_type": "code",
   "execution_count": 18,
   "metadata": {},
   "outputs": [],
   "source": [
    "cursor = juso_db.cursor(pymysql.cursors.DictCursor)"
   ]
  },
  {
   "cell_type": "code",
   "execution_count": 19,
   "metadata": {},
   "outputs": [],
   "source": [
    "sql = \"SELECT * FROM knowledge_structure;\"\n",
    "cursor.execute(sql)\n",
    "result = cursor.fetchall()"
   ]
  },
  {
   "cell_type": "code",
   "execution_count": 20,
   "metadata": {},
   "outputs": [
    {
     "name": "stdout",
     "output_type": "stream",
     "text": [
      "------------------------------지식구조 목록 리스트------------------------------\n",
      "  DOC_ID COT_MODE                                KNOWLEDGE_STRUCTURE\n",
      "0     감초      scs  부작용,기저,1.8\\n약용,식품,3.21\\n하루,이상,3.9\\n이상,단맛,3.9\\n...\n",
      "1     대마      scs  마약,법률,3.06\\n약물,중독,3.26\\n합법,국가,3.38\\n필로폰,헤로인,4....\n",
      "2      차      scs  남부,지방,2.71\\n지역,재배,4.03\\n우려,식물,4.81\\n지역,남부,4.85...\n",
      "3      콩      scs  두부,된장,1.8\\n고기,짜파게티,2.53\\n여성,에스트로겐,3.0\\n단백질,부족,...\n",
      "4     홍차      scs  우려,시간,3.79\\n커피,여성,3.79\\n홍차,영국,4.68\\n시간,한국,4.69...\n",
      "5     황기      scs  독성,약재,1.0\\n이상,한약재,1.0\\n이상,의약품,1.0\\n한약재,의약품,1.0...\n"
     ]
    }
   ],
   "source": [
    "import pandas as pd\n",
    "\n",
    "result = pd.DataFrame(result)\n",
    "print(\"------------------------------지식구조 목록 리스트------------------------------\")\n",
    "print(result) #지식구조 목록 리스트화"
   ]
  },
  {
   "cell_type": "code",
   "execution_count": 21,
   "metadata": {},
   "outputs": [],
   "source": [
    "knowledge_structure = result['KNOWLEDGE_STRUCTURE']"
   ]
  },
  {
   "cell_type": "markdown",
   "metadata": {},
   "source": [
    "## 2. 데이터 선택"
   ]
  },
  {
   "cell_type": "markdown",
   "metadata": {},
   "source": [
    "#### 작성할 파일 제목 정하기\n",
    "* file_name = \"파일명\""
   ]
  },
  {
   "cell_type": "code",
   "execution_count": 22,
   "metadata": {},
   "outputs": [],
   "source": [
    "file_name = \"홍차\" "
   ]
  },
  {
   "cell_type": "markdown",
   "metadata": {},
   "source": [
    "#### 추출하기 원하는 인덱스 선정"
   ]
  },
  {
   "cell_type": "code",
   "execution_count": 23,
   "metadata": {},
   "outputs": [
    {
     "name": "stdout",
     "output_type": "stream",
     "text": [
      "우려,시간,3.79\n",
      "커피,여성,3.79\n",
      "홍차,영국,4.68\n",
      "시간,한국,4.69\n",
      "영국,인도,4.78\n",
      "티백,경우,4.92\n",
      "영국,중국,5.02\n",
      "인도,소비,5.04\n",
      "영국,청나라,5.08\n",
      "국내,한국,5.16\n",
      "녹차,국내,5.23\n",
      "경우,카페,5.4\n",
      "홍차,귀족,5.47\n",
      "판매,카페,5.49\n",
      "홍차,국내,5.56\n",
      "홍차,카페,5.68\n",
      "커피,경우,5.78\n",
      "티백,설탕,6.35\n",
      "티백,사용,6.56\n",
      "\n"
     ]
    }
   ],
   "source": [
    "data = knowledge_structure[4] #인덱스만 변경하기\n",
    "print(data)"
   ]
  },
  {
   "cell_type": "code",
   "execution_count": 24,
   "metadata": {},
   "outputs": [],
   "source": [
    "import re\n",
    "\n",
    "contents = re.split('\\n', data)\n",
    "contents = contents[:-1] #맨 끝 데이터는 공백"
   ]
  },
  {
   "cell_type": "code",
   "execution_count": 25,
   "metadata": {},
   "outputs": [
    {
     "name": "stdout",
     "output_type": "stream",
     "text": [
      "['우려', '시간', '3.79']\n",
      "['커피', '여성', '3.79']\n",
      "['홍차', '영국', '4.68']\n",
      "['시간', '한국', '4.69']\n",
      "['영국', '인도', '4.78']\n",
      "['티백', '경우', '4.92']\n",
      "['영국', '중국', '5.02']\n",
      "['인도', '소비', '5.04']\n",
      "['영국', '청나라', '5.08']\n",
      "['국내', '한국', '5.16']\n",
      "['녹차', '국내', '5.23']\n",
      "['경우', '카페', '5.4']\n",
      "['홍차', '귀족', '5.47']\n",
      "['판매', '카페', '5.49']\n",
      "['홍차', '국내', '5.56']\n",
      "['홍차', '카페', '5.68']\n",
      "['커피', '경우', '5.78']\n",
      "['티백', '설탕', '6.35']\n",
      "['티백', '사용', '6.56']\n"
     ]
    }
   ],
   "source": [
    "#노드 추가\n",
    "for content in contents:\n",
    "    value = re.split(',', content) # ,단위로 구분하여 리스트화\n",
    "    print(value)"
   ]
  },
  {
   "cell_type": "markdown",
   "metadata": {},
   "source": [
    "## 3. Data JavaScript File 생성"
   ]
  },
  {
   "cell_type": "markdown",
   "metadata": {},
   "source": [
    "### 파일 2개 생성\n",
    "* keyword.js : data(nodes, edges)\n",
    "* keyword.html : graph"
   ]
  },
  {
   "cell_type": "markdown",
   "metadata": {},
   "source": [
    "### 01. keyword.js"
   ]
  },
  {
   "cell_type": "code",
   "execution_count": 26,
   "metadata": {},
   "outputs": [],
   "source": [
    "import networkx as nx"
   ]
  },
  {
   "cell_type": "code",
   "execution_count": 27,
   "metadata": {},
   "outputs": [],
   "source": [
    "G = nx.Graph()"
   ]
  },
  {
   "cell_type": "code",
   "execution_count": 28,
   "metadata": {},
   "outputs": [],
   "source": [
    "# 에지리스트를 그래프에 넣기 : 그래프에 입력된 노드 확인용\n",
    "for content in contents:\n",
    "    tmp = re.split(',', content)\n",
    "    G.add_edge(tmp[0], tmp[1], weight = tmp[2])"
   ]
  },
  {
   "cell_type": "code",
   "execution_count": 29,
   "metadata": {},
   "outputs": [],
   "source": [
    "degree_list = [degree for degree in G.degree()] # 각 노드별 차수 저장"
   ]
  },
  {
   "cell_type": "code",
   "execution_count": 30,
   "metadata": {},
   "outputs": [],
   "source": [
    "# 파일 저장용 nodes, edges\n",
    "graph_nodes = \"var nodes = \"\n",
    "graph_edges = \"var edges = \"\n",
    "\n",
    "# 리스트 생성용\n",
    "num = 0\n",
    "nodes_list = []\n",
    "reverse_graph = dict()\n",
    "\n",
    "for name in G.nodes():\n",
    "    # 딕셔너리 1개씩 생성하여 넣기\n",
    "    tmp = dict()\n",
    "    tmp['id'] = num\n",
    "    tmp['label'] = name\n",
    "    tmp['degree'] = degree_list[num][1]\n",
    "\n",
    "    \n",
    "    # 색상은 파랑색으로 지정\n",
    "    tmp['color'] = \"#97C2FC\"\n",
    "    \n",
    "#     # 차수가 3이상이면 빨간색 지정\n",
    "#     if(degree_list[num][1] >= 3):\n",
    "#         tmp['color'] = \"#FB7E81\"\n",
    "#     else:\n",
    "#         tmp['color'] = \"#97C2FC\"\n",
    "        \n",
    "    nodes_list.append(tmp)   # {id: 0, label: 'hemp'}형태\n",
    "    \n",
    "    reverse_graph[name] = num   # {'hemp':0, 'cannabi':1}형태, 목적: 'hemp'검색시 바로 노드 번호 확인(편의성 목적)\n",
    "    num += 1"
   ]
  },
  {
   "cell_type": "code",
   "execution_count": 31,
   "metadata": {},
   "outputs": [
    {
     "data": {
      "text/plain": [
       "[{'id': 0, 'label': '우려', 'degree': 1, 'color': '#97C2FC'},\n",
       " {'id': 1, 'label': '시간', 'degree': 2, 'color': '#97C2FC'},\n",
       " {'id': 2, 'label': '커피', 'degree': 2, 'color': '#97C2FC'},\n",
       " {'id': 3, 'label': '여성', 'degree': 1, 'color': '#97C2FC'},\n",
       " {'id': 4, 'label': '홍차', 'degree': 4, 'color': '#97C2FC'},\n",
       " {'id': 5, 'label': '영국', 'degree': 4, 'color': '#97C2FC'},\n",
       " {'id': 6, 'label': '한국', 'degree': 2, 'color': '#97C2FC'},\n",
       " {'id': 7, 'label': '인도', 'degree': 2, 'color': '#97C2FC'},\n",
       " {'id': 8, 'label': '티백', 'degree': 3, 'color': '#97C2FC'},\n",
       " {'id': 9, 'label': '경우', 'degree': 3, 'color': '#97C2FC'},\n",
       " {'id': 10, 'label': '중국', 'degree': 1, 'color': '#97C2FC'},\n",
       " {'id': 11, 'label': '소비', 'degree': 1, 'color': '#97C2FC'},\n",
       " {'id': 12, 'label': '청나라', 'degree': 1, 'color': '#97C2FC'},\n",
       " {'id': 13, 'label': '국내', 'degree': 3, 'color': '#97C2FC'},\n",
       " {'id': 14, 'label': '녹차', 'degree': 1, 'color': '#97C2FC'},\n",
       " {'id': 15, 'label': '카페', 'degree': 3, 'color': '#97C2FC'},\n",
       " {'id': 16, 'label': '귀족', 'degree': 1, 'color': '#97C2FC'},\n",
       " {'id': 17, 'label': '판매', 'degree': 1, 'color': '#97C2FC'},\n",
       " {'id': 18, 'label': '설탕', 'degree': 1, 'color': '#97C2FC'},\n",
       " {'id': 19, 'label': '사용', 'degree': 1, 'color': '#97C2FC'}]"
      ]
     },
     "execution_count": 31,
     "metadata": {},
     "output_type": "execute_result"
    }
   ],
   "source": [
    "nodes_list"
   ]
  },
  {
   "cell_type": "code",
   "execution_count": 32,
   "metadata": {},
   "outputs": [
    {
     "name": "stdout",
     "output_type": "stream",
     "text": [
      "var nodes = [{'id': 0, 'label': '우려', 'degree': 1, 'color': '#97C2FC'}, {'id': 1, 'label': '시간', 'degree': 2, 'color': '#97C2FC'}, {'id': 2, 'label': '커피', 'degree': 2, 'color': '#97C2FC'}, {'id': 3, 'label': '여성', 'degree': 1, 'color': '#97C2FC'}, {'id': 4, 'label': '홍차', 'degree': 4, 'color': '#97C2FC'}, {'id': 5, 'label': '영국', 'degree': 4, 'color': '#97C2FC'}, {'id': 6, 'label': '한국', 'degree': 2, 'color': '#97C2FC'}, {'id': 7, 'label': '인도', 'degree': 2, 'color': '#97C2FC'}, {'id': 8, 'label': '티백', 'degree': 3, 'color': '#97C2FC'}, {'id': 9, 'label': '경우', 'degree': 3, 'color': '#97C2FC'}, {'id': 10, 'label': '중국', 'degree': 1, 'color': '#97C2FC'}, {'id': 11, 'label': '소비', 'degree': 1, 'color': '#97C2FC'}, {'id': 12, 'label': '청나라', 'degree': 1, 'color': '#97C2FC'}, {'id': 13, 'label': '국내', 'degree': 3, 'color': '#97C2FC'}, {'id': 14, 'label': '녹차', 'degree': 1, 'color': '#97C2FC'}, {'id': 15, 'label': '카페', 'degree': 3, 'color': '#97C2FC'}, {'id': 16, 'label': '귀족', 'degree': 1, 'color': '#97C2FC'}, {'id': 17, 'label': '판매', 'degree': 1, 'color': '#97C2FC'}, {'id': 18, 'label': '설탕', 'degree': 1, 'color': '#97C2FC'}, {'id': 19, 'label': '사용', 'degree': 1, 'color': '#97C2FC'}];\n"
     ]
    }
   ],
   "source": [
    "graph_nodes += str(nodes_list) + \";\"\n",
    "print(graph_nodes)"
   ]
  },
  {
   "cell_type": "code",
   "execution_count": 33,
   "metadata": {},
   "outputs": [
    {
     "name": "stdout",
     "output_type": "stream",
     "text": [
      "{'우려': 0, '시간': 1, '커피': 2, '여성': 3, '홍차': 4, '영국': 5, '한국': 6, '인도': 7, '티백': 8, '경우': 9, '중국': 10, '소비': 11, '청나라': 12, '국내': 13, '녹차': 14, '카페': 15, '귀족': 16, '판매': 17, '설탕': 18, '사용': 19}\n"
     ]
    }
   ],
   "source": [
    "print(reverse_graph) # graph_nodes를 뒤집어서 저장, 예를 들어  label명 : id명"
   ]
  },
  {
   "cell_type": "code",
   "execution_count": 34,
   "metadata": {},
   "outputs": [],
   "source": [
    "edges_list = []\n",
    "\n",
    "edge_max = 0.0\n",
    "edge_min = 7.0\n",
    "\n",
    "for edge in G.edges(data='weight'):\n",
    "#     print(\"step: \" + edge[2])\n",
    "    tmp = float(edge[2])\n",
    "\n",
    "    #최댓값 저장\n",
    "    if(edge_max <= tmp):\n",
    "        edge_max = tmp\n",
    "    \n",
    "    #최솟값 저장\n",
    "    if(edge_min >= tmp):\n",
    "        edge_min = tmp\n",
    "        \n",
    "#     print(\"edge_max: \" + str(edge_max))\n",
    "#     print(\"edge_min: \" + str(edge_min))\n",
    "#     print()"
   ]
  },
  {
   "cell_type": "code",
   "execution_count": 35,
   "metadata": {},
   "outputs": [],
   "source": [
    "# edges는 {'hemp', 'cannabi', '3.21'}형태\n",
    "for edge in G.edges(data='weight'):\n",
    "    tmp = dict()\n",
    "    tmp['from']   = reverse_graph.get(edge[0])     # 'hemp'검색시 인덱스값\n",
    "    tmp['to']     = reverse_graph.get(edge[1])     # 'cannabi'검색시 인덱스값\n",
    "    tmp['label']  = edge[2]                        # 가중치 저장\n",
    "    \n",
    "    length = 7.0 - float(edge[2])\n",
    "    convert_edge_min = 7.0 - edge_max\n",
    "    minmax_scale = ((length - convert_edge_min) / (edge_max - edge_min)) * 500        # 길이를 min max 스케일링\n",
    "    tmp['value']  = round(minmax_scale, 2)         # Edge 두께를 가중치의 크기에 따라 변경(숫자가 클수록 두껍게)\n",
    "    \n",
    "    length = float(edge[2])\n",
    "    minmax_scale = ((length - edge_min)/(edge_max - edge_min)) * 500\n",
    "    tmp['length'] = round(minmax_scale +220, 2)    # Edge 길이를 min max 스케일링\n",
    "    \n",
    "    tmp['color'] = \"#d3d3d3\"                      \n",
    "\n",
    "    edges_list.append(tmp)"
   ]
  },
  {
   "cell_type": "code",
   "execution_count": 36,
   "metadata": {},
   "outputs": [
    {
     "name": "stdout",
     "output_type": "stream",
     "text": [
      "var edges = [{'from': 0, 'to': 1, 'label': '3.79', 'value': 500.0, 'length': 220.0, 'color': '#d3d3d3'}, {'from': 1, 'to': 6, 'label': '4.69', 'value': 337.55, 'length': 382.45, 'color': '#d3d3d3'}, {'from': 2, 'to': 3, 'label': '3.79', 'value': 500.0, 'length': 220.0, 'color': '#d3d3d3'}, {'from': 2, 'to': 9, 'label': '5.78', 'value': 140.79, 'length': 579.21, 'color': '#d3d3d3'}, {'from': 4, 'to': 5, 'label': '4.68', 'value': 339.35, 'length': 380.65, 'color': '#d3d3d3'}, {'from': 4, 'to': 16, 'label': '5.47', 'value': 196.75, 'length': 523.25, 'color': '#d3d3d3'}, {'from': 4, 'to': 13, 'label': '5.56', 'value': 180.51, 'length': 539.49, 'color': '#d3d3d3'}, {'from': 4, 'to': 15, 'label': '5.68', 'value': 158.84, 'length': 561.16, 'color': '#d3d3d3'}, {'from': 5, 'to': 7, 'label': '4.78', 'value': 321.3, 'length': 398.7, 'color': '#d3d3d3'}, {'from': 5, 'to': 10, 'label': '5.02', 'value': 277.98, 'length': 442.02, 'color': '#d3d3d3'}, {'from': 5, 'to': 12, 'label': '5.08', 'value': 267.15, 'length': 452.85, 'color': '#d3d3d3'}, {'from': 6, 'to': 13, 'label': '5.16', 'value': 252.71, 'length': 467.29, 'color': '#d3d3d3'}, {'from': 7, 'to': 11, 'label': '5.04', 'value': 274.37, 'length': 445.63, 'color': '#d3d3d3'}, {'from': 8, 'to': 9, 'label': '4.92', 'value': 296.03, 'length': 423.97, 'color': '#d3d3d3'}, {'from': 8, 'to': 18, 'label': '6.35', 'value': 37.91, 'length': 682.09, 'color': '#d3d3d3'}, {'from': 8, 'to': 19, 'label': '6.56', 'value': 0.0, 'length': 720.0, 'color': '#d3d3d3'}, {'from': 9, 'to': 15, 'label': '5.4', 'value': 209.39, 'length': 510.61, 'color': '#d3d3d3'}, {'from': 13, 'to': 14, 'label': '5.23', 'value': 240.07, 'length': 479.93, 'color': '#d3d3d3'}, {'from': 15, 'to': 17, 'label': '5.49', 'value': 193.14, 'length': 526.86, 'color': '#d3d3d3'}];\n"
     ]
    }
   ],
   "source": [
    "graph_edges += str(edges_list) + \";\"\n",
    "print(graph_edges)"
   ]
  },
  {
   "cell_type": "code",
   "execution_count": 37,
   "metadata": {},
   "outputs": [],
   "source": [
    "graph_data = graph_nodes + \"\\n\\n\" + graph_edges"
   ]
  },
  {
   "cell_type": "code",
   "execution_count": 38,
   "metadata": {},
   "outputs": [
    {
     "name": "stdout",
     "output_type": "stream",
     "text": [
      "var nodes = [{'id': 0, 'label': '우려', 'degree': 1, 'color': '#97C2FC'}, {'id': 1, 'label': '시간', 'degree': 2, 'color': '#97C2FC'}, {'id': 2, 'label': '커피', 'degree': 2, 'color': '#97C2FC'}, {'id': 3, 'label': '여성', 'degree': 1, 'color': '#97C2FC'}, {'id': 4, 'label': '홍차', 'degree': 4, 'color': '#97C2FC'}, {'id': 5, 'label': '영국', 'degree': 4, 'color': '#97C2FC'}, {'id': 6, 'label': '한국', 'degree': 2, 'color': '#97C2FC'}, {'id': 7, 'label': '인도', 'degree': 2, 'color': '#97C2FC'}, {'id': 8, 'label': '티백', 'degree': 3, 'color': '#97C2FC'}, {'id': 9, 'label': '경우', 'degree': 3, 'color': '#97C2FC'}, {'id': 10, 'label': '중국', 'degree': 1, 'color': '#97C2FC'}, {'id': 11, 'label': '소비', 'degree': 1, 'color': '#97C2FC'}, {'id': 12, 'label': '청나라', 'degree': 1, 'color': '#97C2FC'}, {'id': 13, 'label': '국내', 'degree': 3, 'color': '#97C2FC'}, {'id': 14, 'label': '녹차', 'degree': 1, 'color': '#97C2FC'}, {'id': 15, 'label': '카페', 'degree': 3, 'color': '#97C2FC'}, {'id': 16, 'label': '귀족', 'degree': 1, 'color': '#97C2FC'}, {'id': 17, 'label': '판매', 'degree': 1, 'color': '#97C2FC'}, {'id': 18, 'label': '설탕', 'degree': 1, 'color': '#97C2FC'}, {'id': 19, 'label': '사용', 'degree': 1, 'color': '#97C2FC'}];\n",
      "\n",
      "var edges = [{'from': 0, 'to': 1, 'label': '3.79', 'value': 500.0, 'length': 220.0, 'color': '#d3d3d3'}, {'from': 1, 'to': 6, 'label': '4.69', 'value': 337.55, 'length': 382.45, 'color': '#d3d3d3'}, {'from': 2, 'to': 3, 'label': '3.79', 'value': 500.0, 'length': 220.0, 'color': '#d3d3d3'}, {'from': 2, 'to': 9, 'label': '5.78', 'value': 140.79, 'length': 579.21, 'color': '#d3d3d3'}, {'from': 4, 'to': 5, 'label': '4.68', 'value': 339.35, 'length': 380.65, 'color': '#d3d3d3'}, {'from': 4, 'to': 16, 'label': '5.47', 'value': 196.75, 'length': 523.25, 'color': '#d3d3d3'}, {'from': 4, 'to': 13, 'label': '5.56', 'value': 180.51, 'length': 539.49, 'color': '#d3d3d3'}, {'from': 4, 'to': 15, 'label': '5.68', 'value': 158.84, 'length': 561.16, 'color': '#d3d3d3'}, {'from': 5, 'to': 7, 'label': '4.78', 'value': 321.3, 'length': 398.7, 'color': '#d3d3d3'}, {'from': 5, 'to': 10, 'label': '5.02', 'value': 277.98, 'length': 442.02, 'color': '#d3d3d3'}, {'from': 5, 'to': 12, 'label': '5.08', 'value': 267.15, 'length': 452.85, 'color': '#d3d3d3'}, {'from': 6, 'to': 13, 'label': '5.16', 'value': 252.71, 'length': 467.29, 'color': '#d3d3d3'}, {'from': 7, 'to': 11, 'label': '5.04', 'value': 274.37, 'length': 445.63, 'color': '#d3d3d3'}, {'from': 8, 'to': 9, 'label': '4.92', 'value': 296.03, 'length': 423.97, 'color': '#d3d3d3'}, {'from': 8, 'to': 18, 'label': '6.35', 'value': 37.91, 'length': 682.09, 'color': '#d3d3d3'}, {'from': 8, 'to': 19, 'label': '6.56', 'value': 0.0, 'length': 720.0, 'color': '#d3d3d3'}, {'from': 9, 'to': 15, 'label': '5.4', 'value': 209.39, 'length': 510.61, 'color': '#d3d3d3'}, {'from': 13, 'to': 14, 'label': '5.23', 'value': 240.07, 'length': 479.93, 'color': '#d3d3d3'}, {'from': 15, 'to': 17, 'label': '5.49', 'value': 193.14, 'length': 526.86, 'color': '#d3d3d3'}];\n"
     ]
    }
   ],
   "source": [
    "print(graph_data)"
   ]
  },
  {
   "cell_type": "code",
   "execution_count": 39,
   "metadata": {},
   "outputs": [
    {
     "name": "stdout",
     "output_type": "stream",
     "text": [
      "홍차.js 파일 생성 완료\n"
     ]
    }
   ],
   "source": [
    "f = open(\"./results/result_webgraph/data/\" + file_name + \".js\", 'w', encoding = 'utf8')\n",
    "f.write(graph_data)\n",
    "f.close()\n",
    "print(file_name + \".js 파일 생성 완료\")"
   ]
  },
  {
   "cell_type": "markdown",
   "metadata": {},
   "source": [
    "### 2. keyword.html"
   ]
  },
  {
   "cell_type": "code",
   "execution_count": 40,
   "metadata": {},
   "outputs": [],
   "source": [
    "html_top = \"\"\"\n",
    "<!doctype html>\n",
    "<html>\n",
    "<head>\n",
    "\t<title>Knowledge Structure</title>\n",
    "    \"\"\""
   ]
  },
  {
   "cell_type": "code",
   "execution_count": 41,
   "metadata": {},
   "outputs": [],
   "source": [
    "vis_location = \"\"\"<script type=\"text/javascript\" src=\"../../lib/drawing/vis.js\"></script>\n",
    "    \"\"\""
   ]
  },
  {
   "cell_type": "code",
   "execution_count": 42,
   "metadata": {},
   "outputs": [],
   "source": [
    "js_location = \"\"\"<script src=\"../../results/result_webgraph/data/\"\"\" + file_name + \"\"\".js\" charset=\"utf-8\">\n",
    "    </script>\n",
    "    <style type=\"text/css\">#mynetwork \n",
    "        {width: 100%;height: 1000px;border: 1px solid lightgray;}\n",
    "    </style>\n",
    "</head>\n",
    "<body>\n",
    "    \"\"\""
   ]
  },
  {
   "cell_type": "code",
   "execution_count": 43,
   "metadata": {},
   "outputs": [],
   "source": [
    "title = \"\"\"<p> Cheonsol of Knowledge Structure.</p>\"\"\""
   ]
  },
  {
   "cell_type": "code",
   "execution_count": 44,
   "metadata": {},
   "outputs": [],
   "source": [
    "body = \"\"\"\n",
    "    <div id=\"mynetwork\"></div>\n",
    "\t<script type=\"text/javascript\">\n",
    "\t\tvar container = document.getElementById('mynetwork');\n",
    "\t\tvar data = { nodes: nodes, edges: edges }; \"\"\""
   ]
  },
  {
   "cell_type": "code",
   "execution_count": 45,
   "metadata": {},
   "outputs": [],
   "source": [
    "option = \"\"\"\n",
    "        var options = \n",
    "        { \"nodes\": {\"shape\" : \"circle\",\n",
    "                    \"font\":{\"size\": 35}},\n",
    "        \"edges\": {\"scaling\":{\"max\":70}, \"font\": {\"size\" : 40}, \n",
    "            \"smooth\": {\"type\":\"continuous\",\"roundness\": 0.5}},\n",
    "            \"physics\": {\"barnesHut\": {\"centralGravity\": 0.05},\n",
    "            \"minVelocity\": 0.75}};\n",
    "        \"\"\""
   ]
  },
  {
   "cell_type": "code",
   "execution_count": 46,
   "metadata": {},
   "outputs": [],
   "source": [
    "bottom = \"\"\"var network = new vis.Network(container, data, options);\n",
    "\t</script>\n",
    "</body>\n",
    "</html>\n",
    "\"\"\""
   ]
  },
  {
   "cell_type": "code",
   "execution_count": 47,
   "metadata": {},
   "outputs": [],
   "source": [
    "html_text = html_top + vis_location + js_location + title + body + option + bottom"
   ]
  },
  {
   "cell_type": "code",
   "execution_count": 48,
   "metadata": {},
   "outputs": [
    {
     "data": {
      "text/plain": [
       "'\\n<!doctype html>\\n<html>\\n<head>\\n\\t<title>Knowledge Structure</title>\\n    <script type=\"text/javascript\" src=\"../../lib/drawing/vis.js\"></script>\\n    <script src=\"../../results/result_webgraph/data/홍차.js\" charset=\"utf-8\">\\n    </script>\\n    <style type=\"text/css\">#mynetwork \\n        {width: 100%;height: 1000px;border: 1px solid lightgray;}\\n    </style>\\n</head>\\n<body>\\n    <p> Cheonsol of Knowledge Structure.</p>\\n    <div id=\"mynetwork\"></div>\\n\\t<script type=\"text/javascript\">\\n\\t\\tvar container = document.getElementById(\\'mynetwork\\');\\n\\t\\tvar data = { nodes: nodes, edges: edges }; \\n        var options = \\n        { \"nodes\": {\"shape\" : \"circle\",\\n                    \"font\":{\"size\": 35}},\\n        \"edges\": {\"scaling\":{\"max\":70}, \"font\": {\"size\" : 40}, \\n            \"smooth\": {\"type\":\"continuous\",\"roundness\": 0.5}},\\n            \"physics\": {\"barnesHut\": {\"centralGravity\": 0.05},\\n            \"minVelocity\": 0.75}};\\n        var network = new vis.Network(container, data, options);\\n\\t</script>\\n</body>\\n</html>\\n'"
      ]
     },
     "execution_count": 48,
     "metadata": {},
     "output_type": "execute_result"
    }
   ],
   "source": [
    "html_text"
   ]
  },
  {
   "cell_type": "code",
   "execution_count": 49,
   "metadata": {},
   "outputs": [
    {
     "name": "stdout",
     "output_type": "stream",
     "text": [
      "홍차.html 파일 생성 완료\n"
     ]
    }
   ],
   "source": [
    "html_file = open('./results/result_webgraph/' + file_name + '.html', 'w')\n",
    "html_file.write(html_text)\n",
    "html_file.close()\n",
    "print(file_name + \".html 파일 생성 완료\")"
   ]
  },
  {
   "cell_type": "code",
   "execution_count": null,
   "metadata": {},
   "outputs": [],
   "source": []
  },
  {
   "cell_type": "code",
   "execution_count": null,
   "metadata": {},
   "outputs": [],
   "source": []
  },
  {
   "cell_type": "code",
   "execution_count": null,
   "metadata": {},
   "outputs": [],
   "source": []
  }
 ],
 "metadata": {
  "kernelspec": {
   "display_name": "Python 3",
   "language": "python",
   "name": "python3"
  },
  "language_info": {
   "codemirror_mode": {
    "name": "ipython",
    "version": 3
   },
   "file_extension": ".py",
   "mimetype": "text/x-python",
   "name": "python",
   "nbconvert_exporter": "python",
   "pygments_lexer": "ipython3",
   "version": "3.6.10"
  }
 },
 "nbformat": 4,
 "nbformat_minor": 4
}
