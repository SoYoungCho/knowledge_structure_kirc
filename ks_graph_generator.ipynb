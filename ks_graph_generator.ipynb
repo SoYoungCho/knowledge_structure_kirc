{
 "cells": [
  {
   "cell_type": "markdown",
   "metadata": {},
   "source": [
    "# Knowledge Structure Graph Generator"
   ]
  },
  {
   "cell_type": "markdown",
   "metadata": {},
   "source": [
    "## 1. DB연결"
   ]
  },
  {
   "cell_type": "code",
   "execution_count": 1,
   "metadata": {},
   "outputs": [],
   "source": [
    "import pymysql"
   ]
  },
  {
   "cell_type": "code",
   "execution_count": 2,
   "metadata": {},
   "outputs": [],
   "source": [
    "juso_db = pymysql.connect(\n",
    "    user='root', \n",
    "    passwd='1234', \n",
    "    host='127.0.0.1', \n",
    "    db='test', \n",
    "    charset='utf8'\n",
    ")"
   ]
  },
  {
   "cell_type": "code",
   "execution_count": 3,
   "metadata": {},
   "outputs": [],
   "source": [
    "cursor = juso_db.cursor(pymysql.cursors.DictCursor)"
   ]
  },
  {
   "cell_type": "code",
   "execution_count": 4,
   "metadata": {},
   "outputs": [],
   "source": [
    "sql = \"SELECT * FROM knowledge_structure;\"\n",
    "cursor.execute(sql)\n",
    "result = cursor.fetchall()"
   ]
  },
  {
   "cell_type": "code",
   "execution_count": 10,
   "metadata": {},
   "outputs": [
    {
     "name": "stdout",
     "output_type": "stream",
     "text": [
      "------------------------------지식구조 목록 리스트------------------------------\n",
      "  DOC_ID COT_MODE                                KNOWLEDGE_STRUCTURE\n",
      "0   Hemp      scs  hemp,paper,5.7\\nus,varieti,5.76\\nhemp,us,5.78\\...\n",
      "1     햄프      scs  필요,확장,1.0\\n외부,링크,1.0\\n식별자,국가,1.0\\n식별자,과거,1.0\\n...\n"
     ]
    }
   ],
   "source": [
    "import pandas as pd\n",
    "\n",
    "result = pd.DataFrame(result)\n",
    "print(\"------------------------------지식구조 목록 리스트------------------------------\")\n",
    "print(result) #지식구조 목록 리스트화"
   ]
  },
  {
   "cell_type": "code",
   "execution_count": 8,
   "metadata": {},
   "outputs": [],
   "source": [
    "knowledge_structure = result['KNOWLEDGE_STRUCTURE']"
   ]
  },
  {
   "cell_type": "markdown",
   "metadata": {},
   "source": [
    "## 2. 데이터 선택"
   ]
  },
  {
   "cell_type": "code",
   "execution_count": 13,
   "metadata": {},
   "outputs": [
    {
     "name": "stdout",
     "output_type": "stream",
     "text": [
      "필요,확장,1.0\n",
      "외부,링크,1.0\n",
      "식별자,국가,1.0\n",
      "식별자,과거,1.0\n",
      "국가,과거,1.0\n",
      "사용,램프,1.43\n",
      "내용,식별자,2.1\n",
      "내용,국가,2.1\n",
      "내용,과거,2.1\n",
      "분류,속씨식물군,2.19\n",
      "문서,필요,2.3\n",
      "문서,확장,2.3\n",
      "외부,램프,2.76\n",
      "파킨슨병,착색제,2.76\n",
      "세계,착색제,2.76\n",
      "세계,한때,2.76\n",
      "링크,램프,2.76\n",
      "편집,외부,3.54\n",
      "편집,링크,3.54\n",
      "삼과,속씨식물군,3.54\n",
      "분류,식별자,3.79\n",
      "분류,국가,3.79\n",
      "분류,과거,3.79\n",
      "외부,관련,4.0\n",
      "관련,링크,4.0\n",
      "문서,내용,4.55\n",
      "편집,내용,5.0\n",
      "사용,착색제,5.89\n",
      "\n"
     ]
    }
   ],
   "source": [
    "data = knowledge_structure[1] #인덱스만 변경하기\n",
    "print(data)"
   ]
  },
  {
   "cell_type": "code",
   "execution_count": 18,
   "metadata": {},
   "outputs": [],
   "source": [
    "import re\n",
    "\n",
    "contents = re.split('\\n', data)\n",
    "contents = contents[:-1] #맨 끝 데이터는 공백"
   ]
  },
  {
   "cell_type": "code",
   "execution_count": 22,
   "metadata": {},
   "outputs": [
    {
     "name": "stdout",
     "output_type": "stream",
     "text": [
      "['필요', '확장', '1.0']\n",
      "['외부', '링크', '1.0']\n",
      "['식별자', '국가', '1.0']\n",
      "['식별자', '과거', '1.0']\n",
      "['국가', '과거', '1.0']\n",
      "['사용', '램프', '1.43']\n",
      "['내용', '식별자', '2.1']\n",
      "['내용', '국가', '2.1']\n",
      "['내용', '과거', '2.1']\n",
      "['분류', '속씨식물군', '2.19']\n",
      "['문서', '필요', '2.3']\n",
      "['문서', '확장', '2.3']\n",
      "['외부', '램프', '2.76']\n",
      "['파킨슨병', '착색제', '2.76']\n",
      "['세계', '착색제', '2.76']\n",
      "['세계', '한때', '2.76']\n",
      "['링크', '램프', '2.76']\n",
      "['편집', '외부', '3.54']\n",
      "['편집', '링크', '3.54']\n",
      "['삼과', '속씨식물군', '3.54']\n",
      "['분류', '식별자', '3.79']\n",
      "['분류', '국가', '3.79']\n",
      "['분류', '과거', '3.79']\n",
      "['외부', '관련', '4.0']\n",
      "['관련', '링크', '4.0']\n",
      "['문서', '내용', '4.55']\n",
      "['편집', '내용', '5.0']\n",
      "['사용', '착색제', '5.89']\n"
     ]
    }
   ],
   "source": [
    "#노드 추가\n",
    "for content in contents:\n",
    "    value = re.split(',', content) # ,단위로 구분하여 리스트화\n",
    "    print(value)"
   ]
  },
  {
   "cell_type": "markdown",
   "metadata": {},
   "source": [
    "## 3. Data JavaScript File 생성"
   ]
  },
  {
   "cell_type": "markdown",
   "metadata": {},
   "source": [
    "### 파일 2개 생성\n",
    "* keyword.js : data(nodes, edges)\n",
    "* keyword.html : graph"
   ]
  },
  {
   "cell_type": "markdown",
   "metadata": {},
   "source": [
    "### 01. keyword.js"
   ]
  },
  {
   "cell_type": "code",
   "execution_count": 23,
   "metadata": {},
   "outputs": [],
   "source": [
    "import networkx as nx"
   ]
  },
  {
   "cell_type": "code",
   "execution_count": 24,
   "metadata": {},
   "outputs": [],
   "source": [
    "G = nx.Graph()"
   ]
  },
  {
   "cell_type": "code",
   "execution_count": 25,
   "metadata": {},
   "outputs": [],
   "source": [
    "# 에지리스트를 그래프에 넣기 : 그래프에 입력된 노드 확인용\n",
    "for content in contents:\n",
    "    tmp = re.split(',', content)\n",
    "    G.add_edge(tmp[0], tmp[1], weight = tmp[2])"
   ]
  },
  {
   "cell_type": "code",
   "execution_count": 26,
   "metadata": {},
   "outputs": [],
   "source": [
    "# 파일 저장용 nodes, edges\n",
    "graph_nodes = \"var nodes = \"\n",
    "graph_edges = \"var edges = \"\n",
    "\n",
    "# 리스트 생성용\n",
    "num = 0\n",
    "nodes_list = []\n",
    "reverse_graph = dict()\n",
    "\n",
    "for name in G.nodes():\n",
    "    # 딕셔너리 1개씩 생성하여 넣기\n",
    "    tmp = dict()\n",
    "    tmp['id'] = num\n",
    "    tmp['label'] = name\n",
    "    nodes_list.append(tmp)   # {id: 0, label: 'hemp'}형태\n",
    "    \n",
    "    reverse_graph[name] = num   # {'hemp':0, 'cannabi':1}형태, 목적: 'hemp'검색시 바로 노드 번호 확인(편의성 목적)\n",
    "    num += 1"
   ]
  },
  {
   "cell_type": "code",
   "execution_count": 27,
   "metadata": {},
   "outputs": [
    {
     "name": "stdout",
     "output_type": "stream",
     "text": [
      "var nodes = [{'id': 0, 'label': '필요'}, {'id': 1, 'label': '확장'}, {'id': 2, 'label': '외부'}, {'id': 3, 'label': '링크'}, {'id': 4, 'label': '식별자'}, {'id': 5, 'label': '국가'}, {'id': 6, 'label': '과거'}, {'id': 7, 'label': '사용'}, {'id': 8, 'label': '램프'}, {'id': 9, 'label': '내용'}, {'id': 10, 'label': '분류'}, {'id': 11, 'label': '속씨식물군'}, {'id': 12, 'label': '문서'}, {'id': 13, 'label': '파킨슨병'}, {'id': 14, 'label': '착색제'}, {'id': 15, 'label': '세계'}, {'id': 16, 'label': '한때'}, {'id': 17, 'label': '편집'}, {'id': 18, 'label': '삼과'}, {'id': 19, 'label': '관련'}];\n"
     ]
    }
   ],
   "source": [
    "graph_nodes += str(nodes_list) + \";\"\n",
    "print(graph_nodes)"
   ]
  },
  {
   "cell_type": "code",
   "execution_count": 28,
   "metadata": {},
   "outputs": [
    {
     "name": "stdout",
     "output_type": "stream",
     "text": [
      "{'필요': 0, '확장': 1, '외부': 2, '링크': 3, '식별자': 4, '국가': 5, '과거': 6, '사용': 7, '램프': 8, '내용': 9, '분류': 10, '속씨식물군': 11, '문서': 12, '파킨슨병': 13, '착색제': 14, '세계': 15, '한때': 16, '편집': 17, '삼과': 18, '관련': 19}\n"
     ]
    }
   ],
   "source": [
    "print(reverse_graph) # graph_nodes를 뒤집어서 저장, 예를 들어  label명 : id명"
   ]
  },
  {
   "cell_type": "code",
   "execution_count": 29,
   "metadata": {},
   "outputs": [],
   "source": [
    "edges_list = []\n",
    "\n",
    "# edges는 {'hemp', 'cannabi', '3.21'}형태\n",
    "for edge in G.edges(data='weight'):\n",
    "    tmp = dict()\n",
    "    tmp['from']  = reverse_graph.get(edge[0])  # 'hemp'검색시 인덱스값\n",
    "    tmp['to']    = reverse_graph.get(edge[1])  # 'cannabi'검색시 인덱스값\n",
    "    tmp['label'] = edge[2]                    # 가중치 저장\n",
    "\n",
    "    edges_list.append(tmp)"
   ]
  },
  {
   "cell_type": "code",
   "execution_count": 30,
   "metadata": {},
   "outputs": [
    {
     "name": "stdout",
     "output_type": "stream",
     "text": [
      "var edges = [{'from': 0, 'to': 1, 'label': '1.0'}, {'from': 0, 'to': 12, 'label': '2.3'}, {'from': 1, 'to': 12, 'label': '2.3'}, {'from': 2, 'to': 3, 'label': '1.0'}, {'from': 2, 'to': 8, 'label': '2.76'}, {'from': 2, 'to': 17, 'label': '3.54'}, {'from': 2, 'to': 19, 'label': '4.0'}, {'from': 3, 'to': 8, 'label': '2.76'}, {'from': 3, 'to': 17, 'label': '3.54'}, {'from': 3, 'to': 19, 'label': '4.0'}, {'from': 4, 'to': 5, 'label': '1.0'}, {'from': 4, 'to': 6, 'label': '1.0'}, {'from': 4, 'to': 9, 'label': '2.1'}, {'from': 4, 'to': 10, 'label': '3.79'}, {'from': 5, 'to': 6, 'label': '1.0'}, {'from': 5, 'to': 9, 'label': '2.1'}, {'from': 5, 'to': 10, 'label': '3.79'}, {'from': 6, 'to': 9, 'label': '2.1'}, {'from': 6, 'to': 10, 'label': '3.79'}, {'from': 7, 'to': 8, 'label': '1.43'}, {'from': 7, 'to': 14, 'label': '5.89'}, {'from': 9, 'to': 12, 'label': '4.55'}, {'from': 9, 'to': 17, 'label': '5.0'}, {'from': 10, 'to': 11, 'label': '2.19'}, {'from': 11, 'to': 18, 'label': '3.54'}, {'from': 13, 'to': 14, 'label': '2.76'}, {'from': 14, 'to': 15, 'label': '2.76'}, {'from': 15, 'to': 16, 'label': '2.76'}];\n"
     ]
    }
   ],
   "source": [
    "graph_edges += str(edges_list) + \";\"\n",
    "print(graph_edges)"
   ]
  },
  {
   "cell_type": "code",
   "execution_count": 31,
   "metadata": {},
   "outputs": [],
   "source": [
    "graph_data = graph_nodes + \"\\n\\n\" + graph_edges"
   ]
  },
  {
   "cell_type": "code",
   "execution_count": 34,
   "metadata": {},
   "outputs": [
    {
     "name": "stdout",
     "output_type": "stream",
     "text": [
      "var nodes = [{'id': 0, 'label': '필요'}, {'id': 1, 'label': '확장'}, {'id': 2, 'label': '외부'}, {'id': 3, 'label': '링크'}, {'id': 4, 'label': '식별자'}, {'id': 5, 'label': '국가'}, {'id': 6, 'label': '과거'}, {'id': 7, 'label': '사용'}, {'id': 8, 'label': '램프'}, {'id': 9, 'label': '내용'}, {'id': 10, 'label': '분류'}, {'id': 11, 'label': '속씨식물군'}, {'id': 12, 'label': '문서'}, {'id': 13, 'label': '파킨슨병'}, {'id': 14, 'label': '착색제'}, {'id': 15, 'label': '세계'}, {'id': 16, 'label': '한때'}, {'id': 17, 'label': '편집'}, {'id': 18, 'label': '삼과'}, {'id': 19, 'label': '관련'}];\n",
      "\n",
      "var edges = [{'from': 0, 'to': 1, 'label': '1.0'}, {'from': 0, 'to': 12, 'label': '2.3'}, {'from': 1, 'to': 12, 'label': '2.3'}, {'from': 2, 'to': 3, 'label': '1.0'}, {'from': 2, 'to': 8, 'label': '2.76'}, {'from': 2, 'to': 17, 'label': '3.54'}, {'from': 2, 'to': 19, 'label': '4.0'}, {'from': 3, 'to': 8, 'label': '2.76'}, {'from': 3, 'to': 17, 'label': '3.54'}, {'from': 3, 'to': 19, 'label': '4.0'}, {'from': 4, 'to': 5, 'label': '1.0'}, {'from': 4, 'to': 6, 'label': '1.0'}, {'from': 4, 'to': 9, 'label': '2.1'}, {'from': 4, 'to': 10, 'label': '3.79'}, {'from': 5, 'to': 6, 'label': '1.0'}, {'from': 5, 'to': 9, 'label': '2.1'}, {'from': 5, 'to': 10, 'label': '3.79'}, {'from': 6, 'to': 9, 'label': '2.1'}, {'from': 6, 'to': 10, 'label': '3.79'}, {'from': 7, 'to': 8, 'label': '1.43'}, {'from': 7, 'to': 14, 'label': '5.89'}, {'from': 9, 'to': 12, 'label': '4.55'}, {'from': 9, 'to': 17, 'label': '5.0'}, {'from': 10, 'to': 11, 'label': '2.19'}, {'from': 11, 'to': 18, 'label': '3.54'}, {'from': 13, 'to': 14, 'label': '2.76'}, {'from': 14, 'to': 15, 'label': '2.76'}, {'from': 15, 'to': 16, 'label': '2.76'}];\n"
     ]
    }
   ],
   "source": [
    "print(graph_data)"
   ]
  },
  {
   "cell_type": "markdown",
   "metadata": {},
   "source": [
    "#### 작성할 파일 제목 정하기\n",
    "* file_name = \"파일명\""
   ]
  },
  {
   "cell_type": "code",
   "execution_count": 36,
   "metadata": {},
   "outputs": [],
   "source": [
    "file_name = \"햄프\""
   ]
  },
  {
   "cell_type": "code",
   "execution_count": 49,
   "metadata": {},
   "outputs": [
    {
     "name": "stdout",
     "output_type": "stream",
     "text": [
      "햄프.js 파일 생성 완료\n"
     ]
    }
   ],
   "source": [
    "f = open(\"./results/result_webgraph/data/\" + file_name + \".js\", 'w', encoding = 'utf8')\n",
    "f.write(graph_data)\n",
    "f.close()\n",
    "print(file_name + \".js 파일 생성 완료\")"
   ]
  },
  {
   "cell_type": "markdown",
   "metadata": {},
   "source": [
    "### 2. keyword.html"
   ]
  },
  {
   "cell_type": "code",
   "execution_count": 38,
   "metadata": {},
   "outputs": [],
   "source": [
    "html_top = \"\"\"\n",
    "<!doctype html>\n",
    "<html>\n",
    "<head>\n",
    "\t<title>Knowledge Structure</title>\n",
    "    \"\"\""
   ]
  },
  {
   "cell_type": "code",
   "execution_count": 39,
   "metadata": {},
   "outputs": [],
   "source": [
    "vis_location = \"\"\"<script type=\"text/javascript\" src=\"../../lib/drawing/vis.js\"></script>\"\"\""
   ]
  },
  {
   "cell_type": "code",
   "execution_count": 40,
   "metadata": {},
   "outputs": [],
   "source": [
    "js_location = \"\"\"<script src=\"../../results/result_webgraph/data/\"\"\" + file_name + \"\"\".js\" charset=\"utf-8\">\n",
    "    </script>\n",
    "    <style type=\"text/css\">#mynetwork \n",
    "    {width: 100%;height: 1000px;border: 1px solid lightgray;}</style>\n",
    "</head>\n",
    "<body>\n",
    "\"\"\""
   ]
  },
  {
   "cell_type": "code",
   "execution_count": 41,
   "metadata": {},
   "outputs": [],
   "source": [
    "title = \"\"\"<p> Cheonsol of Knowledge Structure.</p>\"\"\""
   ]
  },
  {
   "cell_type": "code",
   "execution_count": 42,
   "metadata": {},
   "outputs": [],
   "source": [
    "body = \"\"\"\n",
    "    <div id=\"mynetwork\"></div>\n",
    "\t<script type=\"text/javascript\">\n",
    "\t\tvar container = document.getElementById('mynetwork');\n",
    "\t\tvar data = { nodes: nodes, edges: edges }; \"\"\""
   ]
  },
  {
   "cell_type": "code",
   "execution_count": 43,
   "metadata": {},
   "outputs": [],
   "source": [
    "option = \"\"\"\n",
    "        var options = \n",
    "        { \"edges\": {\"smooth\": {\"forceDirection\": \"none\"}},\n",
    "        \"physics\": {\"barnesHut\": {\"centralGravity\": 0.5,\"springLength\": 305},\n",
    "        \"minVelocity\": 0.75}}; \"\"\""
   ]
  },
  {
   "cell_type": "code",
   "execution_count": 44,
   "metadata": {},
   "outputs": [],
   "source": [
    "bottom = \"\"\"var network = new vis.Network(container, data, options);\n",
    "\t</script>\n",
    "</body>\n",
    "</html>\n",
    "\"\"\""
   ]
  },
  {
   "cell_type": "code",
   "execution_count": 45,
   "metadata": {},
   "outputs": [],
   "source": [
    "html_text = html_top + vis_location + js_location + title + body + option + bottom"
   ]
  },
  {
   "cell_type": "code",
   "execution_count": 46,
   "metadata": {},
   "outputs": [
    {
     "data": {
      "text/plain": [
       "'\\n<!doctype html>\\n<html>\\n<head>\\n\\t<title>Knowledge Structure</title>\\n    <script type=\"text/javascript\" src=\"../../lib/drawing/vis.js\"></script><script src=\"../../results/result_webgraph/data/햄프.js\" charset=\"utf-8\">\\n    </script>\\n    <style type=\"text/css\">#mynetwork \\n    {width: 100%;height: 1000px;border: 1px solid lightgray;}</style>\\n</head>\\n<body>\\n<p> Cheonsol of Knowledge Structure.</p>\\n    <div id=\"mynetwork\"></div>\\n\\t<script type=\"text/javascript\">\\n\\t\\tvar container = document.getElementById(\\'mynetwork\\');\\n\\t\\tvar data = { nodes: nodes, edges: edges }; \\n        var options = \\n        { \"edges\": {\"smooth\": {\"forceDirection\": \"none\"}},\\n        \"physics\": {\"barnesHut\": {\"centralGravity\": 0.5,\"springLength\": 305},\\n        \"minVelocity\": 0.75}}; var network = new vis.Network(container, data, options);\\n\\t</script>\\n</body>\\n</html>\\n'"
      ]
     },
     "execution_count": 46,
     "metadata": {},
     "output_type": "execute_result"
    }
   ],
   "source": [
    "html_text"
   ]
  },
  {
   "cell_type": "code",
   "execution_count": 48,
   "metadata": {},
   "outputs": [
    {
     "name": "stdout",
     "output_type": "stream",
     "text": [
      "햄프.html 파일 생성 완료\n"
     ]
    }
   ],
   "source": [
    "html_file = open('./results/result_webgraph/' + file_name + '.html', 'w')\n",
    "html_file.write(html_text)\n",
    "html_file.close()\n",
    "print(file_name + \".html 파일 생성 완료\")"
   ]
  }
 ],
 "metadata": {
  "kernelspec": {
   "display_name": "Python 3",
   "language": "python",
   "name": "python3"
  },
  "language_info": {
   "codemirror_mode": {
    "name": "ipython",
    "version": 3
   },
   "file_extension": ".py",
   "mimetype": "text/x-python",
   "name": "python",
   "nbconvert_exporter": "python",
   "pygments_lexer": "ipython3",
   "version": "3.6.10"
  }
 },
 "nbformat": 4,
 "nbformat_minor": 4
}
