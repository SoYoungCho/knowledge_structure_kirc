{
 "cells": [
  {
   "cell_type": "markdown",
   "metadata": {},
   "source": [
    "# Knowledge Structure Graph Generator"
   ]
  },
  {
   "cell_type": "markdown",
   "metadata": {},
   "source": [
    "## 1. DB연결"
   ]
  },
  {
   "cell_type": "code",
   "execution_count": 1,
   "metadata": {},
   "outputs": [],
   "source": [
    "import pymysql"
   ]
  },
  {
   "cell_type": "code",
   "execution_count": 2,
   "metadata": {},
   "outputs": [],
   "source": [
    "juso_db = pymysql.connect(\n",
    "    user='root', \n",
    "    passwd='1234', \n",
    "    host='127.0.0.1', \n",
    "    db='test', \n",
    "    charset='utf8'\n",
    ")"
   ]
  },
  {
   "cell_type": "code",
   "execution_count": 3,
   "metadata": {},
   "outputs": [],
   "source": [
    "cursor = juso_db.cursor(pymysql.cursors.DictCursor)"
   ]
  },
  {
   "cell_type": "code",
   "execution_count": 4,
   "metadata": {},
   "outputs": [],
   "source": [
    "sql = \"SELECT * FROM knowledge_structure;\"\n",
    "cursor.execute(sql)\n",
    "result = cursor.fetchall()"
   ]
  },
  {
   "cell_type": "code",
   "execution_count": 5,
   "metadata": {},
   "outputs": [
    {
     "name": "stdout",
     "output_type": "stream",
     "text": [
      "------------------------------지식구조 목록 리스트------------------------------\n",
      "       DOC_ID COT_MODE                                KNOWLEDGE_STRUCTURE\n",
      "0        hemp      scs  sourc,origin,1.0\\nsourc,millennium,1.0\\nsourc,...\n",
      "1          감초      scs  함량,재배,2.9\\n효능,역할,3.21\\n하루,이상,3.9\\n이상,단맛,3.9\\n한...\n",
      "2          녹차      scs  순수,티백,1.52\\n제품,제조,2.15\\n효과,흥분,2.95\\n제품,순수,2.95...\n",
      "3          대마      scs  마약,법률,3.06\\n약물,중독,3.26\\n한국,미국,3.87\\n필로폰,헤로인,4....\n",
      "4         바이오      scs  소재,개발,3.07\\n분야,성과,3.6\\n기술,식품,3.71\\n분야,식품,3.79\\...\n",
      "5    인공지능_이루다      scs  제공,특정,2.76\\n대화,연인들,3.54\\n개발사,여성,3.54\\n말투,학습,4....\n",
      "6   인공지능_이루다2      scs  특정,자사,1.63\\n수집,변호사,2.1\\n개인정보,유출,2.76\\n개인정보,수집,...\n",
      "7     인공지능_제조      scs  제조,역할,1.0\\n제조,육성,1.0\\n역할,육성,1.0\\n산업,제조,1.34\\n산...\n",
      "8     인공지능_호텔      scs  호텔,서비스,1.99\\n코로나,업계,2.76\\n제공,정보,2.98\\n제공,차량,2....\n",
      "9           차      scs  남부,지방,2.71\\n재배,지역,4.03\\n식물,우려,4.81\\n남부,지역,4.85...\n",
      "10          콩      scs  두부,된장,1.8\\n고기,짜파게티,2.53\\n여성,에스트로겐,3.0\\n성분,여성호르...\n",
      "11         홍차      scs  여성,커피,2.96\\n시간,우려,3.25\\n생산,소비,3.41\\n홍차,영국,4.24...\n",
      "12         황기      scs  독성,약재,1.0\\n이상,한약재,1.0\\n이상,의약품,1.0\\n한약재,의약품,1.0...\n"
     ]
    }
   ],
   "source": [
    "import pandas as pd\n",
    "\n",
    "result = pd.DataFrame(result)\n",
    "print(\"------------------------------지식구조 목록 리스트------------------------------\")\n",
    "print(result) #지식구조 목록 리스트화"
   ]
  },
  {
   "cell_type": "code",
   "execution_count": 6,
   "metadata": {},
   "outputs": [],
   "source": [
    "knowledge_structure = result['KNOWLEDGE_STRUCTURE']"
   ]
  },
  {
   "cell_type": "markdown",
   "metadata": {},
   "source": [
    "## 2. 데이터 선택"
   ]
  },
  {
   "cell_type": "markdown",
   "metadata": {},
   "source": [
    "#### 작성할 파일 제목 정하기\n",
    "* file_name = \"파일명\""
   ]
  },
  {
   "cell_type": "code",
   "execution_count": 92,
   "metadata": {},
   "outputs": [],
   "source": [
    "file_name = \"녹차\" "
   ]
  },
  {
   "cell_type": "markdown",
   "metadata": {},
   "source": [
    "#### 추출하기 원하는 인덱스 선정"
   ]
  },
  {
   "cell_type": "code",
   "execution_count": 93,
   "metadata": {},
   "outputs": [
    {
     "name": "stdout",
     "output_type": "stream",
     "text": [
      "순수,티백,1.52\n",
      "제품,제조,2.15\n",
      "효과,흥분,2.95\n",
      "제품,순수,2.95\n",
      "녹차,제품,2.98\n",
      "녹차,현미,3.23\n",
      "테아닌,효과,3.76\n",
      "테아닌,홍차,4.0\n",
      "카페인,커피,4.06\n",
      "카페인,효과,4.11\n",
      "소비,티백,4.17\n",
      "카페인,결과,4.23\n",
      "테아닌,성분,4.46\n",
      "테아닌,함유,4.68\n",
      "결과,하루,5.0\n",
      "녹차,홍차,5.21\n",
      "소비,차나무,5.27\n",
      "녹차,이름,6.11\n",
      "\n"
     ]
    }
   ],
   "source": [
    "data = knowledge_structure[2] #인덱스만 변경하기\n",
    "print(data)"
   ]
  },
  {
   "cell_type": "code",
   "execution_count": 94,
   "metadata": {},
   "outputs": [],
   "source": [
    "import re\n",
    "\n",
    "contents = re.split('\\n', data)\n",
    "contents = contents[:-1] #맨 끝 데이터는 공백"
   ]
  },
  {
   "cell_type": "code",
   "execution_count": 95,
   "metadata": {},
   "outputs": [
    {
     "name": "stdout",
     "output_type": "stream",
     "text": [
      "['순수', '티백', '1.52']\n",
      "['제품', '제조', '2.15']\n",
      "['효과', '흥분', '2.95']\n",
      "['제품', '순수', '2.95']\n",
      "['녹차', '제품', '2.98']\n",
      "['녹차', '현미', '3.23']\n",
      "['테아닌', '효과', '3.76']\n",
      "['테아닌', '홍차', '4.0']\n",
      "['카페인', '커피', '4.06']\n",
      "['카페인', '효과', '4.11']\n",
      "['소비', '티백', '4.17']\n",
      "['카페인', '결과', '4.23']\n",
      "['테아닌', '성분', '4.46']\n",
      "['테아닌', '함유', '4.68']\n",
      "['결과', '하루', '5.0']\n",
      "['녹차', '홍차', '5.21']\n",
      "['소비', '차나무', '5.27']\n",
      "['녹차', '이름', '6.11']\n"
     ]
    }
   ],
   "source": [
    "#노드 추가\n",
    "for content in contents:\n",
    "    value = re.split(',', content) # ,단위로 구분하여 리스트화\n",
    "    print(value)"
   ]
  },
  {
   "cell_type": "markdown",
   "metadata": {},
   "source": [
    "## 3. Data JavaScript File 생성"
   ]
  },
  {
   "cell_type": "markdown",
   "metadata": {},
   "source": [
    "### 파일 2개 생성\n",
    "* keyword.js : data(nodes, edges)\n",
    "* keyword.html : graph"
   ]
  },
  {
   "cell_type": "markdown",
   "metadata": {},
   "source": [
    "### 01. keyword.js"
   ]
  },
  {
   "cell_type": "code",
   "execution_count": 96,
   "metadata": {},
   "outputs": [],
   "source": [
    "import networkx as nx"
   ]
  },
  {
   "cell_type": "code",
   "execution_count": 97,
   "metadata": {},
   "outputs": [],
   "source": [
    "G = nx.Graph()"
   ]
  },
  {
   "cell_type": "code",
   "execution_count": 98,
   "metadata": {},
   "outputs": [],
   "source": [
    "# 에지리스트를 그래프에 넣기 : 그래프에 입력된 노드 확인용\n",
    "for content in contents:\n",
    "    tmp = re.split(',', content)\n",
    "    G.add_edge(tmp[0], tmp[1], weight = tmp[2])"
   ]
  },
  {
   "cell_type": "code",
   "execution_count": 99,
   "metadata": {},
   "outputs": [],
   "source": [
    "degree_list = [degree for degree in G.degree()] # 각 노드별 차수 저장"
   ]
  },
  {
   "cell_type": "code",
   "execution_count": 100,
   "metadata": {},
   "outputs": [],
   "source": [
    "# 파일 저장용 nodes, edges\n",
    "graph_nodes = \"var nodes = \"\n",
    "graph_edges = \"var edges = \"\n",
    "\n",
    "# 리스트 생성용\n",
    "num = 0\n",
    "nodes_list = []\n",
    "reverse_graph = dict()\n",
    "\n",
    "for name in G.nodes():\n",
    "    # 딕셔너리 1개씩 생성하여 넣기\n",
    "    tmp = dict()\n",
    "    tmp['id'] = num\n",
    "    tmp['label'] = name\n",
    "    tmp['degree'] = degree_list[num][1]\n",
    "\n",
    "    \n",
    "    # 색상은 파랑색으로 지정\n",
    "    tmp['color'] = \"#97C2FC\"\n",
    "    \n",
    "#     # 차수가 3이상이면 빨간색 지정\n",
    "#     if(degree_list[num][1] >= 3):\n",
    "#         tmp['color'] = \"#FB7E81\"\n",
    "#     else:\n",
    "#         tmp['color'] = \"#97C2FC\"\n",
    "        \n",
    "    nodes_list.append(tmp)   # {id: 0, label: 'hemp'}형태\n",
    "    \n",
    "    reverse_graph[name] = num   # {'hemp':0, 'cannabi':1}형태, 목적: 'hemp'검색시 바로 노드 번호 확인(편의성 목적)\n",
    "    num += 1"
   ]
  },
  {
   "cell_type": "code",
   "execution_count": 101,
   "metadata": {},
   "outputs": [
    {
     "data": {
      "text/plain": [
       "[{'id': 0, 'label': '순수', 'degree': 2, 'color': '#97C2FC'},\n",
       " {'id': 1, 'label': '티백', 'degree': 2, 'color': '#97C2FC'},\n",
       " {'id': 2, 'label': '제품', 'degree': 3, 'color': '#97C2FC'},\n",
       " {'id': 3, 'label': '제조', 'degree': 1, 'color': '#97C2FC'},\n",
       " {'id': 4, 'label': '효과', 'degree': 3, 'color': '#97C2FC'},\n",
       " {'id': 5, 'label': '흥분', 'degree': 1, 'color': '#97C2FC'},\n",
       " {'id': 6, 'label': '녹차', 'degree': 4, 'color': '#97C2FC'},\n",
       " {'id': 7, 'label': '현미', 'degree': 1, 'color': '#97C2FC'},\n",
       " {'id': 8, 'label': '테아닌', 'degree': 4, 'color': '#97C2FC'},\n",
       " {'id': 9, 'label': '홍차', 'degree': 2, 'color': '#97C2FC'},\n",
       " {'id': 10, 'label': '카페인', 'degree': 3, 'color': '#97C2FC'},\n",
       " {'id': 11, 'label': '커피', 'degree': 1, 'color': '#97C2FC'},\n",
       " {'id': 12, 'label': '소비', 'degree': 2, 'color': '#97C2FC'},\n",
       " {'id': 13, 'label': '결과', 'degree': 2, 'color': '#97C2FC'},\n",
       " {'id': 14, 'label': '성분', 'degree': 1, 'color': '#97C2FC'},\n",
       " {'id': 15, 'label': '함유', 'degree': 1, 'color': '#97C2FC'},\n",
       " {'id': 16, 'label': '하루', 'degree': 1, 'color': '#97C2FC'},\n",
       " {'id': 17, 'label': '차나무', 'degree': 1, 'color': '#97C2FC'},\n",
       " {'id': 18, 'label': '이름', 'degree': 1, 'color': '#97C2FC'}]"
      ]
     },
     "execution_count": 101,
     "metadata": {},
     "output_type": "execute_result"
    }
   ],
   "source": [
    "nodes_list"
   ]
  },
  {
   "cell_type": "code",
   "execution_count": 102,
   "metadata": {},
   "outputs": [
    {
     "name": "stdout",
     "output_type": "stream",
     "text": [
      "var nodes = [{'id': 0, 'label': '순수', 'degree': 2, 'color': '#97C2FC'}, {'id': 1, 'label': '티백', 'degree': 2, 'color': '#97C2FC'}, {'id': 2, 'label': '제품', 'degree': 3, 'color': '#97C2FC'}, {'id': 3, 'label': '제조', 'degree': 1, 'color': '#97C2FC'}, {'id': 4, 'label': '효과', 'degree': 3, 'color': '#97C2FC'}, {'id': 5, 'label': '흥분', 'degree': 1, 'color': '#97C2FC'}, {'id': 6, 'label': '녹차', 'degree': 4, 'color': '#97C2FC'}, {'id': 7, 'label': '현미', 'degree': 1, 'color': '#97C2FC'}, {'id': 8, 'label': '테아닌', 'degree': 4, 'color': '#97C2FC'}, {'id': 9, 'label': '홍차', 'degree': 2, 'color': '#97C2FC'}, {'id': 10, 'label': '카페인', 'degree': 3, 'color': '#97C2FC'}, {'id': 11, 'label': '커피', 'degree': 1, 'color': '#97C2FC'}, {'id': 12, 'label': '소비', 'degree': 2, 'color': '#97C2FC'}, {'id': 13, 'label': '결과', 'degree': 2, 'color': '#97C2FC'}, {'id': 14, 'label': '성분', 'degree': 1, 'color': '#97C2FC'}, {'id': 15, 'label': '함유', 'degree': 1, 'color': '#97C2FC'}, {'id': 16, 'label': '하루', 'degree': 1, 'color': '#97C2FC'}, {'id': 17, 'label': '차나무', 'degree': 1, 'color': '#97C2FC'}, {'id': 18, 'label': '이름', 'degree': 1, 'color': '#97C2FC'}];\n"
     ]
    }
   ],
   "source": [
    "graph_nodes += str(nodes_list) + \";\"\n",
    "print(graph_nodes)"
   ]
  },
  {
   "cell_type": "code",
   "execution_count": 103,
   "metadata": {},
   "outputs": [
    {
     "name": "stdout",
     "output_type": "stream",
     "text": [
      "{'순수': 0, '티백': 1, '제품': 2, '제조': 3, '효과': 4, '흥분': 5, '녹차': 6, '현미': 7, '테아닌': 8, '홍차': 9, '카페인': 10, '커피': 11, '소비': 12, '결과': 13, '성분': 14, '함유': 15, '하루': 16, '차나무': 17, '이름': 18}\n"
     ]
    }
   ],
   "source": [
    "print(reverse_graph) # graph_nodes를 뒤집어서 저장, 예를 들어  label명 : id명"
   ]
  },
  {
   "cell_type": "code",
   "execution_count": 104,
   "metadata": {},
   "outputs": [],
   "source": [
    "edges_list = []\n",
    "\n",
    "edge_max = 0.0\n",
    "edge_min = 7.0\n",
    "\n",
    "for edge in G.edges(data='weight'):\n",
    "#     print(\"step: \" + edge[2])\n",
    "    tmp = float(edge[2])\n",
    "\n",
    "    #최댓값 저장\n",
    "    if(edge_max <= tmp):\n",
    "        edge_max = tmp\n",
    "    \n",
    "    #최솟값 저장\n",
    "    if(edge_min >= tmp):\n",
    "        edge_min = tmp\n",
    "        \n",
    "#     print(\"edge_max: \" + str(edge_max))\n",
    "#     print(\"edge_min: \" + str(edge_min))\n",
    "#     print()"
   ]
  },
  {
   "cell_type": "code",
   "execution_count": 105,
   "metadata": {},
   "outputs": [],
   "source": [
    "# edges는 {'hemp', 'cannabi', '3.21'}형태\n",
    "for edge in G.edges(data='weight'):\n",
    "    tmp = dict()\n",
    "    tmp['from']   = reverse_graph.get(edge[0])     # 'hemp'검색시 인덱스값\n",
    "    tmp['to']     = reverse_graph.get(edge[1])     # 'cannabi'검색시 인덱스값\n",
    "    tmp['label']  = edge[2]                        # 가중치 저장\n",
    "    \n",
    "    length = 7.0 - float(edge[2])\n",
    "    convert_edge_min = 7.0 - edge_max\n",
    "    minmax_scale = ((length - convert_edge_min) / (edge_max - edge_min)) * 500        # 길이를 min max 스케일링\n",
    "    tmp['value']  = round(minmax_scale, 2)         # Edge 두께를 가중치의 크기에 따라 변경(숫자가 클수록 두껍게)\n",
    "    \n",
    "    length = float(edge[2])\n",
    "    minmax_scale = ((length - edge_min)/(edge_max - edge_min)) * 500\n",
    "    tmp['length'] = round(minmax_scale +220, 2)    # Edge 길이를 min max 스케일링\n",
    "    \n",
    "    tmp['color'] = \"#d3d3d3\"                      \n",
    "\n",
    "    edges_list.append(tmp)"
   ]
  },
  {
   "cell_type": "code",
   "execution_count": 106,
   "metadata": {},
   "outputs": [
    {
     "name": "stdout",
     "output_type": "stream",
     "text": [
      "var edges = [{'from': 0, 'to': 1, 'label': '1.52', 'value': 500.0, 'length': 220.0, 'color': '#d3d3d3'}, {'from': 0, 'to': 2, 'label': '2.95', 'value': 344.23, 'length': 375.77, 'color': '#d3d3d3'}, {'from': 1, 'to': 12, 'label': '4.17', 'value': 211.33, 'length': 508.67, 'color': '#d3d3d3'}, {'from': 2, 'to': 3, 'label': '2.15', 'value': 431.37, 'length': 288.63, 'color': '#d3d3d3'}, {'from': 2, 'to': 6, 'label': '2.98', 'value': 340.96, 'length': 379.04, 'color': '#d3d3d3'}, {'from': 4, 'to': 5, 'label': '2.95', 'value': 344.23, 'length': 375.77, 'color': '#d3d3d3'}, {'from': 4, 'to': 8, 'label': '3.76', 'value': 255.99, 'length': 464.01, 'color': '#d3d3d3'}, {'from': 4, 'to': 10, 'label': '4.11', 'value': 217.86, 'length': 502.14, 'color': '#d3d3d3'}, {'from': 6, 'to': 7, 'label': '3.23', 'value': 313.73, 'length': 406.27, 'color': '#d3d3d3'}, {'from': 6, 'to': 9, 'label': '5.21', 'value': 98.04, 'length': 621.96, 'color': '#d3d3d3'}, {'from': 6, 'to': 18, 'label': '6.11', 'value': 0.0, 'length': 720.0, 'color': '#d3d3d3'}, {'from': 8, 'to': 9, 'label': '4.0', 'value': 229.85, 'length': 490.15, 'color': '#d3d3d3'}, {'from': 8, 'to': 14, 'label': '4.46', 'value': 179.74, 'length': 540.26, 'color': '#d3d3d3'}, {'from': 8, 'to': 15, 'label': '4.68', 'value': 155.77, 'length': 564.23, 'color': '#d3d3d3'}, {'from': 10, 'to': 11, 'label': '4.06', 'value': 223.31, 'length': 496.69, 'color': '#d3d3d3'}, {'from': 10, 'to': 13, 'label': '4.23', 'value': 204.79, 'length': 515.21, 'color': '#d3d3d3'}, {'from': 12, 'to': 17, 'label': '5.27', 'value': 91.5, 'length': 628.5, 'color': '#d3d3d3'}, {'from': 13, 'to': 16, 'label': '5.0', 'value': 120.92, 'length': 599.08, 'color': '#d3d3d3'}];\n"
     ]
    }
   ],
   "source": [
    "graph_edges += str(edges_list) + \";\"\n",
    "print(graph_edges)"
   ]
  },
  {
   "cell_type": "code",
   "execution_count": 107,
   "metadata": {},
   "outputs": [],
   "source": [
    "graph_data = graph_nodes + \"\\n\\n\" + graph_edges"
   ]
  },
  {
   "cell_type": "code",
   "execution_count": 108,
   "metadata": {},
   "outputs": [
    {
     "name": "stdout",
     "output_type": "stream",
     "text": [
      "var nodes = [{'id': 0, 'label': '순수', 'degree': 2, 'color': '#97C2FC'}, {'id': 1, 'label': '티백', 'degree': 2, 'color': '#97C2FC'}, {'id': 2, 'label': '제품', 'degree': 3, 'color': '#97C2FC'}, {'id': 3, 'label': '제조', 'degree': 1, 'color': '#97C2FC'}, {'id': 4, 'label': '효과', 'degree': 3, 'color': '#97C2FC'}, {'id': 5, 'label': '흥분', 'degree': 1, 'color': '#97C2FC'}, {'id': 6, 'label': '녹차', 'degree': 4, 'color': '#97C2FC'}, {'id': 7, 'label': '현미', 'degree': 1, 'color': '#97C2FC'}, {'id': 8, 'label': '테아닌', 'degree': 4, 'color': '#97C2FC'}, {'id': 9, 'label': '홍차', 'degree': 2, 'color': '#97C2FC'}, {'id': 10, 'label': '카페인', 'degree': 3, 'color': '#97C2FC'}, {'id': 11, 'label': '커피', 'degree': 1, 'color': '#97C2FC'}, {'id': 12, 'label': '소비', 'degree': 2, 'color': '#97C2FC'}, {'id': 13, 'label': '결과', 'degree': 2, 'color': '#97C2FC'}, {'id': 14, 'label': '성분', 'degree': 1, 'color': '#97C2FC'}, {'id': 15, 'label': '함유', 'degree': 1, 'color': '#97C2FC'}, {'id': 16, 'label': '하루', 'degree': 1, 'color': '#97C2FC'}, {'id': 17, 'label': '차나무', 'degree': 1, 'color': '#97C2FC'}, {'id': 18, 'label': '이름', 'degree': 1, 'color': '#97C2FC'}];\n",
      "\n",
      "var edges = [{'from': 0, 'to': 1, 'label': '1.52', 'value': 500.0, 'length': 220.0, 'color': '#d3d3d3'}, {'from': 0, 'to': 2, 'label': '2.95', 'value': 344.23, 'length': 375.77, 'color': '#d3d3d3'}, {'from': 1, 'to': 12, 'label': '4.17', 'value': 211.33, 'length': 508.67, 'color': '#d3d3d3'}, {'from': 2, 'to': 3, 'label': '2.15', 'value': 431.37, 'length': 288.63, 'color': '#d3d3d3'}, {'from': 2, 'to': 6, 'label': '2.98', 'value': 340.96, 'length': 379.04, 'color': '#d3d3d3'}, {'from': 4, 'to': 5, 'label': '2.95', 'value': 344.23, 'length': 375.77, 'color': '#d3d3d3'}, {'from': 4, 'to': 8, 'label': '3.76', 'value': 255.99, 'length': 464.01, 'color': '#d3d3d3'}, {'from': 4, 'to': 10, 'label': '4.11', 'value': 217.86, 'length': 502.14, 'color': '#d3d3d3'}, {'from': 6, 'to': 7, 'label': '3.23', 'value': 313.73, 'length': 406.27, 'color': '#d3d3d3'}, {'from': 6, 'to': 9, 'label': '5.21', 'value': 98.04, 'length': 621.96, 'color': '#d3d3d3'}, {'from': 6, 'to': 18, 'label': '6.11', 'value': 0.0, 'length': 720.0, 'color': '#d3d3d3'}, {'from': 8, 'to': 9, 'label': '4.0', 'value': 229.85, 'length': 490.15, 'color': '#d3d3d3'}, {'from': 8, 'to': 14, 'label': '4.46', 'value': 179.74, 'length': 540.26, 'color': '#d3d3d3'}, {'from': 8, 'to': 15, 'label': '4.68', 'value': 155.77, 'length': 564.23, 'color': '#d3d3d3'}, {'from': 10, 'to': 11, 'label': '4.06', 'value': 223.31, 'length': 496.69, 'color': '#d3d3d3'}, {'from': 10, 'to': 13, 'label': '4.23', 'value': 204.79, 'length': 515.21, 'color': '#d3d3d3'}, {'from': 12, 'to': 17, 'label': '5.27', 'value': 91.5, 'length': 628.5, 'color': '#d3d3d3'}, {'from': 13, 'to': 16, 'label': '5.0', 'value': 120.92, 'length': 599.08, 'color': '#d3d3d3'}];\n"
     ]
    }
   ],
   "source": [
    "print(graph_data)"
   ]
  },
  {
   "cell_type": "code",
   "execution_count": 109,
   "metadata": {},
   "outputs": [
    {
     "name": "stdout",
     "output_type": "stream",
     "text": [
      "녹차.js 파일 생성 완료\n"
     ]
    }
   ],
   "source": [
    "f = open(\"./results/result_webgraph/data/\" + file_name + \".js\", 'w', encoding = 'utf8')\n",
    "f.write(graph_data)\n",
    "f.close()\n",
    "print(file_name + \".js 파일 생성 완료\")"
   ]
  },
  {
   "cell_type": "markdown",
   "metadata": {},
   "source": [
    "### 2. keyword.html"
   ]
  },
  {
   "cell_type": "code",
   "execution_count": 110,
   "metadata": {},
   "outputs": [],
   "source": [
    "html_top = \"\"\"\n",
    "<!doctype html>\n",
    "<html>\n",
    "<head>\n",
    "\t<title>Knowledge Structure</title>\n",
    "    \"\"\""
   ]
  },
  {
   "cell_type": "code",
   "execution_count": 111,
   "metadata": {},
   "outputs": [],
   "source": [
    "vis_location = \"\"\"<script type=\"text/javascript\" src=\"../../lib/drawing/vis.js\"></script>\n",
    "    \"\"\""
   ]
  },
  {
   "cell_type": "code",
   "execution_count": 112,
   "metadata": {},
   "outputs": [],
   "source": [
    "js_location = \"\"\"<script src=\"../../results/result_webgraph/data/\"\"\" + file_name + \"\"\".js\" charset=\"utf-8\">\n",
    "    </script>\n",
    "    <style type=\"text/css\">#mynetwork \n",
    "        {width: 100%;height: 1000px;border: 1px solid lightgray;}\n",
    "    </style>\n",
    "</head>\n",
    "<body>\n",
    "    \"\"\""
   ]
  },
  {
   "cell_type": "code",
   "execution_count": 113,
   "metadata": {},
   "outputs": [],
   "source": [
    "title = \"\"\"<p> Cheonsol of Knowledge Structure.</p>\"\"\""
   ]
  },
  {
   "cell_type": "code",
   "execution_count": 114,
   "metadata": {},
   "outputs": [],
   "source": [
    "body = \"\"\"\n",
    "    <div id=\"mynetwork\"></div>\n",
    "\t<script type=\"text/javascript\">\n",
    "\t\tvar container = document.getElementById('mynetwork');\n",
    "\t\tvar data = { nodes: nodes, edges: edges }; \"\"\""
   ]
  },
  {
   "cell_type": "code",
   "execution_count": 115,
   "metadata": {},
   "outputs": [],
   "source": [
    "option = \"\"\"\n",
    "        var options = \n",
    "        { \"nodes\": {\"shape\" : \"circle\",\n",
    "                    \"font\":{\"size\": 35}},\n",
    "        \"edges\": {\"scaling\":{\"max\":70}, \"font\": {\"size\" : 40}, \n",
    "            \"smooth\": {\"type\":\"continuous\",\"roundness\": 0.5}},\n",
    "            \"physics\": {\"barnesHut\": {\"centralGravity\": 0.05},\n",
    "            \"minVelocity\": 0.75}};\n",
    "        \"\"\""
   ]
  },
  {
   "cell_type": "code",
   "execution_count": 116,
   "metadata": {},
   "outputs": [],
   "source": [
    "bottom = \"\"\"var network = new vis.Network(container, data, options);\n",
    "\t</script>\n",
    "</body>\n",
    "</html>\n",
    "\"\"\""
   ]
  },
  {
   "cell_type": "code",
   "execution_count": 117,
   "metadata": {},
   "outputs": [],
   "source": [
    "html_text = html_top + vis_location + js_location + title + body + option + bottom"
   ]
  },
  {
   "cell_type": "code",
   "execution_count": 118,
   "metadata": {},
   "outputs": [
    {
     "data": {
      "text/plain": [
       "'\\n<!doctype html>\\n<html>\\n<head>\\n\\t<title>Knowledge Structure</title>\\n    <script type=\"text/javascript\" src=\"../../lib/drawing/vis.js\"></script>\\n    <script src=\"../../results/result_webgraph/data/녹차.js\" charset=\"utf-8\">\\n    </script>\\n    <style type=\"text/css\">#mynetwork \\n        {width: 100%;height: 1000px;border: 1px solid lightgray;}\\n    </style>\\n</head>\\n<body>\\n    <p> Cheonsol of Knowledge Structure.</p>\\n    <div id=\"mynetwork\"></div>\\n\\t<script type=\"text/javascript\">\\n\\t\\tvar container = document.getElementById(\\'mynetwork\\');\\n\\t\\tvar data = { nodes: nodes, edges: edges }; \\n        var options = \\n        { \"nodes\": {\"shape\" : \"circle\",\\n                    \"font\":{\"size\": 35}},\\n        \"edges\": {\"scaling\":{\"max\":70}, \"font\": {\"size\" : 40}, \\n            \"smooth\": {\"type\":\"continuous\",\"roundness\": 0.5}},\\n            \"physics\": {\"barnesHut\": {\"centralGravity\": 0.05},\\n            \"minVelocity\": 0.75}};\\n        var network = new vis.Network(container, data, options);\\n\\t</script>\\n</body>\\n</html>\\n'"
      ]
     },
     "execution_count": 118,
     "metadata": {},
     "output_type": "execute_result"
    }
   ],
   "source": [
    "html_text"
   ]
  },
  {
   "cell_type": "code",
   "execution_count": 119,
   "metadata": {},
   "outputs": [
    {
     "name": "stdout",
     "output_type": "stream",
     "text": [
      "녹차.html 파일 생성 완료\n"
     ]
    }
   ],
   "source": [
    "html_file = open('./results/result_webgraph/' + file_name + '.html', 'w')\n",
    "html_file.write(html_text)\n",
    "html_file.close()\n",
    "print(file_name + \".html 파일 생성 완료\")"
   ]
  },
  {
   "cell_type": "code",
   "execution_count": null,
   "metadata": {},
   "outputs": [],
   "source": []
  },
  {
   "cell_type": "code",
   "execution_count": null,
   "metadata": {},
   "outputs": [],
   "source": []
  },
  {
   "cell_type": "code",
   "execution_count": null,
   "metadata": {},
   "outputs": [],
   "source": []
  }
 ],
 "metadata": {
  "kernelspec": {
   "display_name": "Python 3",
   "language": "python",
   "name": "python3"
  },
  "language_info": {
   "codemirror_mode": {
    "name": "ipython",
    "version": 3
   },
   "file_extension": ".py",
   "mimetype": "text/x-python",
   "name": "python",
   "nbconvert_exporter": "python",
   "pygments_lexer": "ipython3",
   "version": "3.8.5"
  }
 },
 "nbformat": 4,
 "nbformat_minor": 4
}
