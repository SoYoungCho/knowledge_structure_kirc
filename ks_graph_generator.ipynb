{
 "cells": [
  {
   "cell_type": "markdown",
   "metadata": {},
   "source": [
    "# Knowledge Structure Graph Generator"
   ]
  },
  {
   "cell_type": "markdown",
   "metadata": {},
   "source": [
    "## 1. DB연결"
   ]
  },
  {
   "cell_type": "code",
   "execution_count": 226,
   "metadata": {},
   "outputs": [],
   "source": [
    "import pymysql"
   ]
  },
  {
   "cell_type": "code",
   "execution_count": 227,
   "metadata": {},
   "outputs": [],
   "source": [
    "juso_db = pymysql.connect(\n",
    "    user='root', \n",
    "    passwd='1234', \n",
    "    host='127.0.0.1', \n",
    "    db='test', \n",
    "    charset='utf8'\n",
    ")"
   ]
  },
  {
   "cell_type": "code",
   "execution_count": 228,
   "metadata": {},
   "outputs": [],
   "source": [
    "cursor = juso_db.cursor(pymysql.cursors.DictCursor)"
   ]
  },
  {
   "cell_type": "code",
   "execution_count": 229,
   "metadata": {},
   "outputs": [],
   "source": [
    "sql = \"SELECT * FROM knowledge_structure;\"\n",
    "cursor.execute(sql)\n",
    "result = cursor.fetchall()"
   ]
  },
  {
   "cell_type": "code",
   "execution_count": 230,
   "metadata": {},
   "outputs": [
    {
     "name": "stdout",
     "output_type": "stream",
     "text": [
      "------------------------------지식구조 목록 리스트------------------------------\n",
      "  DOC_ID COT_MODE                                KNOWLEDGE_STRUCTURE\n",
      "0     감초      scs  리코리스,미국,2.76\\n약용,식품,3.21\\n하루,이상,3.9\\n이상,단맛,3.9...\n",
      "1     대마      scs  마약,법률,3.06\\n약물,중독,3.26\\n합법,국가,3.38\\n한국,미국,3.87...\n",
      "2      차      scs  당나라,시기,4.32\\n우려,식물,4.81\\n재배,지방,4.97\\n지방,식물,4.9...\n",
      "3      콩      scs  두부,된장,1.8\\n고기,짜파게티,2.53\\n여성,에스트로겐,3.0\\n요리,미국,3...\n",
      "4     황기      scs  독성,약재,1.0\\n이상,한약재,1.0\\n이상,의약품,1.0\\n한약재,의약품,1.0...\n"
     ]
    }
   ],
   "source": [
    "import pandas as pd\n",
    "\n",
    "result = pd.DataFrame(result)\n",
    "print(\"------------------------------지식구조 목록 리스트------------------------------\")\n",
    "print(result) #지식구조 목록 리스트화"
   ]
  },
  {
   "cell_type": "code",
   "execution_count": 231,
   "metadata": {},
   "outputs": [],
   "source": [
    "knowledge_structure = result['KNOWLEDGE_STRUCTURE']"
   ]
  },
  {
   "cell_type": "markdown",
   "metadata": {},
   "source": [
    "## 2. 데이터 선택"
   ]
  },
  {
   "cell_type": "markdown",
   "metadata": {},
   "source": [
    "#### 작성할 파일 제목 정하기\n",
    "* file_name = \"파일명\""
   ]
  },
  {
   "cell_type": "code",
   "execution_count": 391,
   "metadata": {},
   "outputs": [],
   "source": [
    "file_name = \"황기\" "
   ]
  },
  {
   "cell_type": "markdown",
   "metadata": {},
   "source": [
    "#### 추출하기 원하는 인덱스 선정"
   ]
  },
  {
   "cell_type": "code",
   "execution_count": 392,
   "metadata": {},
   "outputs": [
    {
     "name": "stdout",
     "output_type": "stream",
     "text": [
      "독성,약재,1.0\n",
      "이상,한약재,1.0\n",
      "이상,의약품,1.0\n",
      "한약재,의약품,1.0\n",
      "비위,설사,1.63\n",
      "부작용,낫다,2.76\n",
      "약효,한약,3.54\n",
      "이상,이유,3.54\n",
      "이유,한약재,3.54\n",
      "이유,요리,3.54\n",
      "이유,의약품,3.54\n",
      "삼계탕,주재료,4.0\n",
      "삼계탕,한약,4.0\n",
      "비위,부작용,5.1\n",
      "삼계탕,이유,5.27\n",
      "\n"
     ]
    }
   ],
   "source": [
    "data = knowledge_structure[4] #인덱스만 변경하기\n",
    "print(data)"
   ]
  },
  {
   "cell_type": "code",
   "execution_count": 393,
   "metadata": {},
   "outputs": [],
   "source": [
    "import re\n",
    "\n",
    "contents = re.split('\\n', data)\n",
    "contents = contents[:-1] #맨 끝 데이터는 공백"
   ]
  },
  {
   "cell_type": "code",
   "execution_count": 394,
   "metadata": {},
   "outputs": [
    {
     "name": "stdout",
     "output_type": "stream",
     "text": [
      "['독성', '약재', '1.0']\n",
      "['이상', '한약재', '1.0']\n",
      "['이상', '의약품', '1.0']\n",
      "['한약재', '의약품', '1.0']\n",
      "['비위', '설사', '1.63']\n",
      "['부작용', '낫다', '2.76']\n",
      "['약효', '한약', '3.54']\n",
      "['이상', '이유', '3.54']\n",
      "['이유', '한약재', '3.54']\n",
      "['이유', '요리', '3.54']\n",
      "['이유', '의약품', '3.54']\n",
      "['삼계탕', '주재료', '4.0']\n",
      "['삼계탕', '한약', '4.0']\n",
      "['비위', '부작용', '5.1']\n",
      "['삼계탕', '이유', '5.27']\n"
     ]
    }
   ],
   "source": [
    "#노드 추가\n",
    "for content in contents:\n",
    "    value = re.split(',', content) # ,단위로 구분하여 리스트화\n",
    "    print(value)"
   ]
  },
  {
   "cell_type": "markdown",
   "metadata": {},
   "source": [
    "## 3. Data JavaScript File 생성"
   ]
  },
  {
   "cell_type": "markdown",
   "metadata": {},
   "source": [
    "### 파일 2개 생성\n",
    "* keyword.js : data(nodes, edges)\n",
    "* keyword.html : graph"
   ]
  },
  {
   "cell_type": "markdown",
   "metadata": {},
   "source": [
    "### 01. keyword.js"
   ]
  },
  {
   "cell_type": "code",
   "execution_count": 433,
   "metadata": {},
   "outputs": [],
   "source": [
    "import networkx as nx"
   ]
  },
  {
   "cell_type": "code",
   "execution_count": 434,
   "metadata": {},
   "outputs": [],
   "source": [
    "G = nx.Graph()"
   ]
  },
  {
   "cell_type": "code",
   "execution_count": 435,
   "metadata": {},
   "outputs": [],
   "source": [
    "# 에지리스트를 그래프에 넣기 : 그래프에 입력된 노드 확인용\n",
    "for content in contents:\n",
    "    tmp = re.split(',', content)\n",
    "    G.add_edge(tmp[0], tmp[1], weight = tmp[2])"
   ]
  },
  {
   "cell_type": "code",
   "execution_count": 436,
   "metadata": {},
   "outputs": [],
   "source": [
    "degree_list = [degree for degree in G.degree()] # 각 노드별 차수 저장"
   ]
  },
  {
   "cell_type": "code",
   "execution_count": 437,
   "metadata": {},
   "outputs": [],
   "source": [
    "# 파일 저장용 nodes, edges\n",
    "graph_nodes = \"var nodes = \"\n",
    "graph_edges = \"var edges = \"\n",
    "\n",
    "# 리스트 생성용\n",
    "num = 0\n",
    "nodes_list = []\n",
    "reverse_graph = dict()\n",
    "\n",
    "for name in G.nodes():\n",
    "    # 딕셔너리 1개씩 생성하여 넣기\n",
    "    tmp = dict()\n",
    "    tmp['id'] = num\n",
    "    tmp['label'] = name\n",
    "    tmp['degree'] = degree_list[num][1]\n",
    "\n",
    "    \n",
    "    # 색상은 파랑색으로 지정\n",
    "    tmp['color'] = \"#97C2FC\"\n",
    "    \n",
    "#     # 차수가 3이상이면 빨간색 지정\n",
    "#     if(degree_list[num][1] >= 3):\n",
    "#         tmp['color'] = \"#FB7E81\"\n",
    "#     else:\n",
    "#         tmp['color'] = \"#97C2FC\"\n",
    "        \n",
    "    nodes_list.append(tmp)   # {id: 0, label: 'hemp'}형태\n",
    "    \n",
    "    reverse_graph[name] = num   # {'hemp':0, 'cannabi':1}형태, 목적: 'hemp'검색시 바로 노드 번호 확인(편의성 목적)\n",
    "    num += 1"
   ]
  },
  {
   "cell_type": "code",
   "execution_count": 438,
   "metadata": {},
   "outputs": [
    {
     "data": {
      "text/plain": [
       "[{'id': 0, 'label': '독성', 'degree': 1, 'color': '#97C2FC'},\n",
       " {'id': 1, 'label': '약재', 'degree': 1, 'color': '#97C2FC'},\n",
       " {'id': 2, 'label': '이상', 'degree': 3, 'color': '#97C2FC'},\n",
       " {'id': 3, 'label': '한약재', 'degree': 3, 'color': '#97C2FC'},\n",
       " {'id': 4, 'label': '의약품', 'degree': 3, 'color': '#97C2FC'},\n",
       " {'id': 5, 'label': '비위', 'degree': 2, 'color': '#97C2FC'},\n",
       " {'id': 6, 'label': '설사', 'degree': 1, 'color': '#97C2FC'},\n",
       " {'id': 7, 'label': '부작용', 'degree': 2, 'color': '#97C2FC'},\n",
       " {'id': 8, 'label': '낫다', 'degree': 1, 'color': '#97C2FC'},\n",
       " {'id': 9, 'label': '약효', 'degree': 1, 'color': '#97C2FC'},\n",
       " {'id': 10, 'label': '한약', 'degree': 2, 'color': '#97C2FC'},\n",
       " {'id': 11, 'label': '이유', 'degree': 5, 'color': '#97C2FC'},\n",
       " {'id': 12, 'label': '요리', 'degree': 1, 'color': '#97C2FC'},\n",
       " {'id': 13, 'label': '삼계탕', 'degree': 3, 'color': '#97C2FC'},\n",
       " {'id': 14, 'label': '주재료', 'degree': 1, 'color': '#97C2FC'}]"
      ]
     },
     "execution_count": 438,
     "metadata": {},
     "output_type": "execute_result"
    }
   ],
   "source": [
    "nodes_list"
   ]
  },
  {
   "cell_type": "code",
   "execution_count": 439,
   "metadata": {},
   "outputs": [
    {
     "name": "stdout",
     "output_type": "stream",
     "text": [
      "var nodes = [{'id': 0, 'label': '독성', 'degree': 1, 'color': '#97C2FC'}, {'id': 1, 'label': '약재', 'degree': 1, 'color': '#97C2FC'}, {'id': 2, 'label': '이상', 'degree': 3, 'color': '#97C2FC'}, {'id': 3, 'label': '한약재', 'degree': 3, 'color': '#97C2FC'}, {'id': 4, 'label': '의약품', 'degree': 3, 'color': '#97C2FC'}, {'id': 5, 'label': '비위', 'degree': 2, 'color': '#97C2FC'}, {'id': 6, 'label': '설사', 'degree': 1, 'color': '#97C2FC'}, {'id': 7, 'label': '부작용', 'degree': 2, 'color': '#97C2FC'}, {'id': 8, 'label': '낫다', 'degree': 1, 'color': '#97C2FC'}, {'id': 9, 'label': '약효', 'degree': 1, 'color': '#97C2FC'}, {'id': 10, 'label': '한약', 'degree': 2, 'color': '#97C2FC'}, {'id': 11, 'label': '이유', 'degree': 5, 'color': '#97C2FC'}, {'id': 12, 'label': '요리', 'degree': 1, 'color': '#97C2FC'}, {'id': 13, 'label': '삼계탕', 'degree': 3, 'color': '#97C2FC'}, {'id': 14, 'label': '주재료', 'degree': 1, 'color': '#97C2FC'}];\n"
     ]
    }
   ],
   "source": [
    "graph_nodes += str(nodes_list) + \";\"\n",
    "print(graph_nodes)"
   ]
  },
  {
   "cell_type": "code",
   "execution_count": 440,
   "metadata": {},
   "outputs": [
    {
     "name": "stdout",
     "output_type": "stream",
     "text": [
      "{'독성': 0, '약재': 1, '이상': 2, '한약재': 3, '의약품': 4, '비위': 5, '설사': 6, '부작용': 7, '낫다': 8, '약효': 9, '한약': 10, '이유': 11, '요리': 12, '삼계탕': 13, '주재료': 14}\n"
     ]
    }
   ],
   "source": [
    "print(reverse_graph) # graph_nodes를 뒤집어서 저장, 예를 들어  label명 : id명"
   ]
  },
  {
   "cell_type": "code",
   "execution_count": 441,
   "metadata": {},
   "outputs": [],
   "source": [
    "edges_list = []\n",
    "\n",
    "edge_max = 0.0\n",
    "edge_min = 7.0\n",
    "\n",
    "for edge in G.edges(data='weight'):\n",
    "#     print(\"step: \" + edge[2])\n",
    "    tmp = float(edge[2])\n",
    "\n",
    "    #최댓값 저장\n",
    "    if(edge_max <= tmp):\n",
    "        edge_max = tmp\n",
    "    \n",
    "    #최솟값 저장\n",
    "    if(edge_min >= tmp):\n",
    "        edge_min = tmp\n",
    "        \n",
    "#     print(\"edge_max: \" + str(edge_max))\n",
    "#     print(\"edge_min: \" + str(edge_min))\n",
    "#     print()"
   ]
  },
  {
   "cell_type": "code",
   "execution_count": 442,
   "metadata": {},
   "outputs": [],
   "source": [
    "# edges는 {'hemp', 'cannabi', '3.21'}형태\n",
    "for edge in G.edges(data='weight'):\n",
    "    tmp = dict()\n",
    "    tmp['from']   = reverse_graph.get(edge[0])     # 'hemp'검색시 인덱스값\n",
    "    tmp['to']     = reverse_graph.get(edge[1])     # 'cannabi'검색시 인덱스값\n",
    "    tmp['label']  = edge[2]                        # 가중치 저장\n",
    "    \n",
    "    length = 7.0 - float(edge[2])\n",
    "    convert_edge_min = 7.0 - edge_max\n",
    "    minmax_scale = ((length - convert_edge_min) / (edge_max - edge_min)) * 500        # 길이를 min max 스케일링\n",
    "    tmp['value']  = round(minmax_scale, 2)         # Edge 두께를 가중치의 크기에 따라 변경(숫자가 클수록 두껍게)\n",
    "    \n",
    "    length = float(edge[2])\n",
    "    minmax_scale = ((length - edge_min)/(edge_max - edge_min)) * 500\n",
    "    tmp['length'] = round(minmax_scale +220, 2)    # Edge 길이를 min max 스케일링\n",
    "    \n",
    "    tmp['color'] = \"#d3d3d3\"                      \n",
    "\n",
    "    edges_list.append(tmp)"
   ]
  },
  {
   "cell_type": "code",
   "execution_count": 443,
   "metadata": {},
   "outputs": [
    {
     "name": "stdout",
     "output_type": "stream",
     "text": [
      "var edges = [{'from': 0, 'to': 1, 'label': '1.0', 'value': 500.0, 'length': 220.0, 'color': '#d3d3d3'}, {'from': 2, 'to': 3, 'label': '1.0', 'value': 500.0, 'length': 220.0, 'color': '#d3d3d3'}, {'from': 2, 'to': 4, 'label': '1.0', 'value': 500.0, 'length': 220.0, 'color': '#d3d3d3'}, {'from': 2, 'to': 11, 'label': '3.54', 'value': 202.58, 'length': 517.42, 'color': '#d3d3d3'}, {'from': 3, 'to': 4, 'label': '1.0', 'value': 500.0, 'length': 220.0, 'color': '#d3d3d3'}, {'from': 3, 'to': 11, 'label': '3.54', 'value': 202.58, 'length': 517.42, 'color': '#d3d3d3'}, {'from': 4, 'to': 11, 'label': '3.54', 'value': 202.58, 'length': 517.42, 'color': '#d3d3d3'}, {'from': 5, 'to': 6, 'label': '1.63', 'value': 426.23, 'length': 293.77, 'color': '#d3d3d3'}, {'from': 5, 'to': 7, 'label': '5.1', 'value': 19.91, 'length': 700.09, 'color': '#d3d3d3'}, {'from': 7, 'to': 8, 'label': '2.76', 'value': 293.91, 'length': 426.09, 'color': '#d3d3d3'}, {'from': 9, 'to': 10, 'label': '3.54', 'value': 202.58, 'length': 517.42, 'color': '#d3d3d3'}, {'from': 10, 'to': 13, 'label': '4.0', 'value': 148.71, 'length': 571.29, 'color': '#d3d3d3'}, {'from': 11, 'to': 12, 'label': '3.54', 'value': 202.58, 'length': 517.42, 'color': '#d3d3d3'}, {'from': 11, 'to': 13, 'label': '5.27', 'value': 0.0, 'length': 720.0, 'color': '#d3d3d3'}, {'from': 13, 'to': 14, 'label': '4.0', 'value': 148.71, 'length': 571.29, 'color': '#d3d3d3'}];\n"
     ]
    }
   ],
   "source": [
    "graph_edges += str(edges_list) + \";\"\n",
    "print(graph_edges)"
   ]
  },
  {
   "cell_type": "code",
   "execution_count": 444,
   "metadata": {},
   "outputs": [],
   "source": [
    "graph_data = graph_nodes + \"\\n\\n\" + graph_edges"
   ]
  },
  {
   "cell_type": "code",
   "execution_count": 445,
   "metadata": {},
   "outputs": [
    {
     "name": "stdout",
     "output_type": "stream",
     "text": [
      "var nodes = [{'id': 0, 'label': '독성', 'degree': 1, 'color': '#97C2FC'}, {'id': 1, 'label': '약재', 'degree': 1, 'color': '#97C2FC'}, {'id': 2, 'label': '이상', 'degree': 3, 'color': '#97C2FC'}, {'id': 3, 'label': '한약재', 'degree': 3, 'color': '#97C2FC'}, {'id': 4, 'label': '의약품', 'degree': 3, 'color': '#97C2FC'}, {'id': 5, 'label': '비위', 'degree': 2, 'color': '#97C2FC'}, {'id': 6, 'label': '설사', 'degree': 1, 'color': '#97C2FC'}, {'id': 7, 'label': '부작용', 'degree': 2, 'color': '#97C2FC'}, {'id': 8, 'label': '낫다', 'degree': 1, 'color': '#97C2FC'}, {'id': 9, 'label': '약효', 'degree': 1, 'color': '#97C2FC'}, {'id': 10, 'label': '한약', 'degree': 2, 'color': '#97C2FC'}, {'id': 11, 'label': '이유', 'degree': 5, 'color': '#97C2FC'}, {'id': 12, 'label': '요리', 'degree': 1, 'color': '#97C2FC'}, {'id': 13, 'label': '삼계탕', 'degree': 3, 'color': '#97C2FC'}, {'id': 14, 'label': '주재료', 'degree': 1, 'color': '#97C2FC'}];\n",
      "\n",
      "var edges = [{'from': 0, 'to': 1, 'label': '1.0', 'value': 500.0, 'length': 220.0, 'color': '#d3d3d3'}, {'from': 2, 'to': 3, 'label': '1.0', 'value': 500.0, 'length': 220.0, 'color': '#d3d3d3'}, {'from': 2, 'to': 4, 'label': '1.0', 'value': 500.0, 'length': 220.0, 'color': '#d3d3d3'}, {'from': 2, 'to': 11, 'label': '3.54', 'value': 202.58, 'length': 517.42, 'color': '#d3d3d3'}, {'from': 3, 'to': 4, 'label': '1.0', 'value': 500.0, 'length': 220.0, 'color': '#d3d3d3'}, {'from': 3, 'to': 11, 'label': '3.54', 'value': 202.58, 'length': 517.42, 'color': '#d3d3d3'}, {'from': 4, 'to': 11, 'label': '3.54', 'value': 202.58, 'length': 517.42, 'color': '#d3d3d3'}, {'from': 5, 'to': 6, 'label': '1.63', 'value': 426.23, 'length': 293.77, 'color': '#d3d3d3'}, {'from': 5, 'to': 7, 'label': '5.1', 'value': 19.91, 'length': 700.09, 'color': '#d3d3d3'}, {'from': 7, 'to': 8, 'label': '2.76', 'value': 293.91, 'length': 426.09, 'color': '#d3d3d3'}, {'from': 9, 'to': 10, 'label': '3.54', 'value': 202.58, 'length': 517.42, 'color': '#d3d3d3'}, {'from': 10, 'to': 13, 'label': '4.0', 'value': 148.71, 'length': 571.29, 'color': '#d3d3d3'}, {'from': 11, 'to': 12, 'label': '3.54', 'value': 202.58, 'length': 517.42, 'color': '#d3d3d3'}, {'from': 11, 'to': 13, 'label': '5.27', 'value': 0.0, 'length': 720.0, 'color': '#d3d3d3'}, {'from': 13, 'to': 14, 'label': '4.0', 'value': 148.71, 'length': 571.29, 'color': '#d3d3d3'}];\n"
     ]
    }
   ],
   "source": [
    "print(graph_data)"
   ]
  },
  {
   "cell_type": "code",
   "execution_count": 446,
   "metadata": {},
   "outputs": [
    {
     "name": "stdout",
     "output_type": "stream",
     "text": [
      "황기.js 파일 생성 완료\n"
     ]
    }
   ],
   "source": [
    "f = open(\"./results/result_webgraph/data/\" + file_name + \".js\", 'w', encoding = 'utf8')\n",
    "f.write(graph_data)\n",
    "f.close()\n",
    "print(file_name + \".js 파일 생성 완료\")"
   ]
  },
  {
   "cell_type": "markdown",
   "metadata": {},
   "source": [
    "### 2. keyword.html"
   ]
  },
  {
   "cell_type": "code",
   "execution_count": 409,
   "metadata": {},
   "outputs": [],
   "source": [
    "html_top = \"\"\"\n",
    "<!doctype html>\n",
    "<html>\n",
    "<head>\n",
    "\t<title>Knowledge Structure</title>\n",
    "    \"\"\""
   ]
  },
  {
   "cell_type": "code",
   "execution_count": 410,
   "metadata": {},
   "outputs": [],
   "source": [
    "vis_location = \"\"\"<script type=\"text/javascript\" src=\"../../lib/drawing/vis.js\"></script>\n",
    "    \"\"\""
   ]
  },
  {
   "cell_type": "code",
   "execution_count": 411,
   "metadata": {},
   "outputs": [],
   "source": [
    "js_location = \"\"\"<script src=\"../../results/result_webgraph/data/\"\"\" + file_name + \"\"\".js\" charset=\"utf-8\">\n",
    "    </script>\n",
    "    <style type=\"text/css\">#mynetwork \n",
    "        {width: 100%;height: 1000px;border: 1px solid lightgray;}\n",
    "    </style>\n",
    "</head>\n",
    "<body>\n",
    "    \"\"\""
   ]
  },
  {
   "cell_type": "code",
   "execution_count": 412,
   "metadata": {},
   "outputs": [],
   "source": [
    "title = \"\"\"<p> Cheonsol of Knowledge Structure.</p>\"\"\""
   ]
  },
  {
   "cell_type": "code",
   "execution_count": 413,
   "metadata": {},
   "outputs": [],
   "source": [
    "body = \"\"\"\n",
    "    <div id=\"mynetwork\"></div>\n",
    "\t<script type=\"text/javascript\">\n",
    "\t\tvar container = document.getElementById('mynetwork');\n",
    "\t\tvar data = { nodes: nodes, edges: edges }; \"\"\""
   ]
  },
  {
   "cell_type": "code",
   "execution_count": 414,
   "metadata": {},
   "outputs": [],
   "source": [
    "option = \"\"\"\n",
    "        var options = \n",
    "        { \"nodes\": {\"shape\" : \"circle\",\n",
    "                    \"font\":{\"size\": 35}},\n",
    "        \"edges\": {\"scaling\":{\"max\":70}, \"font\": {\"size\" : 40}, \n",
    "            \"smooth\": {\"type\":\"continuous\",\"roundness\": 0.5}},\n",
    "            \"physics\": {\"barnesHut\": {\"centralGravity\": 0.05},\n",
    "            \"minVelocity\": 0.75}};\n",
    "        \"\"\""
   ]
  },
  {
   "cell_type": "code",
   "execution_count": 415,
   "metadata": {},
   "outputs": [],
   "source": [
    "bottom = \"\"\"var network = new vis.Network(container, data, options);\n",
    "\t</script>\n",
    "</body>\n",
    "</html>\n",
    "\"\"\""
   ]
  },
  {
   "cell_type": "code",
   "execution_count": 416,
   "metadata": {},
   "outputs": [],
   "source": [
    "html_text = html_top + vis_location + js_location + title + body + option + bottom"
   ]
  },
  {
   "cell_type": "code",
   "execution_count": 417,
   "metadata": {},
   "outputs": [
    {
     "data": {
      "text/plain": [
       "'\\n<!doctype html>\\n<html>\\n<head>\\n\\t<title>Knowledge Structure</title>\\n    <script type=\"text/javascript\" src=\"../../lib/drawing/vis.js\"></script>\\n    <script src=\"../../results/result_webgraph/data/황기.js\" charset=\"utf-8\">\\n    </script>\\n    <style type=\"text/css\">#mynetwork \\n        {width: 100%;height: 1000px;border: 1px solid lightgray;}\\n    </style>\\n</head>\\n<body>\\n    <p> Cheonsol of Knowledge Structure.</p>\\n    <div id=\"mynetwork\"></div>\\n\\t<script type=\"text/javascript\">\\n\\t\\tvar container = document.getElementById(\\'mynetwork\\');\\n\\t\\tvar data = { nodes: nodes, edges: edges }; \\n        var options = \\n        { \"nodes\": {\"shape\" : \"circle\",\\n                    \"font\":{\"size\": 35}},\\n        \"edges\": {\"scaling\":{\"max\":70}, \"font\": {\"size\" : 40}, \\n            \"smooth\": {\"type\":\"continuous\",\"roundness\": 0.5}},\\n            \"physics\": {\"barnesHut\": {\"centralGravity\": 0.05},\\n            \"minVelocity\": 0.75}};\\n        var network = new vis.Network(container, data, options);\\n\\t</script>\\n</body>\\n</html>\\n'"
      ]
     },
     "execution_count": 417,
     "metadata": {},
     "output_type": "execute_result"
    }
   ],
   "source": [
    "html_text"
   ]
  },
  {
   "cell_type": "code",
   "execution_count": 418,
   "metadata": {},
   "outputs": [
    {
     "name": "stdout",
     "output_type": "stream",
     "text": [
      "황기.html 파일 생성 완료\n"
     ]
    }
   ],
   "source": [
    "html_file = open('./results/result_webgraph/' + file_name + '.html', 'w')\n",
    "html_file.write(html_text)\n",
    "html_file.close()\n",
    "print(file_name + \".html 파일 생성 완료\")"
   ]
  },
  {
   "cell_type": "code",
   "execution_count": null,
   "metadata": {},
   "outputs": [],
   "source": []
  },
  {
   "cell_type": "code",
   "execution_count": null,
   "metadata": {},
   "outputs": [],
   "source": []
  },
  {
   "cell_type": "code",
   "execution_count": null,
   "metadata": {},
   "outputs": [],
   "source": []
  }
 ],
 "metadata": {
  "kernelspec": {
   "display_name": "Python 3",
   "language": "python",
   "name": "python3"
  },
  "language_info": {
   "codemirror_mode": {
    "name": "ipython",
    "version": 3
   },
   "file_extension": ".py",
   "mimetype": "text/x-python",
   "name": "python",
   "nbconvert_exporter": "python",
   "pygments_lexer": "ipython3",
   "version": "3.6.10"
  }
 },
 "nbformat": 4,
 "nbformat_minor": 4
}
