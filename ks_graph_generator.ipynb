{
 "cells": [
  {
   "cell_type": "markdown",
   "metadata": {},
   "source": [
    "# Knowledge Structure Graph Generator"
   ]
  },
  {
   "cell_type": "markdown",
   "metadata": {},
   "source": [
    "## 1. DB연결"
   ]
  },
  {
   "cell_type": "code",
   "execution_count": 1,
   "metadata": {},
   "outputs": [],
   "source": [
    "import pymysql"
   ]
  },
  {
   "cell_type": "code",
   "execution_count": 2,
   "metadata": {},
   "outputs": [],
   "source": [
    "juso_db = pymysql.connect(\n",
    "    user='root', \n",
    "    passwd='1234', \n",
    "    host='127.0.0.1', \n",
    "    db='test', \n",
    "    charset='utf8'\n",
    ")"
   ]
  },
  {
   "cell_type": "code",
   "execution_count": 3,
   "metadata": {},
   "outputs": [],
   "source": [
    "cursor = juso_db.cursor(pymysql.cursors.DictCursor)"
   ]
  },
  {
   "cell_type": "code",
   "execution_count": 4,
   "metadata": {},
   "outputs": [],
   "source": [
    "sql = \"SELECT * FROM knowledge_structure;\"\n",
    "cursor.execute(sql)\n",
    "result = cursor.fetchall()"
   ]
  },
  {
   "cell_type": "code",
   "execution_count": 5,
   "metadata": {},
   "outputs": [
    {
     "name": "stdout",
     "output_type": "stream",
     "text": [
      "------------------------------지식구조 목록 리스트------------------------------\n",
      "   DOC_ID COT_MODE                                KNOWLEDGE_STRUCTURE\n",
      "0    소영_0      scs  서울,여자부,1.0\\n현대캐피탈,안산,2.1\\n승점,선두,2.35\\n스코어,서울,2...\n",
      "1   자연어_0      scs  의류,기능,1.91\\n비서,아이언맨,2.35\\n인공지능,비서,2.87\\n의류,자체,...\n",
      "2   자연어_4      scs  내년,도입,1.8\\n활용,계획,2.76\\n분석,차기,2.76\\n교과서,차기,2.76...\n",
      "3  카이스트_1      scs  바이러스,유전자,1.63\\n대상,승인,2.1\\n코로나,개발,2.67\\n임상,대상,2...\n",
      "4  카이스트_2      scs  건설,산업통상자원부,1.0\\n북한,지역,1.76\\n건설,지역,1.8\\n산업통상자원부...\n",
      "5  카이스트_3      scs  포트,나이트,1.0\\n디지털,기술,2.7\\n현실,가상,2.92\\n모바일,비즈니스,2...\n",
      "6  카이스트_5      scs  방사능,일침,1.31\\n칼륨,유효,1.8\\n월성원전,일침,2.1\\n정도,관련,2.1...\n"
     ]
    }
   ],
   "source": [
    "import pandas as pd\n",
    "\n",
    "result = pd.DataFrame(result)\n",
    "print(\"------------------------------지식구조 목록 리스트------------------------------\")\n",
    "print(result) #지식구조 목록 리스트화"
   ]
  },
  {
   "cell_type": "code",
   "execution_count": 6,
   "metadata": {},
   "outputs": [],
   "source": [
    "knowledge_structure = result['KNOWLEDGE_STRUCTURE']"
   ]
  },
  {
   "cell_type": "markdown",
   "metadata": {},
   "source": [
    "## 2. 데이터 선택"
   ]
  },
  {
   "cell_type": "markdown",
   "metadata": {},
   "source": [
    "#### 작성할 파일 제목 정하기\n",
    "* file_name = \"파일명\""
   ]
  },
  {
   "cell_type": "code",
   "execution_count": 10,
   "metadata": {},
   "outputs": [],
   "source": [
    "file_name = \"카이스트_1\" "
   ]
  },
  {
   "cell_type": "markdown",
   "metadata": {},
   "source": [
    "#### 추출하기 원하는 인덱스 선정"
   ]
  },
  {
   "cell_type": "code",
   "execution_count": 11,
   "metadata": {},
   "outputs": [],
   "source": [
    "condition = result['DOC_ID'] == file_name\n",
    "result_content = result[condition]['KNOWLEDGE_STRUCTURE'].reset_index()"
   ]
  },
  {
   "cell_type": "code",
   "execution_count": 12,
   "metadata": {},
   "outputs": [
    {
     "data": {
      "text/plain": [
       "'바이러스,유전자,1.63\\n대상,승인,2.1\\n코로나,개발,2.67\\n임상,대상,2.76\\n승인,업계,2.76\\n계획,업계,2.76\\n효능,다국적,2.76\\n고령자,평가,2.76\\n고령자,확대,2.76\\n백신,코로나,2.82\\n백신,바이러스,3.0\\n대상,평가,3.54\\n개발,효능,4.0\\n개발,지난해,4.0\\n승인,지난해,4.0\\n바이러스,기술,4.32\\n백신,공동,4.44\\n임상,강남,4.55\\n'"
      ]
     },
     "execution_count": 12,
     "metadata": {},
     "output_type": "execute_result"
    }
   ],
   "source": [
    "result_content['KNOWLEDGE_STRUCTURE'][0]"
   ]
  },
  {
   "cell_type": "code",
   "execution_count": 13,
   "metadata": {},
   "outputs": [
    {
     "name": "stdout",
     "output_type": "stream",
     "text": [
      "바이러스,유전자,1.63\n",
      "대상,승인,2.1\n",
      "코로나,개발,2.67\n",
      "임상,대상,2.76\n",
      "승인,업계,2.76\n",
      "계획,업계,2.76\n",
      "효능,다국적,2.76\n",
      "고령자,평가,2.76\n",
      "고령자,확대,2.76\n",
      "백신,코로나,2.82\n",
      "백신,바이러스,3.0\n",
      "대상,평가,3.54\n",
      "개발,효능,4.0\n",
      "개발,지난해,4.0\n",
      "승인,지난해,4.0\n",
      "바이러스,기술,4.32\n",
      "백신,공동,4.44\n",
      "임상,강남,4.55\n",
      "\n"
     ]
    }
   ],
   "source": [
    "# data = knowledge_structure[1] #인덱스만 변경하기\n",
    "data = result_content['KNOWLEDGE_STRUCTURE'][0]\n",
    "print(data)"
   ]
  },
  {
   "cell_type": "code",
   "execution_count": 14,
   "metadata": {},
   "outputs": [],
   "source": [
    "# 7점 스케일을 0~1 범위로 바꿈\n",
    "def similarity_normalize(num):\n",
    "    value = (8 - float(num))/7\n",
    "    return value"
   ]
  },
  {
   "cell_type": "code",
   "execution_count": 15,
   "metadata": {},
   "outputs": [],
   "source": [
    "import re\n",
    "\n",
    "contents = re.split('\\n', data)\n",
    "contents = contents[:-1] #맨 끝 데이터는 공백"
   ]
  },
  {
   "cell_type": "code",
   "execution_count": 16,
   "metadata": {},
   "outputs": [
    {
     "name": "stdout",
     "output_type": "stream",
     "text": [
      "바이러스,유전자,0.91\n",
      "대상,승인,0.843\n",
      "코로나,개발,0.761\n",
      "임상,대상,0.749\n",
      "승인,업계,0.749\n",
      "계획,업계,0.749\n",
      "효능,다국적,0.749\n",
      "고령자,평가,0.749\n",
      "고령자,확대,0.749\n",
      "백신,코로나,0.74\n",
      "백신,바이러스,0.714\n",
      "대상,평가,0.637\n",
      "개발,효능,0.571\n",
      "개발,지난해,0.571\n",
      "승인,지난해,0.571\n",
      "바이러스,기술,0.526\n",
      "백신,공동,0.509\n",
      "임상,강남,0.493\n"
     ]
    }
   ],
   "source": [
    "contents_normalize = []\n",
    "for content in contents:\n",
    "    value = re.split(',', content) # ,단위로 구분하여 리스트화\n",
    "    \n",
    "    value[2] = round(similarity_normalize(value[2]), 3)\n",
    "    new_value = value[0] +\",\"+ value[1] +\",\"+ str(value[2])\n",
    "    \n",
    "    contents_normalize.append(new_value)\n",
    "    \n",
    "    print(new_value)"
   ]
  },
  {
   "cell_type": "markdown",
   "metadata": {},
   "source": [
    "## 3. Data JavaScript File 생성"
   ]
  },
  {
   "cell_type": "markdown",
   "metadata": {},
   "source": [
    "### 파일 2개 생성\n",
    "* keyword.js : data(nodes, edges)\n",
    "* keyword.html : graph"
   ]
  },
  {
   "cell_type": "markdown",
   "metadata": {},
   "source": [
    "### 01. keyword.js"
   ]
  },
  {
   "cell_type": "code",
   "execution_count": 41,
   "metadata": {},
   "outputs": [],
   "source": [
    "import networkx as nx"
   ]
  },
  {
   "cell_type": "code",
   "execution_count": 42,
   "metadata": {},
   "outputs": [],
   "source": [
    "G = nx.Graph()"
   ]
  },
  {
   "cell_type": "code",
   "execution_count": 43,
   "metadata": {},
   "outputs": [],
   "source": [
    "# 에지리스트를 그래프에 넣기 : 그래프에 입력된 노드 확인용\n",
    "for content in contents_normalize:\n",
    "    tmp = re.split(',', content)\n",
    "    G.add_edge(tmp[0], tmp[1], weight = tmp[2])"
   ]
  },
  {
   "cell_type": "code",
   "execution_count": 44,
   "metadata": {},
   "outputs": [],
   "source": [
    "degree_list = [degree for degree in G.degree()] # 각 노드별 차수 저장"
   ]
  },
  {
   "cell_type": "code",
   "execution_count": 45,
   "metadata": {},
   "outputs": [],
   "source": [
    "# 파일 저장용 nodes, edges\n",
    "graph_nodes = \"var nodes = \"\n",
    "graph_edges = \"var edges = \"\n",
    "\n",
    "# 리스트 생성용\n",
    "num = 0\n",
    "nodes_list = []\n",
    "reverse_graph = dict()\n",
    "\n",
    "for name in G.nodes():\n",
    "    # 딕셔너리 1개씩 생성하여 넣기\n",
    "    tmp = dict()\n",
    "    tmp['id'] = num\n",
    "    tmp['label'] = name\n",
    "    tmp['degree'] = degree_list[num][1]\n",
    "\n",
    "    \n",
    "    # 색상은 파랑색으로 지정\n",
    "    tmp['color'] = \"#97C2FC\"\n",
    "    \n",
    "#     # 차수가 3이상이면 빨간색 지정\n",
    "#     if(degree_list[num][1] >= 3):\n",
    "#         tmp['color'] = \"#FB7E81\"\n",
    "#     else:\n",
    "#         tmp['color'] = \"#97C2FC\"\n",
    "        \n",
    "    nodes_list.append(tmp)   # {id: 0, label: 'hemp'}형태\n",
    "    \n",
    "    reverse_graph[name] = num   # {'hemp':0, 'cannabi':1}형태, 목적: 'hemp'검색시 바로 노드 번호 확인(편의성 목적)\n",
    "    num += 1"
   ]
  },
  {
   "cell_type": "code",
   "execution_count": 46,
   "metadata": {},
   "outputs": [
    {
     "data": {
      "text/plain": [
       "[{'id': 0, 'label': '바이러스', 'degree': 3, 'color': '#97C2FC'},\n",
       " {'id': 1, 'label': '유전자', 'degree': 1, 'color': '#97C2FC'},\n",
       " {'id': 2, 'label': '대상', 'degree': 3, 'color': '#97C2FC'},\n",
       " {'id': 3, 'label': '승인', 'degree': 3, 'color': '#97C2FC'},\n",
       " {'id': 4, 'label': '코로나', 'degree': 2, 'color': '#97C2FC'},\n",
       " {'id': 5, 'label': '개발', 'degree': 3, 'color': '#97C2FC'},\n",
       " {'id': 6, 'label': '임상', 'degree': 2, 'color': '#97C2FC'},\n",
       " {'id': 7, 'label': '업계', 'degree': 2, 'color': '#97C2FC'},\n",
       " {'id': 8, 'label': '계획', 'degree': 1, 'color': '#97C2FC'},\n",
       " {'id': 9, 'label': '효능', 'degree': 2, 'color': '#97C2FC'},\n",
       " {'id': 10, 'label': '다국적', 'degree': 1, 'color': '#97C2FC'},\n",
       " {'id': 11, 'label': '고령자', 'degree': 2, 'color': '#97C2FC'},\n",
       " {'id': 12, 'label': '평가', 'degree': 2, 'color': '#97C2FC'},\n",
       " {'id': 13, 'label': '확대', 'degree': 1, 'color': '#97C2FC'},\n",
       " {'id': 14, 'label': '백신', 'degree': 3, 'color': '#97C2FC'},\n",
       " {'id': 15, 'label': '지난해', 'degree': 2, 'color': '#97C2FC'},\n",
       " {'id': 16, 'label': '기술', 'degree': 1, 'color': '#97C2FC'},\n",
       " {'id': 17, 'label': '공동', 'degree': 1, 'color': '#97C2FC'},\n",
       " {'id': 18, 'label': '강남', 'degree': 1, 'color': '#97C2FC'}]"
      ]
     },
     "execution_count": 46,
     "metadata": {},
     "output_type": "execute_result"
    }
   ],
   "source": [
    "nodes_list"
   ]
  },
  {
   "cell_type": "code",
   "execution_count": 47,
   "metadata": {},
   "outputs": [
    {
     "name": "stdout",
     "output_type": "stream",
     "text": [
      "var nodes = [{'id': 0, 'label': '바이러스', 'degree': 3, 'color': '#97C2FC'}, {'id': 1, 'label': '유전자', 'degree': 1, 'color': '#97C2FC'}, {'id': 2, 'label': '대상', 'degree': 3, 'color': '#97C2FC'}, {'id': 3, 'label': '승인', 'degree': 3, 'color': '#97C2FC'}, {'id': 4, 'label': '코로나', 'degree': 2, 'color': '#97C2FC'}, {'id': 5, 'label': '개발', 'degree': 3, 'color': '#97C2FC'}, {'id': 6, 'label': '임상', 'degree': 2, 'color': '#97C2FC'}, {'id': 7, 'label': '업계', 'degree': 2, 'color': '#97C2FC'}, {'id': 8, 'label': '계획', 'degree': 1, 'color': '#97C2FC'}, {'id': 9, 'label': '효능', 'degree': 2, 'color': '#97C2FC'}, {'id': 10, 'label': '다국적', 'degree': 1, 'color': '#97C2FC'}, {'id': 11, 'label': '고령자', 'degree': 2, 'color': '#97C2FC'}, {'id': 12, 'label': '평가', 'degree': 2, 'color': '#97C2FC'}, {'id': 13, 'label': '확대', 'degree': 1, 'color': '#97C2FC'}, {'id': 14, 'label': '백신', 'degree': 3, 'color': '#97C2FC'}, {'id': 15, 'label': '지난해', 'degree': 2, 'color': '#97C2FC'}, {'id': 16, 'label': '기술', 'degree': 1, 'color': '#97C2FC'}, {'id': 17, 'label': '공동', 'degree': 1, 'color': '#97C2FC'}, {'id': 18, 'label': '강남', 'degree': 1, 'color': '#97C2FC'}];\n"
     ]
    }
   ],
   "source": [
    "graph_nodes += str(nodes_list) + \";\"\n",
    "print(graph_nodes)"
   ]
  },
  {
   "cell_type": "code",
   "execution_count": 48,
   "metadata": {},
   "outputs": [
    {
     "name": "stdout",
     "output_type": "stream",
     "text": [
      "{'바이러스': 0, '유전자': 1, '대상': 2, '승인': 3, '코로나': 4, '개발': 5, '임상': 6, '업계': 7, '계획': 8, '효능': 9, '다국적': 10, '고령자': 11, '평가': 12, '확대': 13, '백신': 14, '지난해': 15, '기술': 16, '공동': 17, '강남': 18}\n"
     ]
    }
   ],
   "source": [
    "print(reverse_graph) # graph_nodes를 뒤집어서 저장, 예를 들어  label명 : id명"
   ]
  },
  {
   "cell_type": "code",
   "execution_count": 49,
   "metadata": {},
   "outputs": [],
   "source": [
    "edges_list = []\n",
    "\n",
    "edge_max = 0.0\n",
    "edge_min = 1.0\n",
    "\n",
    "for edge in G.edges(data='weight'):\n",
    "#     print(\"step: \" + edge[2])\n",
    "    tmp = float(edge[2])\n",
    "\n",
    "    #최댓값 저장\n",
    "    if(edge_max <= tmp):\n",
    "        edge_max = tmp\n",
    "    \n",
    "    #최솟값 저장\n",
    "    if(edge_min >= tmp):\n",
    "        edge_min = tmp\n",
    "        \n",
    "#     print(\"edge_max: \" + str(edge_max))\n",
    "#     print(\"edge_min: \" + str(edge_min))\n",
    "#     print()"
   ]
  },
  {
   "cell_type": "code",
   "execution_count": 50,
   "metadata": {},
   "outputs": [],
   "source": [
    "# edges는 {'hemp', 'cannabi', '3.21'}형태\n",
    "for edge in G.edges(data='weight'):\n",
    "    tmp = dict()\n",
    "    tmp['from']   = reverse_graph.get(edge[0])     # 'hemp'검색시 인덱스값\n",
    "    tmp['to']     = reverse_graph.get(edge[1])     # 'cannabi'검색시 인덱스값\n",
    "    tmp['label']  = edge[2]                        # 가중치 저장\n",
    "    \n",
    "    # 최댓값 범위\n",
    "    scale_max_value = 1.0\n",
    "    length = float(edge[2])\n",
    "    \n",
    "#     convert_edge_min = scale_max_value - edge_max\n",
    "#     minmax_scale = ((length - convert_edge_min) / (edge_max - edge_min)) * 500        # 길이를 min max 스케일링\n",
    "#     tmp['value']  = round(minmax_scale, 2)         # Edge 두께를 가중치의 크기에 따라 변경(숫자가 클수록 두껍게)\n",
    "  \n",
    "    length = scale_max_value - float(edge[2])\n",
    "    tmp['length'] = round(length * 800 + 100, 2)    # Edge 길이를 min max 스케일링\n",
    "    \n",
    "    tmp['color'] = \"#d3d3d3\"                      \n",
    "\n",
    "    edges_list.append(tmp)"
   ]
  },
  {
   "cell_type": "code",
   "execution_count": 51,
   "metadata": {},
   "outputs": [
    {
     "name": "stdout",
     "output_type": "stream",
     "text": [
      "var edges = [{'from': 0, 'to': 1, 'label': '0.91', 'length': 172.0, 'color': '#d3d3d3'}, {'from': 0, 'to': 14, 'label': '0.714', 'length': 328.8, 'color': '#d3d3d3'}, {'from': 0, 'to': 16, 'label': '0.526', 'length': 479.2, 'color': '#d3d3d3'}, {'from': 2, 'to': 3, 'label': '0.843', 'length': 225.6, 'color': '#d3d3d3'}, {'from': 2, 'to': 6, 'label': '0.749', 'length': 300.8, 'color': '#d3d3d3'}, {'from': 2, 'to': 12, 'label': '0.637', 'length': 390.4, 'color': '#d3d3d3'}, {'from': 3, 'to': 7, 'label': '0.749', 'length': 300.8, 'color': '#d3d3d3'}, {'from': 3, 'to': 15, 'label': '0.571', 'length': 443.2, 'color': '#d3d3d3'}, {'from': 4, 'to': 5, 'label': '0.761', 'length': 291.2, 'color': '#d3d3d3'}, {'from': 4, 'to': 14, 'label': '0.74', 'length': 308.0, 'color': '#d3d3d3'}, {'from': 5, 'to': 9, 'label': '0.571', 'length': 443.2, 'color': '#d3d3d3'}, {'from': 5, 'to': 15, 'label': '0.571', 'length': 443.2, 'color': '#d3d3d3'}, {'from': 6, 'to': 18, 'label': '0.493', 'length': 505.6, 'color': '#d3d3d3'}, {'from': 7, 'to': 8, 'label': '0.749', 'length': 300.8, 'color': '#d3d3d3'}, {'from': 9, 'to': 10, 'label': '0.749', 'length': 300.8, 'color': '#d3d3d3'}, {'from': 11, 'to': 12, 'label': '0.749', 'length': 300.8, 'color': '#d3d3d3'}, {'from': 11, 'to': 13, 'label': '0.749', 'length': 300.8, 'color': '#d3d3d3'}, {'from': 14, 'to': 17, 'label': '0.509', 'length': 492.8, 'color': '#d3d3d3'}];\n"
     ]
    }
   ],
   "source": [
    "graph_edges += str(edges_list) + \";\"\n",
    "print(graph_edges)"
   ]
  },
  {
   "cell_type": "code",
   "execution_count": 52,
   "metadata": {},
   "outputs": [],
   "source": [
    "graph_data = graph_nodes + \"\\n\\n\" + graph_edges"
   ]
  },
  {
   "cell_type": "code",
   "execution_count": 53,
   "metadata": {},
   "outputs": [
    {
     "name": "stdout",
     "output_type": "stream",
     "text": [
      "var nodes = [{'id': 0, 'label': '바이러스', 'degree': 3, 'color': '#97C2FC'}, {'id': 1, 'label': '유전자', 'degree': 1, 'color': '#97C2FC'}, {'id': 2, 'label': '대상', 'degree': 3, 'color': '#97C2FC'}, {'id': 3, 'label': '승인', 'degree': 3, 'color': '#97C2FC'}, {'id': 4, 'label': '코로나', 'degree': 2, 'color': '#97C2FC'}, {'id': 5, 'label': '개발', 'degree': 3, 'color': '#97C2FC'}, {'id': 6, 'label': '임상', 'degree': 2, 'color': '#97C2FC'}, {'id': 7, 'label': '업계', 'degree': 2, 'color': '#97C2FC'}, {'id': 8, 'label': '계획', 'degree': 1, 'color': '#97C2FC'}, {'id': 9, 'label': '효능', 'degree': 2, 'color': '#97C2FC'}, {'id': 10, 'label': '다국적', 'degree': 1, 'color': '#97C2FC'}, {'id': 11, 'label': '고령자', 'degree': 2, 'color': '#97C2FC'}, {'id': 12, 'label': '평가', 'degree': 2, 'color': '#97C2FC'}, {'id': 13, 'label': '확대', 'degree': 1, 'color': '#97C2FC'}, {'id': 14, 'label': '백신', 'degree': 3, 'color': '#97C2FC'}, {'id': 15, 'label': '지난해', 'degree': 2, 'color': '#97C2FC'}, {'id': 16, 'label': '기술', 'degree': 1, 'color': '#97C2FC'}, {'id': 17, 'label': '공동', 'degree': 1, 'color': '#97C2FC'}, {'id': 18, 'label': '강남', 'degree': 1, 'color': '#97C2FC'}];\n",
      "\n",
      "var edges = [{'from': 0, 'to': 1, 'label': '0.91', 'length': 172.0, 'color': '#d3d3d3'}, {'from': 0, 'to': 14, 'label': '0.714', 'length': 328.8, 'color': '#d3d3d3'}, {'from': 0, 'to': 16, 'label': '0.526', 'length': 479.2, 'color': '#d3d3d3'}, {'from': 2, 'to': 3, 'label': '0.843', 'length': 225.6, 'color': '#d3d3d3'}, {'from': 2, 'to': 6, 'label': '0.749', 'length': 300.8, 'color': '#d3d3d3'}, {'from': 2, 'to': 12, 'label': '0.637', 'length': 390.4, 'color': '#d3d3d3'}, {'from': 3, 'to': 7, 'label': '0.749', 'length': 300.8, 'color': '#d3d3d3'}, {'from': 3, 'to': 15, 'label': '0.571', 'length': 443.2, 'color': '#d3d3d3'}, {'from': 4, 'to': 5, 'label': '0.761', 'length': 291.2, 'color': '#d3d3d3'}, {'from': 4, 'to': 14, 'label': '0.74', 'length': 308.0, 'color': '#d3d3d3'}, {'from': 5, 'to': 9, 'label': '0.571', 'length': 443.2, 'color': '#d3d3d3'}, {'from': 5, 'to': 15, 'label': '0.571', 'length': 443.2, 'color': '#d3d3d3'}, {'from': 6, 'to': 18, 'label': '0.493', 'length': 505.6, 'color': '#d3d3d3'}, {'from': 7, 'to': 8, 'label': '0.749', 'length': 300.8, 'color': '#d3d3d3'}, {'from': 9, 'to': 10, 'label': '0.749', 'length': 300.8, 'color': '#d3d3d3'}, {'from': 11, 'to': 12, 'label': '0.749', 'length': 300.8, 'color': '#d3d3d3'}, {'from': 11, 'to': 13, 'label': '0.749', 'length': 300.8, 'color': '#d3d3d3'}, {'from': 14, 'to': 17, 'label': '0.509', 'length': 492.8, 'color': '#d3d3d3'}];\n"
     ]
    }
   ],
   "source": [
    "print(graph_data)"
   ]
  },
  {
   "cell_type": "code",
   "execution_count": 54,
   "metadata": {},
   "outputs": [
    {
     "name": "stdout",
     "output_type": "stream",
     "text": [
      "카이스트_1.js 파일 생성 완료\n"
     ]
    }
   ],
   "source": [
    "f = open(\"./results/result_webgraph/data/\" + file_name + \".js\", 'w', encoding = 'utf8')\n",
    "f.write(graph_data)\n",
    "f.close()\n",
    "print(file_name + \".js 파일 생성 완료\")"
   ]
  },
  {
   "cell_type": "markdown",
   "metadata": {},
   "source": [
    "### 2. keyword.html"
   ]
  },
  {
   "cell_type": "code",
   "execution_count": 55,
   "metadata": {},
   "outputs": [],
   "source": [
    "html_top = \"\"\"\n",
    "<!doctype html>\n",
    "<html>\n",
    "<head>\n",
    "\t<title>Knowledge Structure</title>\n",
    "    \"\"\""
   ]
  },
  {
   "cell_type": "code",
   "execution_count": 56,
   "metadata": {},
   "outputs": [],
   "source": [
    "vis_location = \"\"\"<script type=\"text/javascript\" src=\"../../lib/drawing/vis.js\"></script>\n",
    "    \"\"\""
   ]
  },
  {
   "cell_type": "code",
   "execution_count": 57,
   "metadata": {},
   "outputs": [],
   "source": [
    "js_location = \"\"\"<script src=\"../../results/result_webgraph/data/\"\"\" + file_name + \"\"\".js\" charset=\"utf-8\">\n",
    "    </script>\n",
    "    <style type=\"text/css\">#mynetwork \n",
    "        {width: 100%;height: 1000px;border: 1px solid lightgray;}\n",
    "    </style>\n",
    "</head>\n",
    "<body>\n",
    "    \"\"\""
   ]
  },
  {
   "cell_type": "code",
   "execution_count": 58,
   "metadata": {},
   "outputs": [],
   "source": [
    "title = \"\"\"<p> Cheonsol of Knowledge Structure.</p>\"\"\""
   ]
  },
  {
   "cell_type": "code",
   "execution_count": 59,
   "metadata": {},
   "outputs": [],
   "source": [
    "body = \"\"\"\n",
    "    <div id=\"mynetwork\"></div>\n",
    "\t<script type=\"text/javascript\">\n",
    "\t\tvar container = document.getElementById('mynetwork');\n",
    "\t\tvar data = { nodes: nodes, edges: edges }; \"\"\""
   ]
  },
  {
   "cell_type": "code",
   "execution_count": 60,
   "metadata": {},
   "outputs": [],
   "source": [
    "option = \"\"\"\n",
    "        var options = \n",
    "        { \"nodes\": {\"shape\" : \"circle\",\n",
    "                    \"font\":{\"size\": 35}},\n",
    "        \"edges\": {\"scaling\":{\"max\":70}, \"font\": {\"size\" : 40}, \n",
    "            \"smooth\": {\"type\":\"continuous\",\"roundness\": 0.5}},\n",
    "            \"physics\": {\"barnesHut\": {\"centralGravity\": 0.001},\n",
    "            \"minVelocity\": 0.75}};\n",
    "        \"\"\""
   ]
  },
  {
   "cell_type": "code",
   "execution_count": 61,
   "metadata": {},
   "outputs": [],
   "source": [
    "bottom = \"\"\"var network = new vis.Network(container, data, options);\n",
    "\t</script>\n",
    "</body>\n",
    "</html>\n",
    "\"\"\""
   ]
  },
  {
   "cell_type": "code",
   "execution_count": 62,
   "metadata": {},
   "outputs": [],
   "source": [
    "html_text = html_top + vis_location + js_location + title + body + option + bottom"
   ]
  },
  {
   "cell_type": "code",
   "execution_count": 63,
   "metadata": {},
   "outputs": [
    {
     "data": {
      "text/plain": [
       "'\\n<!doctype html>\\n<html>\\n<head>\\n\\t<title>Knowledge Structure</title>\\n    <script type=\"text/javascript\" src=\"../../lib/drawing/vis.js\"></script>\\n    <script src=\"../../results/result_webgraph/data/카이스트_1.js\" charset=\"utf-8\">\\n    </script>\\n    <style type=\"text/css\">#mynetwork \\n        {width: 100%;height: 1000px;border: 1px solid lightgray;}\\n    </style>\\n</head>\\n<body>\\n    <p> Cheonsol of Knowledge Structure.</p>\\n    <div id=\"mynetwork\"></div>\\n\\t<script type=\"text/javascript\">\\n\\t\\tvar container = document.getElementById(\\'mynetwork\\');\\n\\t\\tvar data = { nodes: nodes, edges: edges }; \\n        var options = \\n        { \"nodes\": {\"shape\" : \"circle\",\\n                    \"font\":{\"size\": 35}},\\n        \"edges\": {\"scaling\":{\"max\":70}, \"font\": {\"size\" : 40}, \\n            \"smooth\": {\"type\":\"continuous\",\"roundness\": 0.5}},\\n            \"physics\": {\"barnesHut\": {\"centralGravity\": 0.001},\\n            \"minVelocity\": 0.75}};\\n        var network = new vis.Network(container, data, options);\\n\\t</script>\\n</body>\\n</html>\\n'"
      ]
     },
     "execution_count": 63,
     "metadata": {},
     "output_type": "execute_result"
    }
   ],
   "source": [
    "html_text"
   ]
  },
  {
   "cell_type": "code",
   "execution_count": 64,
   "metadata": {},
   "outputs": [
    {
     "name": "stdout",
     "output_type": "stream",
     "text": [
      "카이스트_1.html 파일 생성 완료\n"
     ]
    }
   ],
   "source": [
    "html_file = open('./results/result_webgraph/' + file_name + '.html', 'w')\n",
    "html_file.write(html_text)\n",
    "html_file.close()\n",
    "print(file_name + \".html 파일 생성 완료\")"
   ]
  },
  {
   "cell_type": "code",
   "execution_count": null,
   "metadata": {},
   "outputs": [],
   "source": []
  },
  {
   "cell_type": "code",
   "execution_count": null,
   "metadata": {},
   "outputs": [],
   "source": []
  },
  {
   "cell_type": "code",
   "execution_count": null,
   "metadata": {},
   "outputs": [],
   "source": []
  }
 ],
 "metadata": {
  "kernelspec": {
   "display_name": "Python 3",
   "language": "python",
   "name": "python3"
  },
  "language_info": {
   "codemirror_mode": {
    "name": "ipython",
    "version": 3
   },
   "file_extension": ".py",
   "mimetype": "text/x-python",
   "name": "python",
   "nbconvert_exporter": "python",
   "pygments_lexer": "ipython3",
   "version": "3.8.5"
  }
 },
 "nbformat": 4,
 "nbformat_minor": 4
}
